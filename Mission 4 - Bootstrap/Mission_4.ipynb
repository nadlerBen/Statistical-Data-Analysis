{
 "cells": [
  {
   "cell_type": "code",
   "execution_count": 1,
   "metadata": {},
   "outputs": [
    {
     "name": "stderr",
     "output_type": "stream",
     "text": [
      "/usr/local/lib/python3.7/site-packages/statsmodels/compat/pandas.py:49: FutureWarning: The Panel class is removed from pandas. Accessing it from the top-level namespace will also be removed in the next version\n",
      "  data_klasses = (pandas.Series, pandas.DataFrame, pandas.Panel)\n"
     ]
    }
   ],
   "source": [
    "import pandas as pd\n",
    "import matplotlib.pyplot as plt\n",
    "import seaborn as sns\n",
    "import statsmodels.api as sm\n",
    "import numpy as np\n",
    "import math\n",
    "import random\n",
    "import seaborn as sns\n",
    "import scipy"
   ]
  },
  {
   "cell_type": "code",
   "execution_count": 3,
   "metadata": {},
   "outputs": [],
   "source": [
    "musicData = pd.read_csv('dataset-of-10s.csv')"
   ]
  },
  {
   "cell_type": "markdown",
   "metadata": {},
   "source": [
    "## Part 1 - Linear Regression"
   ]
  },
  {
   "cell_type": "markdown",
   "metadata": {},
   "source": [
    "Recall: our linear regression from mission 3"
   ]
  },
  {
   "cell_type": "code",
   "execution_count": 4,
   "metadata": {},
   "outputs": [],
   "source": [
    "modelData = musicData[['loudness','speechiness','key','valence']]\n",
    "sampledData = modelData.sample(200, random_state=1)"
   ]
  },
  {
   "cell_type": "code",
   "execution_count": 5,
   "metadata": {},
   "outputs": [],
   "source": [
    "def make_x_y(data, n=200):\n",
    "    x = data[:,[0,1,2]]\n",
    "    x = np.append(np.ones((n,1)), x, axis=1)\n",
    "    y = data[:, -1].copy()\n",
    "    return x,y"
   ]
  },
  {
   "cell_type": "code",
   "execution_count": 6,
   "metadata": {},
   "outputs": [],
   "source": [
    "x, y = make_x_y(sampledData.to_numpy())"
   ]
  },
  {
   "cell_type": "code",
   "execution_count": 7,
   "metadata": {},
   "outputs": [
    {
     "data": {
      "text/html": [
       "<table class=\"simpletable\">\n",
       "<caption>OLS Regression Results</caption>\n",
       "<tr>\n",
       "  <th>Dep. Variable:</th>            <td>y</td>        <th>  R-squared:         </th> <td>   0.092</td>\n",
       "</tr>\n",
       "<tr>\n",
       "  <th>Model:</th>                   <td>OLS</td>       <th>  Adj. R-squared:    </th> <td>   0.078</td>\n",
       "</tr>\n",
       "<tr>\n",
       "  <th>Method:</th>             <td>Least Squares</td>  <th>  F-statistic:       </th> <td>   6.603</td>\n",
       "</tr>\n",
       "<tr>\n",
       "  <th>Date:</th>             <td>Sun, 21 Jun 2020</td> <th>  Prob (F-statistic):</th> <td>0.000284</td>\n",
       "</tr>\n",
       "<tr>\n",
       "  <th>Time:</th>                 <td>16:26:50</td>     <th>  Log-Likelihood:    </th> <td>-0.74965</td>\n",
       "</tr>\n",
       "<tr>\n",
       "  <th>No. Observations:</th>      <td>   200</td>      <th>  AIC:               </th> <td>   9.499</td>\n",
       "</tr>\n",
       "<tr>\n",
       "  <th>Df Residuals:</th>          <td>   196</td>      <th>  BIC:               </th> <td>   22.69</td>\n",
       "</tr>\n",
       "<tr>\n",
       "  <th>Df Model:</th>              <td>     3</td>      <th>                     </th>     <td> </td>   \n",
       "</tr>\n",
       "<tr>\n",
       "  <th>Covariance Type:</th>      <td>nonrobust</td>    <th>                     </th>     <td> </td>   \n",
       "</tr>\n",
       "</table>\n",
       "<table class=\"simpletable\">\n",
       "<tr>\n",
       "    <td></td>       <th>coef</th>     <th>std err</th>      <th>t</th>      <th>P>|t|</th>  <th>[0.025</th>    <th>0.975]</th>  \n",
       "</tr>\n",
       "<tr>\n",
       "  <th>const</th> <td>    0.5254</td> <td>    0.043</td> <td>   12.111</td> <td> 0.000</td> <td>    0.440</td> <td>    0.611</td>\n",
       "</tr>\n",
       "<tr>\n",
       "  <th>x1</th>    <td>    0.0123</td> <td>    0.003</td> <td>    4.276</td> <td> 0.000</td> <td>    0.007</td> <td>    0.018</td>\n",
       "</tr>\n",
       "<tr>\n",
       "  <th>x2</th>    <td>    0.0085</td> <td>    0.190</td> <td>    0.045</td> <td> 0.965</td> <td>   -0.366</td> <td>    0.383</td>\n",
       "</tr>\n",
       "<tr>\n",
       "  <th>x3</th>    <td>    0.0031</td> <td>    0.005</td> <td>    0.668</td> <td> 0.505</td> <td>   -0.006</td> <td>    0.012</td>\n",
       "</tr>\n",
       "</table>\n",
       "<table class=\"simpletable\">\n",
       "<tr>\n",
       "  <th>Omnibus:</th>       <td>14.347</td> <th>  Durbin-Watson:     </th> <td>   1.862</td>\n",
       "</tr>\n",
       "<tr>\n",
       "  <th>Prob(Omnibus):</th> <td> 0.001</td> <th>  Jarque-Bera (JB):  </th> <td>   6.578</td>\n",
       "</tr>\n",
       "<tr>\n",
       "  <th>Skew:</th>          <td> 0.209</td> <th>  Prob(JB):          </th> <td>  0.0373</td>\n",
       "</tr>\n",
       "<tr>\n",
       "  <th>Kurtosis:</th>      <td> 2.216</td> <th>  Cond. No.          </th> <td>    120.</td>\n",
       "</tr>\n",
       "</table><br/><br/>Warnings:<br/>[1] Standard Errors assume that the covariance matrix of the errors is correctly specified."
      ],
      "text/plain": [
       "<class 'statsmodels.iolib.summary.Summary'>\n",
       "\"\"\"\n",
       "                            OLS Regression Results                            \n",
       "==============================================================================\n",
       "Dep. Variable:                      y   R-squared:                       0.092\n",
       "Model:                            OLS   Adj. R-squared:                  0.078\n",
       "Method:                 Least Squares   F-statistic:                     6.603\n",
       "Date:                Sun, 21 Jun 2020   Prob (F-statistic):           0.000284\n",
       "Time:                        16:26:50   Log-Likelihood:               -0.74965\n",
       "No. Observations:                 200   AIC:                             9.499\n",
       "Df Residuals:                     196   BIC:                             22.69\n",
       "Df Model:                           3                                         \n",
       "Covariance Type:            nonrobust                                         \n",
       "==============================================================================\n",
       "                 coef    std err          t      P>|t|      [0.025      0.975]\n",
       "------------------------------------------------------------------------------\n",
       "const          0.5254      0.043     12.111      0.000       0.440       0.611\n",
       "x1             0.0123      0.003      4.276      0.000       0.007       0.018\n",
       "x2             0.0085      0.190      0.045      0.965      -0.366       0.383\n",
       "x3             0.0031      0.005      0.668      0.505      -0.006       0.012\n",
       "==============================================================================\n",
       "Omnibus:                       14.347   Durbin-Watson:                   1.862\n",
       "Prob(Omnibus):                  0.001   Jarque-Bera (JB):                6.578\n",
       "Skew:                           0.209   Prob(JB):                       0.0373\n",
       "Kurtosis:                       2.216   Cond. No.                         120.\n",
       "==============================================================================\n",
       "\n",
       "Warnings:\n",
       "[1] Standard Errors assume that the covariance matrix of the errors is correctly specified.\n",
       "\"\"\""
      ]
     },
     "execution_count": 7,
     "metadata": {},
     "output_type": "execute_result"
    }
   ],
   "source": [
    "linreg = sm.OLS(y,x).fit()\n",
    "linreg.summary()"
   ]
  },
  {
   "cell_type": "markdown",
   "metadata": {},
   "source": [
    "#### We got the following model:\n",
    "$$ Y_{valence}=0.5254 + 0.0123x_{loudness} + 0.0085x_{speechiness} + 0.0031x_{key} $$\n",
    "$$ \\hat\\beta_{sample}=(0.5254, 0.0123, 0.0085, 0.0031) $$"
   ]
  },
  {
   "cell_type": "markdown",
   "metadata": {},
   "source": [
    "### Question 1"
   ]
  },
  {
   "cell_type": "code",
   "execution_count": 8,
   "metadata": {},
   "outputs": [],
   "source": [
    "# for this mission we define B and alpha\n",
    "B = 400\n",
    "alpha = 0.05"
   ]
  },
  {
   "cell_type": "code",
   "execution_count": 9,
   "metadata": {},
   "outputs": [],
   "source": [
    "mu_hat = np.divide(np.sum(x),len(x))\n",
    "sigma2_hat = np.divide(np.sum([np.power(xi - mu_hat, 2) for xi in x]), len(x) - 1)\n",
    "sigma_hat = np.sqrt(sigma2_hat)"
   ]
  },
  {
   "cell_type": "code",
   "execution_count": 10,
   "metadata": {},
   "outputs": [],
   "source": [
    "def regular_bootstrap(data, B):\n",
    "    se_list = []\n",
    "    params = []\n",
    "    for _ in range(B):\n",
    "        samples = data.sample(200, replace=True)\n",
    "        x, y = make_x_y(samples.to_numpy())\n",
    "        linear_reg = sm.OLS(y, x).fit()\n",
    "        se_list.append(linear_reg.ssr/linear_reg.df_resid)\n",
    "        params.append(linear_reg.params)\n",
    "    return se_list, params"
   ]
  },
  {
   "cell_type": "code",
   "execution_count": 11,
   "metadata": {},
   "outputs": [],
   "source": [
    "beta_confidence_intervals = []"
   ]
  },
  {
   "cell_type": "markdown",
   "metadata": {},
   "source": [
    "#### Question 1A"
   ]
  },
  {
   "cell_type": "code",
   "execution_count": 12,
   "metadata": {},
   "outputs": [],
   "source": [
    "def beta_confidence_interval(x, beta, z_normal, i):\n",
    "    C = np.linalg.inv(np.dot(x.T, x))\n",
    "    left_limit = beta - z_normal * np.sqrt((linreg.ssr/linreg.df_resid) * C[i][i])\n",
    "    right_limit = beta + z_normal * np.sqrt((linreg.ssr/linreg.df_resid) * C[i][i])\n",
    "    return [left_limit.tolist(), right_limit.tolist()]"
   ]
  },
  {
   "cell_type": "code",
   "execution_count": 13,
   "metadata": {},
   "outputs": [
    {
     "name": "stdout",
     "output_type": "stream",
     "text": [
      "beta^0=0.5254153342406156, CI=[0.44038411425910284, 0.6104465542221283]\n",
      "beta^1=0.0122954389510142, CI=[0.006659896096373009, 0.01793098180565539]\n",
      "beta^2=0.008456845979437633, CI=[-0.3635978165116919, 0.38051150847056714]\n",
      "beta^3=0.0031338680594543353, CI=[-0.006060523255492296, 0.012328259374400966]\n"
     ]
    }
   ],
   "source": [
    "normal_aprox_ci = []\n",
    "for i, beta_hat in enumerate(linreg.params):\n",
    "    norm_ci = beta_confidence_interval(x, linreg.params[i], 1.96, i)\n",
    "    normal_aprox_ci.append(norm_ci)\n",
    "    print(f'beta^{i}={beta_hat}, CI={norm_ci}')\n",
    "beta_confidence_intervals.append(normal_aprox_ci)"
   ]
  },
  {
   "cell_type": "markdown",
   "metadata": {},
   "source": [
    "#### Question 1B"
   ]
  },
  {
   "cell_type": "code",
   "execution_count": 14,
   "metadata": {},
   "outputs": [],
   "source": [
    "def beta_normal_aprox_ci(beta_hat, vars_beta, z_normal, B):\n",
    "    params_i = [param[index] for param in params]\n",
    "    se_hat_boot = np.sqrt((1/B)*np.sum([beta_boot_i**2 for beta_boot_i in params_i])-((1/B)*np.sum(params_i))**2)\n",
    "    return [beta_hat - z_normal * se_hat_boot, beta_hat + z_normal * se_hat_boot]"
   ]
  },
  {
   "cell_type": "code",
   "execution_count": 15,
   "metadata": {},
   "outputs": [
    {
     "name": "stdout",
     "output_type": "stream",
     "text": [
      "beta^0=0.5254153342406156, CI=[0.443094484394017, 0.6077361840872142]\n",
      "beta^1=0.0122954389510142, CI=[0.0065758082271324585, 0.018015069674895943]\n",
      "beta^2=0.008456845979437633, CI=[-0.3891689566719397, 0.40608264863081495]\n",
      "beta^3=0.0031338680594543353, CI=[-0.005266647397880932, 0.011534383516789603]\n"
     ]
    }
   ],
   "source": [
    "_, params = regular_bootstrap(sampledData, B)\n",
    "boot_normal_aprox_ci = []\n",
    "for index, beta_hat in enumerate(linreg.params): \n",
    "    boot_normal_ci = beta_normal_aprox_ci(beta_hat, params, 1.96, B)\n",
    "    boot_normal_aprox_ci.append(boot_normal_ci)\n",
    "    print(f'beta^{index}={beta_hat}, CI={boot_normal_ci}')\n",
    "beta_confidence_intervals.append(boot_normal_aprox_ci)"
   ]
  },
  {
   "cell_type": "markdown",
   "metadata": {},
   "source": [
    "#### Question 1C"
   ]
  },
  {
   "cell_type": "code",
   "execution_count": 16,
   "metadata": {},
   "outputs": [],
   "source": [
    "def pivotal_confidence_interval(beta_hat, params, alpha, index):\n",
    "    params_i = [param[index] for param in params]\n",
    "    return [2 * beta_hat - np.percentile(params_i, 100 - (alpha*100)/2), 2 * beta_hat - np.percentile(params_i, (alpha*100)/2)]"
   ]
  },
  {
   "cell_type": "code",
   "execution_count": 17,
   "metadata": {},
   "outputs": [
    {
     "name": "stdout",
     "output_type": "stream",
     "text": [
      "beta^0=0.5254153342406156, CI=[0.43377047777968714, 0.5979650137479255]\n",
      "beta^1=0.0122954389510142, CI=[0.006390148354267114, 0.017752527961162157]\n",
      "beta^2=0.008456845979437633, CI=[-0.31533794757495337, 0.42685591901118763]\n",
      "beta^3=0.0031338680594543353, CI=[-0.005718041668004374, 0.011809981236222622]\n"
     ]
    }
   ],
   "source": [
    "_, params = regular_bootstrap(sampledData, B)\n",
    "pivotal_ci = []\n",
    "for index, beta_hat in enumerate(linreg.params): \n",
    "    piv_ci = pivotal_confidence_interval(beta_hat, params, alpha, index)\n",
    "    pivotal_ci.append(piv_ci)\n",
    "    print(f'beta^{index}={beta_hat}, CI={piv_ci}')\n",
    "beta_confidence_intervals.append(pivotal_ci)"
   ]
  },
  {
   "cell_type": "markdown",
   "metadata": {},
   "source": [
    "#### Question 1D"
   ]
  },
  {
   "cell_type": "code",
   "execution_count": 18,
   "metadata": {},
   "outputs": [],
   "source": [
    "def bootstrap_pencentile_ci(params, alpha, index):\n",
    "    params_i = [param[index] for param in params]\n",
    "    return [np.percentile(params_i, (alpha*100)/2), np.percentile(params_i, 100 - (alpha*100)/2)]"
   ]
  },
  {
   "cell_type": "code",
   "execution_count": 19,
   "metadata": {},
   "outputs": [
    {
     "name": "stdout",
     "output_type": "stream",
     "text": [
      "beta^0=0.5254153342406156, CI=[0.4439194461020596, 0.6077180410029722]\n",
      "beta^1=0.0122954389510142, CI=[0.0062232391104840796, 0.017946238034129616]\n",
      "beta^2=0.008456845979437633, CI=[-0.40218923625142594, 0.31856436205202904]\n",
      "beta^3=0.0031338680594543353, CI=[-0.005422512979008035, 0.013406694908892609]\n"
     ]
    }
   ],
   "source": [
    "_, params = regular_bootstrap(sampledData, B)\n",
    "percentile_ci = []\n",
    "for index, beta_hat in enumerate(linreg.params): \n",
    "    percent_ci = bootstrap_pencentile_ci(params, alpha, index)\n",
    "    percentile_ci.append(percent_ci)\n",
    "    print(f'beta^{index}={beta_hat}, CI={percent_ci}')\n",
    "beta_confidence_intervals.append(percentile_ci)"
   ]
  },
  {
   "cell_type": "markdown",
   "metadata": {},
   "source": [
    "### Question 2"
   ]
  },
  {
   "cell_type": "code",
   "execution_count": 20,
   "metadata": {},
   "outputs": [],
   "source": [
    "matrix = modelData.to_numpy()\n",
    "xfull = matrix[:,[0,1,2]]\n",
    "xfull = np.append(np.ones((len(xfull),1)), xfull, axis=1)\n",
    "yfull = matrix[:, -1].copy()\n",
    "full_model = sm.OLS(yfull, xfull).fit()"
   ]
  },
  {
   "cell_type": "code",
   "execution_count": 21,
   "metadata": {},
   "outputs": [],
   "source": [
    "def calc_ci_percentage(ci, beta):\n",
    "    percentage = 0\n",
    "    for index in range(len(ci)):\n",
    "        if beta <= ci[index][1] and beta >= ci[index][0]:\n",
    "            percentage += 1\n",
    "    percentage = percentage / len(ci)\n",
    "    return percentage"
   ]
  },
  {
   "cell_type": "code",
   "execution_count": 22,
   "metadata": {},
   "outputs": [],
   "source": [
    "def ci_boxplot(intervals):\n",
    "    for index, beta in enumerate(full_model.params):\n",
    "        ci_intervals = [interval[index] for interval in intervals]\n",
    "        print(f\"number of interval that cover the beta{index}={beta}: {calc_ci_percentage(ci_intervals, beta) * len(ci_intervals)}\")\n",
    "        plt.figure(figsize=(5,5))\n",
    "        # plot box plots of each sample mean.\n",
    "        plt.boxplot(ci_intervals)\n",
    "        plt.plot([1, len(ci_intervals)],[beta,beta], 'k-', lw=1, color='red')\n",
    "        plt.show()"
   ]
  },
  {
   "cell_type": "code",
   "execution_count": 23,
   "metadata": {},
   "outputs": [
    {
     "name": "stdout",
     "output_type": "stream",
     "text": [
      "number of interval that cover the beta0=0.5497194749387274: 4.0\n"
     ]
    },
    {
     "data": {
      "image/png": "[encoded data removed]",
      "text/plain": [
       "<Figure size 360x360 with 1 Axes>"
      ]
     },
     "metadata": {
      "needs_background": "light"
     },
     "output_type": "display_data"
    },
    {
     "name": "stdout",
     "output_type": "stream",
     "text": [
      "number of interval that cover the beta1=0.015170285752257049: 4.0\n"
     ]
    },
    {
     "data": {
      "image/png": "[encoded data removed]",
      "text/plain": [
       "<Figure size 360x360 with 1 Axes>"
      ]
     },
     "metadata": {
      "needs_background": "light"
     },
     "output_type": "display_data"
    },
    {
     "name": "stdout",
     "output_type": "stream",
     "text": [
      "number of interval that cover the beta2=0.03551600892959615: 4.0\n"
     ]
    },
    {
     "data": {
      "image/png": "[encoded data removed]",
      "text/plain": [
       "<Figure size 360x360 with 1 Axes>"
      ]
     },
     "metadata": {
      "needs_background": "light"
     },
     "output_type": "display_data"
    },
    {
     "name": "stdout",
     "output_type": "stream",
     "text": [
      "number of interval that cover the beta3=0.0010737015171123543: 4.0\n"
     ]
    },
    {
     "data": {
      "image/png": "[encoded data removed]",
      "text/plain": [
       "<Figure size 360x360 with 1 Axes>"
      ]
     },
     "metadata": {
      "needs_background": "light"
     },
     "output_type": "display_data"
    }
   ],
   "source": [
    "ci_boxplot(beta_confidence_intervals)"
   ]
  },
  {
   "cell_type": "markdown",
   "metadata": {},
   "source": [
    "### Question 3"
   ]
  },
  {
   "cell_type": "code",
   "execution_count": 24,
   "metadata": {},
   "outputs": [],
   "source": [
    "smallerSampledData = pd.concat([modelData, sampledData]).drop_duplicates(keep=False).sample(100, random_state=1)"
   ]
  },
  {
   "cell_type": "code",
   "execution_count": 25,
   "metadata": {},
   "outputs": [],
   "source": [
    "matrix_new = smallerSampledData.to_numpy()\n",
    "x_new = matrix_new[:,[0,1,2]]\n",
    "x_new = np.append(np.ones((100,1)), x_new, axis=1)\n",
    "y_new = matrix_new[:, -1].copy()"
   ]
  },
  {
   "cell_type": "markdown",
   "metadata": {},
   "source": [
    "#### Question 3A"
   ]
  },
  {
   "cell_type": "code",
   "execution_count": 26,
   "metadata": {},
   "outputs": [],
   "source": [
    "y_pred_new = linreg.predict(x_new)"
   ]
  },
  {
   "cell_type": "markdown",
   "metadata": {},
   "source": [
    "#### Question 3B"
   ]
  },
  {
   "cell_type": "markdown",
   "metadata": {},
   "source": [
    "We learned that $ \\hat E[Y_{new}|X_{new}]=\\hat Y_{new} $ and we will use it in our bootstrap CI."
   ]
  },
  {
   "cell_type": "code",
   "execution_count": 27,
   "metadata": {},
   "outputs": [],
   "source": [
    "def expectation_bootstrap(data, B, x_new):\n",
    "    expectations = []\n",
    "    for _ in range(B):\n",
    "        samples = data.sample(200, replace=True)\n",
    "        x, y = make_x_y(samples.to_numpy())\n",
    "        bootstrap_linreg = sm.OLS(y, x).fit()\n",
    "        y_pred = bootstrap_linreg.predict(x_new)\n",
    "        expectations.append(y_pred)\n",
    "    return expectations"
   ]
  },
  {
   "cell_type": "code",
   "execution_count": 28,
   "metadata": {},
   "outputs": [],
   "source": [
    "def expectation_ci(y_hat, expectations, alpha, index):\n",
    "    expectation_i = [expectation[index] for expectation in expectations]\n",
    "    return [2 * y_hat - np.percentile(expectation_i, 100 - (alpha*100)/2), 2 * y_hat - np.percentile(expectation_i, (alpha*100)/2)]"
   ]
  },
  {
   "cell_type": "code",
   "execution_count": 29,
   "metadata": {},
   "outputs": [],
   "source": [
    "expectations = expectation_bootstrap(sampledData, B, x_new)\n",
    "\n",
    "expectations_ci = []\n",
    "\n",
    "for index in range(len(x_new)):\n",
    "    expectations_ci.append(expectation_ci(y_pred_new[index], expectations, alpha, index))"
   ]
  },
  {
   "cell_type": "markdown",
   "metadata": {},
   "source": [
    "#### Question 3C"
   ]
  },
  {
   "cell_type": "code",
   "execution_count": 30,
   "metadata": {},
   "outputs": [
    {
     "name": "stdout",
     "output_type": "stream",
     "text": [
      "out of our 100 samples 24.0% of the real y value are inside their respected ci\n"
     ]
    }
   ],
   "source": [
    "def calc_ci_percentage(ci, y_new):\n",
    "    percentage = 0\n",
    "    for index in range(len(x_new)):\n",
    "        if y_new[index] <= ci[index][1] and y_new[index] >= ci[index][0]:\n",
    "            percentage += 1\n",
    "    percentage = percentage / len(ci)\n",
    "    return percentage\n",
    "print('out of our 100 samples {}% of the real y value are inside their respected ci'.format(calc_ci_percentage(expectations_ci, y_new)*100))"
   ]
  },
  {
   "cell_type": "code",
   "execution_count": 31,
   "metadata": {},
   "outputs": [
    {
     "name": "stdout",
     "output_type": "stream",
     "text": [
      "number of intervals that cover the expected values: 24.0\n"
     ]
    },
    {
     "data": {
      "image/png": "[encoded data removed]",
      "text/plain": [
       "<Figure size 1440x720 with 1 Axes>"
      ]
     },
     "metadata": {
      "needs_background": "light"
     },
     "output_type": "display_data"
    }
   ],
   "source": [
    "print(\"number of intervals that cover the expected values:\", calc_ci_percentage(expectations_ci, y_new)*100)\n",
    "# set figure size.\n",
    "plt.figure(figsize=(20,10))\n",
    "# plot box plots of each sample mean.\n",
    "plt.boxplot(expectations_ci)\n",
    "plt.plot([1, 100],[y_new,y_new], 'k-', lw=1, color='red')\n",
    "# show plot.\n",
    "plt.show()"
   ]
  },
  {
   "cell_type": "markdown",
   "metadata": {},
   "source": [
    "## Part 2 - Tests"
   ]
  },
  {
   "cell_type": "markdown",
   "metadata": {},
   "source": [
    "### Question 1"
   ]
  },
  {
   "cell_type": "markdown",
   "metadata": {},
   "source": [
    "Is the distribution of $X_{key}:mode=major (1)$ bigger than the distribution of $X_{key}:mode=minor(0)$?"
   ]
  },
  {
   "cell_type": "markdown",
   "metadata": {},
   "source": [
    "### Question 2"
   ]
  },
  {
   "cell_type": "code",
   "execution_count": 32,
   "metadata": {},
   "outputs": [],
   "source": [
    "sampleData = musicData.sample(200, random_state=2)\n",
    "\n",
    "X = sampleData['key']\n",
    "Y = sampleData['mode']\n",
    "\n",
    "X_minor = sampleData[sampleData['mode'] == 0]['key']\n",
    "X_major = sampleData[sampleData['mode'] == 1]['key']"
   ]
  },
  {
   "cell_type": "markdown",
   "metadata": {},
   "source": [
    "### Question 3"
   ]
  },
  {
   "cell_type": "markdown",
   "metadata": {},
   "source": [
    "#### Question 3A"
   ]
  },
  {
   "cell_type": "code",
   "execution_count": 33,
   "metadata": {},
   "outputs": [],
   "source": [
    "mu_minor_MLE = np.divide(np.sum(X_minor), len(X_minor))\n",
    "mu_major_MLE = np.divide(np.sum(X_major), len(X_major))"
   ]
  },
  {
   "cell_type": "markdown",
   "metadata": {},
   "source": [
    "$\\mu_1=\\mu_{minor}, \\mu_2=\\mu_{major}$ <br>\n",
    "$\\delta = \\mu_{minor} - \\mu_{major} \\Rightarrow \\hat\\delta = \\hat \\mu_{minor} - \\hat \\mu_{major}$"
   ]
  },
  {
   "cell_type": "code",
   "execution_count": 34,
   "metadata": {},
   "outputs": [],
   "source": [
    "delta_MLE = mu_minor_MLE - mu_major_MLE"
   ]
  },
  {
   "cell_type": "markdown",
   "metadata": {},
   "source": [
    "We used two known MLEs to estimate our $\\mu$s and so $\\hat\\delta$ is an MLE too as an estimator that contains other MLEs"
   ]
  },
  {
   "cell_type": "markdown",
   "metadata": {},
   "source": [
    "#### Question 3B"
   ]
  },
  {
   "cell_type": "code",
   "execution_count": 35,
   "metadata": {},
   "outputs": [],
   "source": [
    "def delta_bootstrap(B, sampleData):\n",
    "    deltas = []\n",
    "    for _ in range(B):\n",
    "        data = sampleData.sample(200, replace=True)\n",
    "        samples_minor = data[data['mode'] == 0]['key']\n",
    "        samples_major = data[data['mode'] == 1]['key']\n",
    "        hat_delta = np.mean(samples_minor) - np.mean(samples_major)\n",
    "        deltas.append(hat_delta)\n",
    "    return deltas"
   ]
  },
  {
   "cell_type": "code",
   "execution_count": 36,
   "metadata": {},
   "outputs": [],
   "source": [
    "def delta_ci(alpha, deltas, delta_hat):\n",
    "    return [2 * delta_hat - np.percentile(deltas, 100 - (alpha*100)/2), 2 * delta_hat - np.percentile(deltas, (alpha*100)/2)]"
   ]
  },
  {
   "cell_type": "code",
   "execution_count": 37,
   "metadata": {},
   "outputs": [
    {
     "name": "stdout",
     "output_type": "stream",
     "text": [
      "delta^=1.8353532044983076, CI=[0.8515592948495021, 2.854118892035964]\n"
     ]
    }
   ],
   "source": [
    "deltas = delta_bootstrap(B, sampleData)\n",
    "delta_confidence_interval = delta_ci(alpha, deltas, delta_MLE)\n",
    "print(f'delta^={delta_MLE}, CI={delta_confidence_interval}')"
   ]
  },
  {
   "cell_type": "markdown",
   "metadata": {},
   "source": [
    "#### Question 3C"
   ]
  },
  {
   "cell_type": "code",
   "execution_count": 38,
   "metadata": {},
   "outputs": [],
   "source": [
    "Xfull_minor = musicData[musicData['mode'] == 0]['key']\n",
    "Xfull_major = musicData[musicData['mode'] == 1]['key']"
   ]
  },
  {
   "cell_type": "code",
   "execution_count": 39,
   "metadata": {},
   "outputs": [],
   "source": [
    "full_mu_minor_MLE = np.divide(np.sum(Xfull_minor), len(Xfull_minor))\n",
    "full_mu_major_MLE = np.divide(np.sum(Xfull_major), len(Xfull_major))"
   ]
  },
  {
   "cell_type": "code",
   "execution_count": 40,
   "metadata": {},
   "outputs": [],
   "source": [
    "full_delta_MLE = full_mu_minor_MLE - full_mu_major_MLE"
   ]
  },
  {
   "cell_type": "code",
   "execution_count": 41,
   "metadata": {},
   "outputs": [
    {
     "data": {
      "image/png": "[encoded data removed]",
      "text/plain": [
       "<Figure size 360x360 with 1 Axes>"
      ]
     },
     "metadata": {
      "needs_background": "light"
     },
     "output_type": "display_data"
    }
   ],
   "source": [
    "plt.figure(figsize=(5,5))\n",
    "# plot box plots of each sample mean.\n",
    "plt.boxplot(delta_confidence_interval)\n",
    "plt.plot([1, len(delta_confidence_interval)],[full_delta_MLE,full_delta_MLE], 'k-', lw=1, color='red')\n",
    "plt.show()"
   ]
  },
  {
   "cell_type": "markdown",
   "metadata": {},
   "source": [
    "We see that our full data delta is inside our CI. We chose to use a pivotal bootstrap CI."
   ]
  },
  {
   "cell_type": "markdown",
   "metadata": {},
   "source": [
    "#### Question 3D"
   ]
  },
  {
   "cell_type": "markdown",
   "metadata": {},
   "source": [
    "######  Wald Test"
   ]
  },
  {
   "cell_type": "code",
   "execution_count": 42,
   "metadata": {},
   "outputs": [],
   "source": [
    "def wald_test(X_major, X_minor):\n",
    "    n_major = len(X_major)\n",
    "    n_minor = len(X_minor)\n",
    "    Sp = np.sqrt(((n_major - 1) * X_major.var() + (n_minor - 1) * X_minor.var()) / (n_major + n_minor - 2))\n",
    "    Wald = (X_major.mean() - X_minor.mean()) / (Sp * np.sqrt(1/n_major + 1/n_minor))\n",
    "    pvalueWald = 2 * scipy.stats.norm.cdf(-abs(Wald))       \n",
    "    return Wald, pvalueWald"
   ]
  },
  {
   "cell_type": "code",
   "execution_count": 43,
   "metadata": {},
   "outputs": [
    {
     "name": "stdout",
     "output_type": "stream",
     "text": [
      "Wald        =-3.6621203372778943\n",
      "Wald P-value=0.0002501363030971642\n"
     ]
    }
   ],
   "source": [
    "Wald, pvalueWald = wald_test(X_major.values, X_minor.values)\n",
    "print(\"Wald        ={}\".format(Wald))\n",
    "print(\"Wald P-value={}\".format(pvalueWald))"
   ]
  },
  {
   "cell_type": "markdown",
   "metadata": {},
   "source": [
    "###### Permutation Test"
   ]
  },
  {
   "cell_type": "code",
   "execution_count": 44,
   "metadata": {},
   "outputs": [
    {
     "name": "stdout",
     "output_type": "stream",
     "text": [
      "permutation p-value=0.00036\n"
     ]
    }
   ],
   "source": [
    "def TS(X_major, X_minor):\n",
    "    X_major_mean = X_major.mean()\n",
    "    X_minor_mean = X_minor.mean()\n",
    "    TS_ = np.abs(X_major_mean - X_minor_mean)\n",
    "    return TS_\n",
    "    \n",
    "def permutation_test(X_major, X_minor, permutation_num):\n",
    "    T0 = TS(X_major, X_minor)\n",
    "    X = np.concatenate([X_major, X_minor])\n",
    "    n, k = len(X_major), 0\n",
    "    for j in range(permutation_num):\n",
    "        np.random.shuffle(X)\n",
    "        Tj = TS(X[:n], X[n:])\n",
    "        if T0 <= Tj:\n",
    "            k += 1\n",
    "    return k / permutation_num\n",
    "\n",
    "permutation_pvalue = permutation_test(X_major.values, X_minor.values, 100000)\n",
    "print(\"permutation p-value={}\".format(permutation_pvalue))"
   ]
  },
  {
   "cell_type": "markdown",
   "metadata": {},
   "source": [
    "Permutation P-Value smaller then $\\alpha$=0.05, then $H_0$ is rejected"
   ]
  },
  {
   "cell_type": "markdown",
   "metadata": {},
   "source": [
    "### Question 4"
   ]
  },
  {
   "cell_type": "markdown",
   "metadata": {},
   "source": [
    "#### Question 4A"
   ]
  },
  {
   "cell_type": "code",
   "execution_count": 45,
   "metadata": {},
   "outputs": [
    {
     "name": "stdout",
     "output_type": "stream",
     "text": [
      "7.0 5.0\n"
     ]
    }
   ],
   "source": [
    "m_minor_MLE = np.median(X_minor)\n",
    "m_major_MLE = np.median(X_major)\n",
    "\n",
    "print(m_minor_MLE, m_major_MLE)"
   ]
  },
  {
   "cell_type": "markdown",
   "metadata": {},
   "source": [
    "$m_1=m_{minor}, m_2=m_{major}$ <br>\n",
    "$\\delta = m_{minor} - m_{major} \\Rightarrow \\hat\\delta = \\hat m_{minor} - \\hat m_{major}$"
   ]
  },
  {
   "cell_type": "code",
   "execution_count": 46,
   "metadata": {},
   "outputs": [
    {
     "name": "stdout",
     "output_type": "stream",
     "text": [
      "2.0\n"
     ]
    }
   ],
   "source": [
    "delta_MLE = m_minor_MLE - m_major_MLE\n",
    "print(delta_MLE)"
   ]
  },
  {
   "cell_type": "markdown",
   "metadata": {},
   "source": [
    "There is no MLE for the median because there is no model and thus no MLE for delta based on the median."
   ]
  },
  {
   "cell_type": "markdown",
   "metadata": {},
   "source": [
    "#### Question 4B"
   ]
  },
  {
   "cell_type": "code",
   "execution_count": 47,
   "metadata": {},
   "outputs": [
    {
     "name": "stdout",
     "output_type": "stream",
     "text": [
      "delta^=2.0, CI=[1.1808528858528868, 3.1834124830393487]\n"
     ]
    }
   ],
   "source": [
    "delta_confidence_interval = delta_ci(alpha, deltas, delta_MLE)\n",
    "print(f'delta^={delta_MLE}, CI={delta_confidence_interval}')"
   ]
  },
  {
   "cell_type": "markdown",
   "metadata": {},
   "source": [
    "#### Question 4C"
   ]
  },
  {
   "cell_type": "code",
   "execution_count": 48,
   "metadata": {},
   "outputs": [],
   "source": [
    "full_m_minor_MLE = np.median(Xfull_minor)\n",
    "full_m_major_MLE = np.median(Xfull_major)\n",
    "\n",
    "full_delta_MLE = full_m_minor_MLE - full_m_major_MLE"
   ]
  },
  {
   "cell_type": "code",
   "execution_count": 49,
   "metadata": {},
   "outputs": [
    {
     "data": {
      "image/png": "[encoded data removed]",
      "text/plain": [
       "<Figure size 360x360 with 1 Axes>"
      ]
     },
     "metadata": {
      "needs_background": "light"
     },
     "output_type": "display_data"
    }
   ],
   "source": [
    "plt.figure(figsize=(5,5))\n",
    "# plot box plots of each sample mean.\n",
    "plt.boxplot(delta_confidence_interval)\n",
    "plt.plot([1, len(delta_confidence_interval)],[full_delta_MLE,full_delta_MLE], 'k-', lw=1, color='red')\n",
    "plt.show()"
   ]
  },
  {
   "cell_type": "markdown",
   "metadata": {},
   "source": [
    "#### Question 4D"
   ]
  },
  {
   "cell_type": "markdown",
   "metadata": {},
   "source": [
    "###### Permutation Test"
   ]
  },
  {
   "cell_type": "code",
   "execution_count": 50,
   "metadata": {},
   "outputs": [],
   "source": [
    "def TS(X_major, X_minor):\n",
    "    X_major_median = np.median(X_major)\n",
    "    X_minor_median = np.median(X_minor)\n",
    "    TS_ = np.abs(X_major_median - X_minor_median)\n",
    "    return TS_"
   ]
  },
  {
   "cell_type": "code",
   "execution_count": 51,
   "metadata": {},
   "outputs": [
    {
     "name": "stdout",
     "output_type": "stream",
     "text": [
      "permutation p-value=0.04941\n"
     ]
    }
   ],
   "source": [
    "permutation_pvalue = permutation_test(X_major.values, X_minor.values, 100000)\n",
    "print(\"permutation p-value={}\".format(permutation_pvalue))"
   ]
  },
  {
   "cell_type": "markdown",
   "metadata": {},
   "source": [
    "Permutation P-Value smaller then $\\alpha$=0.05, then $H_0$ is rejected"
   ]
  },
  {
   "cell_type": "markdown",
   "metadata": {},
   "source": [
    "#### Question 4E"
   ]
  },
  {
   "cell_type": "markdown",
   "metadata": {},
   "source": [
    "As we see on our previous parts of the project, our data does not look like a normal distribution,\n",
    "in this question we can not use the Central Limit Theorem, because we test the medians and not the means.\n",
    "Because of that the assumption of Wald and T tesets are not existing and we can't use this tests. "
   ]
  },
  {
   "cell_type": "markdown",
   "metadata": {},
   "source": [
    "### Question 5"
   ]
  },
  {
   "cell_type": "code",
   "execution_count": 52,
   "metadata": {},
   "outputs": [],
   "source": [
    "sampleData_sorted = sampleData.sort_values(by=['key'])\n",
    "sampleData_sorted['order'] = np.arange(1, len(sampleData_sorted) + 1)\n",
    "\n",
    "X_minor = sampleData_sorted[sampleData_sorted['mode'] == 0]['order'].values\n",
    "X_major = sampleData_sorted[sampleData_sorted['mode'] == 1]['order'].values\n"
   ]
  },
  {
   "cell_type": "code",
   "execution_count": 53,
   "metadata": {
    "scrolled": true
   },
   "outputs": [
    {
     "name": "stdout",
     "output_type": "stream",
     "text": [
      "-3.5092419228948004\n"
     ]
    }
   ],
   "source": [
    "Ws = np.sum(X_major)\n",
    "EWs = (len(X_major) * (len(sampleData_sorted) + 1)) / 2\n",
    "VarWs = (len(X_minor) * len(X_major) * (len(sampleData_sorted) + 1)) / 12\n",
    "TS_ = (Ws - EWs) / np.sqrt(VarWs)\n",
    "print(TS_)\n",
    "\n",
    "Zalpha = -1.96"
   ]
  },
  {
   "cell_type": "markdown",
   "metadata": {},
   "source": [
    "We can use the normal approximation. $Xmajor$ and $Xminor$ have different values from each other.<br/>\n",
    "$TS$ < $Z_\\alpha$(=-1.96), than $H_0$ accepted"
   ]
  }
 ],
 "metadata": {
  "kernelspec": {
   "display_name": "Python 3",
   "language": "python",
   "name": "python3"
  },
  "language_info": {
   "codemirror_mode": {
    "name": "ipython",
    "version": 3
   },
   "file_extension": ".py",
   "mimetype": "text/x-python",
   "name": "python",
   "nbconvert_exporter": "python",
   "pygments_lexer": "ipython3",
   "version": "3.7.0"
  }
 },
 "nbformat": 4,
 "nbformat_minor": 2
}
