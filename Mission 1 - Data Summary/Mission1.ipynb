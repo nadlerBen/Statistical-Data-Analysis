{
 "cells": [
  {
   "cell_type": "markdown",
   "metadata": {
    "colab_type": "text",
    "id": "dhuwPAFJipYK"
   },
   "source": [
    "# ניתוח נתונים סטטיסטיים - משימה 1"
   ]
  },
  {
   "cell_type": "markdown",
   "metadata": {
    "colab_type": "text",
    "id": "ksvYxJvxipYY"
   },
   "source": [
    "## תיאור הדאטה"
   ]
  },
  {
   "cell_type": "markdown",
   "metadata": {
    "colab_type": "text",
    "id": "z60t_im5ipYZ"
   },
   "source": [
    "בחרנו בדאטה על מוזיקה, כאשר הדאטה נלקח מאפליקציית ספוטיפיי כשמטרתו העיקרית היא לחזות האם שיר מסוים הוא להיט או כישלון.\n",
    "הדאטה מורכב משישה קבצים עבור מוזיקה משנות ה60,70,80,90,2000,2010.\n",
    "בכל קובץ ישנן 19 עמודות שיפורטו בהמשך כאשר אנו בחרנו בשלב זה להתמקד בקובץ של שירים מהשנים 2010-2019."
   ]
  },
  {
   "cell_type": "markdown",
   "metadata": {
    "colab_type": "text",
    "id": "L4cGpN9FipYb"
   },
   "source": [
    "## קישור"
   ]
  },
  {
   "cell_type": "markdown",
   "metadata": {
    "colab_type": "text",
    "id": "Wf0OrQBPipYc"
   },
   "source": [
    "https://www.kaggle.com/theoverman/the-spotify-hit-predictor-dataset#dataset-of-10s.csv"
   ]
  },
  {
   "cell_type": "code",
   "execution_count": 1,
   "metadata": {
    "colab": {},
    "colab_type": "code",
    "id": "Kyr-U1c1ipYd"
   },
   "outputs": [],
   "source": [
    "import pandas as pd"
   ]
  },
  {
   "cell_type": "code",
   "execution_count": 2,
   "metadata": {
    "colab": {
     "base_uri": "https://localhost:8080/",
     "height": 55
    },
    "colab_type": "code",
    "id": "DL6hppTmipYh",
    "outputId": "0754149d-1ae3-46b0-e5e3-d4e938874fb0"
   },
   "outputs": [],
   "source": [
    "musicFrom2010_2019 = pd.read_csv('dataset-of-10s.csv')"
   ]
  },
  {
   "cell_type": "code",
   "execution_count": 3,
   "metadata": {
    "colab": {
     "base_uri": "https://localhost:8080/",
     "height": 202
    },
    "colab_type": "code",
    "id": "ehVtqGqAN_1Z",
    "outputId": "14470f94-ffa6-4978-a494-1dbeb190861d"
   },
   "outputs": [
    {
     "data": {
      "text/html": [
       "<div>\n",
       "<style scoped>\n",
       "    .dataframe tbody tr th:only-of-type {\n",
       "        vertical-align: middle;\n",
       "    }\n",
       "\n",
       "    .dataframe tbody tr th {\n",
       "        vertical-align: top;\n",
       "    }\n",
       "\n",
       "    .dataframe thead th {\n",
       "        text-align: right;\n",
       "    }\n",
       "</style>\n",
       "<table border=\"1\" class=\"dataframe\">\n",
       "  <thead>\n",
       "    <tr style=\"text-align: right;\">\n",
       "      <th></th>\n",
       "      <th>track</th>\n",
       "      <th>artist</th>\n",
       "      <th>uri</th>\n",
       "      <th>danceability</th>\n",
       "      <th>energy</th>\n",
       "      <th>key</th>\n",
       "      <th>loudness</th>\n",
       "      <th>mode</th>\n",
       "      <th>speechiness</th>\n",
       "      <th>acousticness</th>\n",
       "      <th>instrumentalness</th>\n",
       "      <th>liveness</th>\n",
       "      <th>valence</th>\n",
       "      <th>tempo</th>\n",
       "      <th>duration_ms</th>\n",
       "      <th>time_signature</th>\n",
       "      <th>chorus_hit</th>\n",
       "      <th>sections</th>\n",
       "      <th>target</th>\n",
       "    </tr>\n",
       "  </thead>\n",
       "  <tbody>\n",
       "    <tr>\n",
       "      <th>0</th>\n",
       "      <td>Wild Things</td>\n",
       "      <td>Alessia Cara</td>\n",
       "      <td>spotify:track:2ZyuwVvV6Z3XJaXIFbspeE</td>\n",
       "      <td>0.741</td>\n",
       "      <td>0.626</td>\n",
       "      <td>1</td>\n",
       "      <td>-4.826</td>\n",
       "      <td>0</td>\n",
       "      <td>0.0886</td>\n",
       "      <td>0.02000</td>\n",
       "      <td>0.000</td>\n",
       "      <td>0.0828</td>\n",
       "      <td>0.706</td>\n",
       "      <td>108.029</td>\n",
       "      <td>188493</td>\n",
       "      <td>4</td>\n",
       "      <td>41.18681</td>\n",
       "      <td>10</td>\n",
       "      <td>1</td>\n",
       "    </tr>\n",
       "    <tr>\n",
       "      <th>1</th>\n",
       "      <td>Surfboard</td>\n",
       "      <td>Esquivel!</td>\n",
       "      <td>spotify:track:61APOtq25SCMuK0V5w2Kgp</td>\n",
       "      <td>0.447</td>\n",
       "      <td>0.247</td>\n",
       "      <td>5</td>\n",
       "      <td>-14.661</td>\n",
       "      <td>0</td>\n",
       "      <td>0.0346</td>\n",
       "      <td>0.87100</td>\n",
       "      <td>0.814</td>\n",
       "      <td>0.0946</td>\n",
       "      <td>0.250</td>\n",
       "      <td>155.489</td>\n",
       "      <td>176880</td>\n",
       "      <td>3</td>\n",
       "      <td>33.18083</td>\n",
       "      <td>9</td>\n",
       "      <td>0</td>\n",
       "    </tr>\n",
       "    <tr>\n",
       "      <th>2</th>\n",
       "      <td>Love Someone</td>\n",
       "      <td>Lukas Graham</td>\n",
       "      <td>spotify:track:2JqnpexlO9dmvjUMCaLCLJ</td>\n",
       "      <td>0.550</td>\n",
       "      <td>0.415</td>\n",
       "      <td>9</td>\n",
       "      <td>-6.557</td>\n",
       "      <td>0</td>\n",
       "      <td>0.0520</td>\n",
       "      <td>0.16100</td>\n",
       "      <td>0.000</td>\n",
       "      <td>0.1080</td>\n",
       "      <td>0.274</td>\n",
       "      <td>172.065</td>\n",
       "      <td>205463</td>\n",
       "      <td>4</td>\n",
       "      <td>44.89147</td>\n",
       "      <td>9</td>\n",
       "      <td>1</td>\n",
       "    </tr>\n",
       "    <tr>\n",
       "      <th>3</th>\n",
       "      <td>Music To My Ears (feat. Tory Lanez)</td>\n",
       "      <td>Keys N Krates</td>\n",
       "      <td>spotify:track:0cjfLhk8WJ3etPTCseKXtk</td>\n",
       "      <td>0.502</td>\n",
       "      <td>0.648</td>\n",
       "      <td>0</td>\n",
       "      <td>-5.698</td>\n",
       "      <td>0</td>\n",
       "      <td>0.0527</td>\n",
       "      <td>0.00513</td>\n",
       "      <td>0.000</td>\n",
       "      <td>0.2040</td>\n",
       "      <td>0.291</td>\n",
       "      <td>91.837</td>\n",
       "      <td>193043</td>\n",
       "      <td>4</td>\n",
       "      <td>29.52521</td>\n",
       "      <td>7</td>\n",
       "      <td>0</td>\n",
       "    </tr>\n",
       "    <tr>\n",
       "      <th>4</th>\n",
       "      <td>Juju On That Beat (TZ Anthem)</td>\n",
       "      <td>Zay Hilfigerrr &amp; Zayion McCall</td>\n",
       "      <td>spotify:track:1lItf5ZXJc1by9SbPeljFd</td>\n",
       "      <td>0.807</td>\n",
       "      <td>0.887</td>\n",
       "      <td>1</td>\n",
       "      <td>-3.892</td>\n",
       "      <td>1</td>\n",
       "      <td>0.2750</td>\n",
       "      <td>0.00381</td>\n",
       "      <td>0.000</td>\n",
       "      <td>0.3910</td>\n",
       "      <td>0.780</td>\n",
       "      <td>160.517</td>\n",
       "      <td>144244</td>\n",
       "      <td>4</td>\n",
       "      <td>24.99199</td>\n",
       "      <td>8</td>\n",
       "      <td>1</td>\n",
       "    </tr>\n",
       "  </tbody>\n",
       "</table>\n",
       "</div>"
      ],
      "text/plain": [
       "                                 track                          artist  \\\n",
       "0                          Wild Things                    Alessia Cara   \n",
       "1                            Surfboard                       Esquivel!   \n",
       "2                         Love Someone                    Lukas Graham   \n",
       "3  Music To My Ears (feat. Tory Lanez)                   Keys N Krates   \n",
       "4        Juju On That Beat (TZ Anthem)  Zay Hilfigerrr & Zayion McCall   \n",
       "\n",
       "                                    uri  danceability  energy  key  loudness  \\\n",
       "0  spotify:track:2ZyuwVvV6Z3XJaXIFbspeE         0.741   0.626    1    -4.826   \n",
       "1  spotify:track:61APOtq25SCMuK0V5w2Kgp         0.447   0.247    5   -14.661   \n",
       "2  spotify:track:2JqnpexlO9dmvjUMCaLCLJ         0.550   0.415    9    -6.557   \n",
       "3  spotify:track:0cjfLhk8WJ3etPTCseKXtk         0.502   0.648    0    -5.698   \n",
       "4  spotify:track:1lItf5ZXJc1by9SbPeljFd         0.807   0.887    1    -3.892   \n",
       "\n",
       "   mode  speechiness  acousticness  instrumentalness  liveness  valence  \\\n",
       "0     0       0.0886       0.02000             0.000    0.0828    0.706   \n",
       "1     0       0.0346       0.87100             0.814    0.0946    0.250   \n",
       "2     0       0.0520       0.16100             0.000    0.1080    0.274   \n",
       "3     0       0.0527       0.00513             0.000    0.2040    0.291   \n",
       "4     1       0.2750       0.00381             0.000    0.3910    0.780   \n",
       "\n",
       "     tempo  duration_ms  time_signature  chorus_hit  sections  target  \n",
       "0  108.029       188493               4    41.18681        10       1  \n",
       "1  155.489       176880               3    33.18083         9       0  \n",
       "2  172.065       205463               4    44.89147         9       1  \n",
       "3   91.837       193043               4    29.52521         7       0  \n",
       "4  160.517       144244               4    24.99199         8       1  "
      ]
     },
     "execution_count": 3,
     "metadata": {},
     "output_type": "execute_result"
    }
   ],
   "source": [
    "musicFrom2010_2019.head()"
   ]
  },
  {
   "cell_type": "code",
   "execution_count": 4,
   "metadata": {
    "colab": {},
    "colab_type": "code",
    "id": "l52ZyvWcOdwc"
   },
   "outputs": [],
   "source": [
    "categoricalFeatures = ['track', 'artist', 'key', 'mode', 'target']\n",
    "numericalFeatures = ['danceability', 'energy', 'loudness', 'speechiness', 'acousticness', 'instrumentalness',\n",
    "                     'liveness', 'valence', 'tempo', 'duration_ms', 'time_signature', 'chorus_hit', 'sections']"
   ]
  },
  {
   "cell_type": "code",
   "execution_count": 5,
   "metadata": {
    "colab": {
     "base_uri": "https://localhost:8080/",
     "height": 425
    },
    "colab_type": "code",
    "id": "m3ssTjPFipYl",
    "outputId": "c59eeffe-9315-4e23-a79f-03ae6b54a1df"
   },
   "outputs": [
    {
     "name": "stdout",
     "output_type": "stream",
     "text": [
      "<class 'pandas.core.frame.DataFrame'>\n",
      "RangeIndex: 6398 entries, 0 to 6397\n",
      "Data columns (total 19 columns):\n",
      "track               6398 non-null object\n",
      "artist              6398 non-null object\n",
      "uri                 6398 non-null object\n",
      "danceability        6398 non-null float64\n",
      "energy              6398 non-null float64\n",
      "key                 6398 non-null int64\n",
      "loudness            6398 non-null float64\n",
      "mode                6398 non-null int64\n",
      "speechiness         6398 non-null float64\n",
      "acousticness        6398 non-null float64\n",
      "instrumentalness    6398 non-null float64\n",
      "liveness            6398 non-null float64\n",
      "valence             6398 non-null float64\n",
      "tempo               6398 non-null float64\n",
      "duration_ms         6398 non-null int64\n",
      "time_signature      6398 non-null int64\n",
      "chorus_hit          6398 non-null float64\n",
      "sections            6398 non-null int64\n",
      "target              6398 non-null int64\n",
      "dtypes: float64(10), int64(6), object(3)\n",
      "memory usage: 949.8+ KB\n"
     ]
    }
   ],
   "source": [
    "musicFrom2010_2019.info()"
   ]
  },
  {
   "cell_type": "code",
   "execution_count": 6,
   "metadata": {
    "colab": {
     "base_uri": "https://localhost:8080/",
     "height": 317
    },
    "colab_type": "code",
    "id": "VoZQqmiNipYo",
    "outputId": "1b44a865-4d72-4acf-f01f-b1a3b90a6655"
   },
   "outputs": [
    {
     "data": {
      "text/html": [
       "<div>\n",
       "<style scoped>\n",
       "    .dataframe tbody tr th:only-of-type {\n",
       "        vertical-align: middle;\n",
       "    }\n",
       "\n",
       "    .dataframe tbody tr th {\n",
       "        vertical-align: top;\n",
       "    }\n",
       "\n",
       "    .dataframe thead th {\n",
       "        text-align: right;\n",
       "    }\n",
       "</style>\n",
       "<table border=\"1\" class=\"dataframe\">\n",
       "  <thead>\n",
       "    <tr style=\"text-align: right;\">\n",
       "      <th></th>\n",
       "      <th>danceability</th>\n",
       "      <th>energy</th>\n",
       "      <th>key</th>\n",
       "      <th>loudness</th>\n",
       "      <th>mode</th>\n",
       "      <th>speechiness</th>\n",
       "      <th>acousticness</th>\n",
       "      <th>instrumentalness</th>\n",
       "      <th>liveness</th>\n",
       "      <th>valence</th>\n",
       "      <th>tempo</th>\n",
       "      <th>duration_ms</th>\n",
       "      <th>time_signature</th>\n",
       "      <th>chorus_hit</th>\n",
       "      <th>sections</th>\n",
       "      <th>target</th>\n",
       "    </tr>\n",
       "  </thead>\n",
       "  <tbody>\n",
       "    <tr>\n",
       "      <th>count</th>\n",
       "      <td>6398.000000</td>\n",
       "      <td>6398.000000</td>\n",
       "      <td>6398.000000</td>\n",
       "      <td>6398.000000</td>\n",
       "      <td>6398.000000</td>\n",
       "      <td>6398.000000</td>\n",
       "      <td>6398.000000</td>\n",
       "      <td>6398.000000</td>\n",
       "      <td>6398.000000</td>\n",
       "      <td>6398.000000</td>\n",
       "      <td>6398.000000</td>\n",
       "      <td>6.398000e+03</td>\n",
       "      <td>6398.000000</td>\n",
       "      <td>6398.000000</td>\n",
       "      <td>6398.000000</td>\n",
       "      <td>6398.000000</td>\n",
       "    </tr>\n",
       "    <tr>\n",
       "      <th>mean</th>\n",
       "      <td>0.568163</td>\n",
       "      <td>0.667756</td>\n",
       "      <td>5.283526</td>\n",
       "      <td>-7.589796</td>\n",
       "      <td>0.645514</td>\n",
       "      <td>0.098018</td>\n",
       "      <td>0.216928</td>\n",
       "      <td>0.165293</td>\n",
       "      <td>0.196700</td>\n",
       "      <td>0.443734</td>\n",
       "      <td>122.353871</td>\n",
       "      <td>2.367042e+05</td>\n",
       "      <td>3.930916</td>\n",
       "      <td>41.028399</td>\n",
       "      <td>10.316505</td>\n",
       "      <td>0.500000</td>\n",
       "    </tr>\n",
       "    <tr>\n",
       "      <th>std</th>\n",
       "      <td>0.191103</td>\n",
       "      <td>0.240721</td>\n",
       "      <td>3.606216</td>\n",
       "      <td>5.234592</td>\n",
       "      <td>0.478395</td>\n",
       "      <td>0.097224</td>\n",
       "      <td>0.296835</td>\n",
       "      <td>0.318736</td>\n",
       "      <td>0.166148</td>\n",
       "      <td>0.245776</td>\n",
       "      <td>29.847389</td>\n",
       "      <td>8.563698e+04</td>\n",
       "      <td>0.377469</td>\n",
       "      <td>19.568827</td>\n",
       "      <td>3.776011</td>\n",
       "      <td>0.500039</td>\n",
       "    </tr>\n",
       "    <tr>\n",
       "      <th>min</th>\n",
       "      <td>0.062200</td>\n",
       "      <td>0.000251</td>\n",
       "      <td>0.000000</td>\n",
       "      <td>-46.655000</td>\n",
       "      <td>0.000000</td>\n",
       "      <td>0.022500</td>\n",
       "      <td>0.000000</td>\n",
       "      <td>0.000000</td>\n",
       "      <td>0.016700</td>\n",
       "      <td>0.000000</td>\n",
       "      <td>39.369000</td>\n",
       "      <td>2.985300e+04</td>\n",
       "      <td>0.000000</td>\n",
       "      <td>0.000000</td>\n",
       "      <td>2.000000</td>\n",
       "      <td>0.000000</td>\n",
       "    </tr>\n",
       "    <tr>\n",
       "      <th>25%</th>\n",
       "      <td>0.447000</td>\n",
       "      <td>0.533000</td>\n",
       "      <td>2.000000</td>\n",
       "      <td>-8.425000</td>\n",
       "      <td>0.000000</td>\n",
       "      <td>0.038825</td>\n",
       "      <td>0.008533</td>\n",
       "      <td>0.000000</td>\n",
       "      <td>0.096800</td>\n",
       "      <td>0.240000</td>\n",
       "      <td>98.091250</td>\n",
       "      <td>1.932068e+05</td>\n",
       "      <td>4.000000</td>\n",
       "      <td>28.059135</td>\n",
       "      <td>8.000000</td>\n",
       "      <td>0.000000</td>\n",
       "    </tr>\n",
       "    <tr>\n",
       "      <th>50%</th>\n",
       "      <td>0.588000</td>\n",
       "      <td>0.712500</td>\n",
       "      <td>5.000000</td>\n",
       "      <td>-6.096500</td>\n",
       "      <td>1.000000</td>\n",
       "      <td>0.057200</td>\n",
       "      <td>0.067050</td>\n",
       "      <td>0.000017</td>\n",
       "      <td>0.126000</td>\n",
       "      <td>0.434000</td>\n",
       "      <td>121.070000</td>\n",
       "      <td>2.212465e+05</td>\n",
       "      <td>4.000000</td>\n",
       "      <td>36.265365</td>\n",
       "      <td>10.000000</td>\n",
       "      <td>0.500000</td>\n",
       "    </tr>\n",
       "    <tr>\n",
       "      <th>75%</th>\n",
       "      <td>0.710000</td>\n",
       "      <td>0.857000</td>\n",
       "      <td>8.000000</td>\n",
       "      <td>-4.601250</td>\n",
       "      <td>1.000000</td>\n",
       "      <td>0.112000</td>\n",
       "      <td>0.311000</td>\n",
       "      <td>0.057650</td>\n",
       "      <td>0.249000</td>\n",
       "      <td>0.628000</td>\n",
       "      <td>141.085000</td>\n",
       "      <td>2.593165e+05</td>\n",
       "      <td>4.000000</td>\n",
       "      <td>48.292538</td>\n",
       "      <td>12.000000</td>\n",
       "      <td>1.000000</td>\n",
       "    </tr>\n",
       "    <tr>\n",
       "      <th>max</th>\n",
       "      <td>0.981000</td>\n",
       "      <td>0.999000</td>\n",
       "      <td>11.000000</td>\n",
       "      <td>-0.149000</td>\n",
       "      <td>1.000000</td>\n",
       "      <td>0.956000</td>\n",
       "      <td>0.996000</td>\n",
       "      <td>0.995000</td>\n",
       "      <td>0.982000</td>\n",
       "      <td>0.976000</td>\n",
       "      <td>210.977000</td>\n",
       "      <td>1.734201e+06</td>\n",
       "      <td>5.000000</td>\n",
       "      <td>213.154990</td>\n",
       "      <td>88.000000</td>\n",
       "      <td>1.000000</td>\n",
       "    </tr>\n",
       "  </tbody>\n",
       "</table>\n",
       "</div>"
      ],
      "text/plain": [
       "       danceability       energy          key     loudness         mode  \\\n",
       "count   6398.000000  6398.000000  6398.000000  6398.000000  6398.000000   \n",
       "mean       0.568163     0.667756     5.283526    -7.589796     0.645514   \n",
       "std        0.191103     0.240721     3.606216     5.234592     0.478395   \n",
       "min        0.062200     0.000251     0.000000   -46.655000     0.000000   \n",
       "25%        0.447000     0.533000     2.000000    -8.425000     0.000000   \n",
       "50%        0.588000     0.712500     5.000000    -6.096500     1.000000   \n",
       "75%        0.710000     0.857000     8.000000    -4.601250     1.000000   \n",
       "max        0.981000     0.999000    11.000000    -0.149000     1.000000   \n",
       "\n",
       "       speechiness  acousticness  instrumentalness     liveness      valence  \\\n",
       "count  6398.000000   6398.000000       6398.000000  6398.000000  6398.000000   \n",
       "mean      0.098018      0.216928          0.165293     0.196700     0.443734   \n",
       "std       0.097224      0.296835          0.318736     0.166148     0.245776   \n",
       "min       0.022500      0.000000          0.000000     0.016700     0.000000   \n",
       "25%       0.038825      0.008533          0.000000     0.096800     0.240000   \n",
       "50%       0.057200      0.067050          0.000017     0.126000     0.434000   \n",
       "75%       0.112000      0.311000          0.057650     0.249000     0.628000   \n",
       "max       0.956000      0.996000          0.995000     0.982000     0.976000   \n",
       "\n",
       "             tempo   duration_ms  time_signature   chorus_hit     sections  \\\n",
       "count  6398.000000  6.398000e+03     6398.000000  6398.000000  6398.000000   \n",
       "mean    122.353871  2.367042e+05        3.930916    41.028399    10.316505   \n",
       "std      29.847389  8.563698e+04        0.377469    19.568827     3.776011   \n",
       "min      39.369000  2.985300e+04        0.000000     0.000000     2.000000   \n",
       "25%      98.091250  1.932068e+05        4.000000    28.059135     8.000000   \n",
       "50%     121.070000  2.212465e+05        4.000000    36.265365    10.000000   \n",
       "75%     141.085000  2.593165e+05        4.000000    48.292538    12.000000   \n",
       "max     210.977000  1.734201e+06        5.000000   213.154990    88.000000   \n",
       "\n",
       "            target  \n",
       "count  6398.000000  \n",
       "mean      0.500000  \n",
       "std       0.500039  \n",
       "min       0.000000  \n",
       "25%       0.000000  \n",
       "50%       0.500000  \n",
       "75%       1.000000  \n",
       "max       1.000000  "
      ]
     },
     "execution_count": 6,
     "metadata": {},
     "output_type": "execute_result"
    }
   ],
   "source": [
    "dataSummary = musicFrom2010_2019.describe()\n",
    "dataSummary"
   ]
  },
  {
   "cell_type": "code",
   "execution_count": 7,
   "metadata": {},
   "outputs": [],
   "source": [
    "def makeGraph(feature):\n",
    "    fig = plt.figure(figsize=(10, 6), dpi=80, facecolor='w', edgecolor='k')\n",
    "    ax = fig.add_subplot(221)\n",
    "    values = musicFrom2010_2019[feature]\n",
    "    values.plot.kde(ax=ax, legend=False, title=feature)\n",
    "    values.plot.hist(density=False, ax=ax)\n",
    "    ax.set_xlim([values.min() - 0.1, values.max() + 0.1])\n",
    "    ax.grid(axis='both')\n",
    "    ax.set_facecolor('#d8dcd6')\n",
    "    return fig"
   ]
  },
  {
   "cell_type": "markdown",
   "metadata": {},
   "source": [
    "## ניתוח תאורי של הנתונים"
   ]
  },
  {
   "cell_type": "markdown",
   "metadata": {},
   "source": [
    "### גרפים של משתנים נומריים"
   ]
  },
  {
   "cell_type": "code",
   "execution_count": 30,
   "metadata": {},
   "outputs": [
    {
     "data": {
      "image/png": "[encoded data removed]",
      "text/plain": [
       "<Figure size 800x480 with 1 Axes>"
      ]
     },
     "metadata": {},
     "output_type": "display_data"
    },
    {
     "name": "stdout",
     "output_type": "stream",
     "text": [
      "count    6398.000000\n",
      "mean        0.568163\n",
      "std         0.191103\n",
      "min         0.062200\n",
      "25%         0.447000\n",
      "50%         0.588000\n",
      "75%         0.710000\n",
      "max         0.981000\n",
      "Name: danceability, dtype: float64\n"
     ]
    },
    {
     "data": {
      "image/png": "[encoded data removed]",
      "text/plain": [
       "<Figure size 800x480 with 1 Axes>"
      ]
     },
     "metadata": {},
     "output_type": "display_data"
    },
    {
     "name": "stdout",
     "output_type": "stream",
     "text": [
      "count    6398.000000\n",
      "mean        0.667756\n",
      "std         0.240721\n",
      "min         0.000251\n",
      "25%         0.533000\n",
      "50%         0.712500\n",
      "75%         0.857000\n",
      "max         0.999000\n",
      "Name: energy, dtype: float64\n"
     ]
    },
    {
     "data": {
      "image/png": "[encoded data removed]",
      "text/plain": [
       "<Figure size 800x480 with 1 Axes>"
      ]
     },
     "metadata": {},
     "output_type": "display_data"
    },
    {
     "name": "stdout",
     "output_type": "stream",
     "text": [
      "count    6398.000000\n",
      "mean       -7.589796\n",
      "std         5.234592\n",
      "min       -46.655000\n",
      "25%        -8.425000\n",
      "50%        -6.096500\n",
      "75%        -4.601250\n",
      "max        -0.149000\n",
      "Name: loudness, dtype: float64\n"
     ]
    },
    {
     "data": {
      "image/png": "[encoded data removed]",
      "text/plain": [
       "<Figure size 800x480 with 1 Axes>"
      ]
     },
     "metadata": {},
     "output_type": "display_data"
    },
    {
     "name": "stdout",
     "output_type": "stream",
     "text": [
      "count    6398.000000\n",
      "mean        0.098018\n",
      "std         0.097224\n",
      "min         0.022500\n",
      "25%         0.038825\n",
      "50%         0.057200\n",
      "75%         0.112000\n",
      "max         0.956000\n",
      "Name: speechiness, dtype: float64\n"
     ]
    },
    {
     "data": {
      "image/png": "[encoded data removed]",
      "text/plain": [
       "<Figure size 800x480 with 1 Axes>"
      ]
     },
     "metadata": {},
     "output_type": "display_data"
    },
    {
     "name": "stdout",
     "output_type": "stream",
     "text": [
      "count    6398.000000\n",
      "mean        0.216928\n",
      "std         0.296835\n",
      "min         0.000000\n",
      "25%         0.008533\n",
      "50%         0.067050\n",
      "75%         0.311000\n",
      "max         0.996000\n",
      "Name: acousticness, dtype: float64\n"
     ]
    },
    {
     "data": {
      "image/png": "[encoded data removed]",
      "text/plain": [
       "<Figure size 800x480 with 1 Axes>"
      ]
     },
     "metadata": {},
     "output_type": "display_data"
    },
    {
     "name": "stdout",
     "output_type": "stream",
     "text": [
      "count    6398.000000\n",
      "mean        0.165293\n",
      "std         0.318736\n",
      "min         0.000000\n",
      "25%         0.000000\n",
      "50%         0.000017\n",
      "75%         0.057650\n",
      "max         0.995000\n",
      "Name: instrumentalness, dtype: float64\n"
     ]
    },
    {
     "data": {
      "image/png": "[encoded data removed]",
      "text/plain": [
       "<Figure size 800x480 with 1 Axes>"
      ]
     },
     "metadata": {},
     "output_type": "display_data"
    },
    {
     "name": "stdout",
     "output_type": "stream",
     "text": [
      "count    6398.000000\n",
      "mean        0.196700\n",
      "std         0.166148\n",
      "min         0.016700\n",
      "25%         0.096800\n",
      "50%         0.126000\n",
      "75%         0.249000\n",
      "max         0.982000\n",
      "Name: liveness, dtype: float64\n"
     ]
    },
    {
     "data": {
      "image/png": "[encoded data removed]",
      "text/plain": [
       "<Figure size 800x480 with 1 Axes>"
      ]
     },
     "metadata": {},
     "output_type": "display_data"
    },
    {
     "name": "stdout",
     "output_type": "stream",
     "text": [
      "count    6398.000000\n",
      "mean        0.443734\n",
      "std         0.245776\n",
      "min         0.000000\n",
      "25%         0.240000\n",
      "50%         0.434000\n",
      "75%         0.628000\n",
      "max         0.976000\n",
      "Name: valence, dtype: float64\n"
     ]
    },
    {
     "data": {
      "image/png": "[encoded data removed]",
      "text/plain": [
       "<Figure size 800x480 with 1 Axes>"
      ]
     },
     "metadata": {},
     "output_type": "display_data"
    },
    {
     "name": "stdout",
     "output_type": "stream",
     "text": [
      "count    6398.000000\n",
      "mean      122.353871\n",
      "std        29.847389\n",
      "min        39.369000\n",
      "25%        98.091250\n",
      "50%       121.070000\n",
      "75%       141.085000\n",
      "max       210.977000\n",
      "Name: tempo, dtype: float64\n"
     ]
    },
    {
     "data": {
      "image/png": "[encoded data removed]",
      "text/plain": [
       "<Figure size 800x480 with 1 Axes>"
      ]
     },
     "metadata": {},
     "output_type": "display_data"
    },
    {
     "name": "stdout",
     "output_type": "stream",
     "text": [
      "count    6.398000e+03\n",
      "mean     2.367042e+05\n",
      "std      8.563698e+04\n",
      "min      2.985300e+04\n",
      "25%      1.932068e+05\n",
      "50%      2.212465e+05\n",
      "75%      2.593165e+05\n",
      "max      1.734201e+06\n",
      "Name: duration_ms, dtype: float64\n"
     ]
    },
    {
     "data": {
      "image/png": "[encoded data removed]",
      "text/plain": [
       "<Figure size 800x480 with 1 Axes>"
      ]
     },
     "metadata": {},
     "output_type": "display_data"
    },
    {
     "name": "stdout",
     "output_type": "stream",
     "text": [
      "count    6398.000000\n",
      "mean        3.930916\n",
      "std         0.377469\n",
      "min         0.000000\n",
      "25%         4.000000\n",
      "50%         4.000000\n",
      "75%         4.000000\n",
      "max         5.000000\n",
      "Name: time_signature, dtype: float64\n"
     ]
    },
    {
     "data": {
      "image/png": "[encoded data removed]",
      "text/plain": [
       "<Figure size 800x480 with 1 Axes>"
      ]
     },
     "metadata": {},
     "output_type": "display_data"
    },
    {
     "name": "stdout",
     "output_type": "stream",
     "text": [
      "count    6398.000000\n",
      "mean       41.028399\n",
      "std        19.568827\n",
      "min         0.000000\n",
      "25%        28.059135\n",
      "50%        36.265365\n",
      "75%        48.292538\n",
      "max       213.154990\n",
      "Name: chorus_hit, dtype: float64\n"
     ]
    },
    {
     "data": {
      "image/png": "[encoded data removed]",
      "text/plain": [
       "<Figure size 800x480 with 1 Axes>"
      ]
     },
     "metadata": {},
     "output_type": "display_data"
    },
    {
     "name": "stdout",
     "output_type": "stream",
     "text": [
      "count    6398.000000\n",
      "mean       10.316505\n",
      "std         3.776011\n",
      "min         2.000000\n",
      "25%         8.000000\n",
      "50%        10.000000\n",
      "75%        12.000000\n",
      "max        88.000000\n",
      "Name: sections, dtype: float64\n"
     ]
    }
   ],
   "source": [
    "import matplotlib.pyplot as plt\n",
    "from IPython.display import clear_output\n",
    "\n",
    "for numerical in numericalFeatures:\n",
    "    fig = makeGraph(numerical)\n",
    "    plt.show()\n",
    "    print(dataSummary[numerical])"
   ]
  },
  {
   "cell_type": "markdown",
   "metadata": {},
   "source": [
    "### גרפים של משתנים קטגוריאלים"
   ]
  },
  {
   "cell_type": "code",
   "execution_count": 26,
   "metadata": {},
   "outputs": [
    {
     "data": {
      "image/png": "[encoded data removed]",
      "text/plain": [
       "<Figure size 800x480 with 1 Axes>"
      ]
     },
     "metadata": {},
     "output_type": "display_data"
    },
    {
     "name": "stdout",
     "output_type": "stream",
     "text": [
      "count    6398.000000\n",
      "mean        5.283526\n",
      "std         3.606216\n",
      "min         0.000000\n",
      "25%         2.000000\n",
      "50%         5.000000\n",
      "75%         8.000000\n",
      "max        11.000000\n",
      "Name: key, dtype: float64\n"
     ]
    },
    {
     "data": {
      "image/png": "[encoded data removed]",
      "text/plain": [
       "<Figure size 800x480 with 1 Axes>"
      ]
     },
     "metadata": {},
     "output_type": "display_data"
    },
    {
     "name": "stdout",
     "output_type": "stream",
     "text": [
      "count    6398.000000\n",
      "mean        0.645514\n",
      "std         0.478395\n",
      "min         0.000000\n",
      "25%         0.000000\n",
      "50%         1.000000\n",
      "75%         1.000000\n",
      "max         1.000000\n",
      "Name: mode, dtype: float64\n"
     ]
    },
    {
     "data": {
      "image/png": "[encoded data removed]",
      "text/plain": [
       "<Figure size 800x480 with 1 Axes>"
      ]
     },
     "metadata": {},
     "output_type": "display_data"
    },
    {
     "name": "stdout",
     "output_type": "stream",
     "text": [
      "count    6398.000000\n",
      "mean        0.500000\n",
      "std         0.500039\n",
      "min         0.000000\n",
      "25%         0.000000\n",
      "50%         0.500000\n",
      "75%         1.000000\n",
      "max         1.000000\n",
      "Name: target, dtype: float64\n"
     ]
    }
   ],
   "source": [
    "for categorical in categoricalFeatures[2:5]:\n",
    "    fig = makeGraph(categorical)\n",
    "    plt.show()\n",
    "    print(dataSummary[categorical])"
   ]
  },
  {
   "cell_type": "markdown",
   "metadata": {
    "colab_type": "text",
    "id": "v4N2awgDipYu"
   },
   "source": [
    "## שאלות מחקר"
   ]
  },
  {
   "cell_type": "markdown",
   "metadata": {
    "colab_type": "text",
    "id": "BKKy4xdCipYv"
   },
   "source": [
    "### ?שאלה ראשונה: האם עליה במשתנה האנרגיה גורמת לעליה במשתנה החיות"
   ]
  },
  {
   "cell_type": "markdown",
   "metadata": {
    "colab_type": "text",
    "id": "8VvN6GcoipYw"
   },
   "source": [
    "X = Energy, Y = Liveness"
   ]
  },
  {
   "cell_type": "markdown",
   "metadata": {
    "colab_type": "text",
    "id": "9PWWiITYipYx"
   },
   "source": [
    "### שאלה שניה: האם ירידה במשתנה הריקוד (עד כמה השיר מתאים לריקוד) גורמת לירידה בהסתברות שהשיר ייחשב כלהיט? כלומר 1 "
   ]
  },
  {
   "cell_type": "markdown",
   "metadata": {
    "colab_type": "text",
    "id": "pY5TcJVPipYy"
   },
   "source": [
    "X = Danceability, Y = Target (1 - Hit, 0 - Flop)"
   ]
  },
  {
   "cell_type": "markdown",
   "metadata": {
    "colab_type": "text",
    "id": "fX5gjLu-ipYz"
   },
   "source": [
    "### ?שאלת מבחן: האם הערך של משתנה מסביר תו דומיננטי שונה בין קטגוריות שונות של מודליות השיר"
   ]
  },
  {
   "cell_type": "markdown",
   "metadata": {
    "colab_type": "text",
    "id": "m9xqx0LUipY0"
   },
   "source": [
    "X = Key, Y = Mode"
   ]
  },
  {
   "cell_type": "code",
   "execution_count": 28,
   "metadata": {},
   "outputs": [
    {
     "name": "stdout",
     "output_type": "stream",
     "text": [
      "distribution:\n",
      " gamma \n",
      "dist parameters:\n",
      " (23159.576279933077, -543.442003721294, 0.023693238123290696)\n",
      "distribution:\n",
      " beta \n",
      "dist parameters:\n",
      " (0.8380377709834345, 0.8029916415864001, -0.5359634672862916, 11.535963467286294)\n",
      "distribution:\n",
      " rayleigh \n",
      "dist parameters:\n",
      " (-1.5187459613377148, 5.443998491708569)\n",
      "distribution:\n",
      " norm \n",
      "dist parameters:\n",
      " (5.283526101906846, 3.605934543806948)\n",
      "distribution:\n",
      " pareto \n",
      "dist parameters:\n",
      " (102573.10313011857, -514222.0104568186, 514222.01045598194)\n"
     ]
    }
   ],
   "source": [
    "import matplotlib.pyplot as plt\n",
    "import scipy\n",
    "import scipy.stats\n",
    "import numpy as np\n",
    "\n",
    "dist_names = ['gamma', 'beta', 'rayleigh', 'norm', 'pareto']\n",
    "\n",
    "keys = musicFrom2010_2019['key']\n",
    "\n",
    "for dist_name in dist_names:\n",
    "    dist = getattr(scipy.stats, dist_name)\n",
    "    param = dist.fit(np.array(keys.values))\n",
    "    # here's the parameters of your distribution, scale, location\n",
    "    print('distribution:\\n', dist_name, '\\ndist parameters:\\n', param)"
   ]
  },
  {
   "cell_type": "code",
   "execution_count": null,
   "metadata": {},
   "outputs": [],
   "source": []
  }
 ],
 "metadata": {
  "colab": {
   "collapsed_sections": [],
   "name": "Mission1.ipynb",
   "provenance": [],
   "toc_visible": true
  },
  "kernelspec": {
   "display_name": "Python 3",
   "language": "python",
   "name": "python3"
  },
  "language_info": {
   "codemirror_mode": {
    "name": "ipython",
    "version": 3
   },
   "file_extension": ".py",
   "mimetype": "text/x-python",
   "name": "python",
   "nbconvert_exporter": "python",
   "pygments_lexer": "ipython3",
   "version": "3.7.0"
  }
 },
 "nbformat": 4,
 "nbformat_minor": 2
}
