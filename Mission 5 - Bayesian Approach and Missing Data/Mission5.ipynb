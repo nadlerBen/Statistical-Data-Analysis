{
 "cells": [
  {
   "cell_type": "markdown",
   "metadata": {},
   "source": [
    "# Mission 5 - Statistical Data Analysis"
   ]
  },
  {
   "cell_type": "code",
   "execution_count": 1198,
   "metadata": {},
   "outputs": [],
   "source": [
    "import pandas as pd\n",
    "import numpy as np\n",
    "import seaborn as sns\n",
    "from scipy.stats import beta\n",
    "import statsmodels.api as sm\n",
    "import statsmodels\n",
    "import matplotlib.pyplot as plt\n",
    "from scipy.stats import bernoulli\n",
    "from fractions import Fraction\n",
    "from scipy.optimize import fmin"
   ]
  },
  {
   "cell_type": "code",
   "execution_count": 1199,
   "metadata": {},
   "outputs": [
    {
     "name": "stdout",
     "output_type": "stream",
     "text": [
      "Gili Yardeni 205733918 and Ben Nadler 308292309\n"
     ]
    }
   ],
   "source": [
    "print('Gili Yardeni {} and Ben Nadler {}'.format(205733918,308292309))"
   ]
  },
  {
   "cell_type": "code",
   "execution_count": 1200,
   "metadata": {},
   "outputs": [],
   "source": [
    "musicData = pd.read_csv('dataset-of-10s.csv')"
   ]
  },
  {
   "cell_type": "markdown",
   "metadata": {},
   "source": [
    "## Part 1 - Bayesian Approach"
   ]
  },
  {
   "cell_type": "markdown",
   "metadata": {},
   "source": [
    "#### Section 1"
   ]
  },
  {
   "cell_type": "code",
   "execution_count": 1201,
   "metadata": {},
   "outputs": [],
   "source": [
    "sampledData = musicData.sample(200, random_state=1)\n",
    "priorData = pd.concat([musicData, sampledData]).drop_duplicates(keep=False).sample(1000, random_state=1)"
   ]
  },
  {
   "cell_type": "markdown",
   "metadata": {},
   "source": [
    "Our variables are X=key and Y=mode"
   ]
  },
  {
   "cell_type": "code",
   "execution_count": 1202,
   "metadata": {},
   "outputs": [],
   "source": [
    "X = sampledData['key']\n",
    "Y = sampledData['mode']"
   ]
  },
  {
   "cell_type": "markdown",
   "metadata": {},
   "source": [
    "#### Section 2"
   ]
  },
  {
   "cell_type": "code",
   "execution_count": 1203,
   "metadata": {},
   "outputs": [],
   "source": [
    "tau = sampledData['key'].median()\n",
    "sampledData['Z'] = [1 if tau < x else 0 for x in sampledData['key']]"
   ]
  },
  {
   "cell_type": "code",
   "execution_count": 1204,
   "metadata": {},
   "outputs": [],
   "source": [
    "Xminor = sampledData[sampledData['mode'] == 0]\n",
    "Xmajor = sampledData[sampledData['mode'] == 1]"
   ]
  },
  {
   "cell_type": "markdown",
   "metadata": {},
   "source": [
    "for j=major,minor"
   ]
  },
  {
   "cell_type": "code",
   "execution_count": 1205,
   "metadata": {},
   "outputs": [
    {
     "name": "stdout",
     "output_type": "stream",
     "text": [
      "Pmajor=0.4672131147540984 and Pminor=0.48717948717948717\n"
     ]
    }
   ],
   "source": [
    "Pmajor = len(Xmajor[Xmajor['Z'] == 1]) / len(Xmajor)\n",
    "Pminor = len(Xminor[Xminor['Z'] == 1]) / len(Xminor)\n",
    "print(f'Pmajor={Pmajor} and Pminor={Pminor}')"
   ]
  },
  {
   "cell_type": "markdown",
   "metadata": {},
   "source": [
    "#### Section 3.1"
   ]
  },
  {
   "cell_type": "code",
   "execution_count": 1206,
   "metadata": {},
   "outputs": [
    {
     "name": "stdout",
     "output_type": "stream",
     "text": [
      "Our log of odds ratio psi=-0.08004270767353652\n"
     ]
    }
   ],
   "source": [
    "odds_pmajor = (Pmajor / (1 - Pmajor))\n",
    "odds_pminor = (Pminor / (1 - Pminor))\n",
    "psi = np.log(odds_pmajor) - np.log(odds_pminor)\n",
    "print(f'Our log of odds ratio psi={psi}')"
   ]
  },
  {
   "cell_type": "code",
   "execution_count": 1207,
   "metadata": {},
   "outputs": [],
   "source": [
    "# for this mission we define B and alpha\n",
    "B = 400\n",
    "alpha = 0.05"
   ]
  },
  {
   "cell_type": "code",
   "execution_count": 1208,
   "metadata": {},
   "outputs": [],
   "source": [
    "def bootstrap(data, B):\n",
    "    psis = []\n",
    "    for _ in range(B):\n",
    "        samples = data.sample(200, replace=True)\n",
    "        tau = samples['key'].median()\n",
    "        samples['Z'] = [1 if tau < x else 0 for x in samples['key']]\n",
    "        # seperate between calsses\n",
    "        minor = samples[samples['mode'] == 0]\n",
    "        major = samples[samples['mode'] == 1]\n",
    "        # calculate pj\n",
    "        Pmajor = len(major[major['Z'] == 1]) / len(major)\n",
    "        Pminor = len(minor[minor['Z'] == 1]) / len(minor)\n",
    "        # calculate odds\n",
    "        odds_pmajor = (Pmajor / (1 - Pmajor))\n",
    "        odds_pminor = (Pminor / (1 - Pminor))\n",
    "        # log of odds ratio\n",
    "        psi = np.log(odds_pmajor) - np.log(odds_pminor)\n",
    "        psis.append(psi)\n",
    "    return psis"
   ]
  },
  {
   "cell_type": "code",
   "execution_count": 1209,
   "metadata": {},
   "outputs": [],
   "source": [
    "psis = bootstrap(sampledData, B)\n",
    "def bootstrap_pencentile_ci(params, alpha):\n",
    "    return [np.percentile(params, (alpha*100)/2), np.percentile(params, 100 - (alpha*100)/2)]"
   ]
  },
  {
   "cell_type": "code",
   "execution_count": 1210,
   "metadata": {},
   "outputs": [
    {
     "name": "stdout",
     "output_type": "stream",
     "text": [
      "[-0.8481026406096734, 0.37879040782636153]\n"
     ]
    }
   ],
   "source": [
    "print(bootstrap_pencentile_ci(psis, alpha))"
   ]
  },
  {
   "cell_type": "markdown",
   "metadata": {},
   "source": [
    "#### Section 3.2"
   ]
  },
  {
   "cell_type": "markdown",
   "metadata": {},
   "source": [
    "We assume uniform prior distribution $\\pi(p_1, p_2) = 1I\\{0\\leq p_1,p_2 \\leq1\\}$<br>\n"
   ]
  },
  {
   "cell_type": "markdown",
   "metadata": {},
   "source": [
    "We know that:<br>\n",
    "$Z|Y=major\\sim Bernoulli(p_1)$<br>\n",
    "$Z|Y=minor\\sim Bernoulli(p_2)$"
   ]
  },
  {
   "cell_type": "markdown",
   "metadata": {},
   "source": [
    "$p1|Y=major \\sim Beta(S_{major}+1,length(major)-S_{major}+1)$<br>\n",
    "$p2|Y=minor \\sim Beta(S_{minor}+1,length(minor)-S_{minor}+1)$"
   ]
  },
  {
   "cell_type": "markdown",
   "metadata": {},
   "source": [
    "We can simmulate $(P_1^1,P_2^1),...,(P_1^B,P_2^B)$ from posteriors and estimate $\\bar\\psi$"
   ]
  },
  {
   "cell_type": "code",
   "execution_count": 1211,
   "metadata": {},
   "outputs": [],
   "source": [
    "Smajor = len(Xmajor[Xmajor['Z'] == 1])\n",
    "Sminor = len(Xminor[Xminor['Z'] == 1])\n",
    "m = len(Xmajor)\n",
    "n = len(Xminor)"
   ]
  },
  {
   "cell_type": "code",
   "execution_count": 1212,
   "metadata": {},
   "outputs": [],
   "source": [
    "def simulate(Sma, Smi, m, n, const, hist=False):\n",
    "    psis = []\n",
    "    for _ in range(B):\n",
    "        # sample pj from beta distribution\n",
    "        Pmajor = np.random.beta(Sma+const, m-Sma+const,1)\n",
    "        Pminor = np.random.beta(Smi+const, n-Smi+const,1)\n",
    "        # calculate odds\n",
    "        odds_pmajor = (Pmajor / (1 - Pmajor))\n",
    "        odds_pminor = (Pminor / (1 - Pminor))\n",
    "        # log of odds ratio\n",
    "        psi = np.log(odds_pmajor) - np.log(odds_pminor)\n",
    "        psis.append(psi)\n",
    "    if hist:\n",
    "        sns.distplot(psis, kde=True)    \n",
    "        plt.title('Psi distribution')\n",
    "    return psis"
   ]
  },
  {
   "cell_type": "code",
   "execution_count": 1213,
   "metadata": {},
   "outputs": [
    {
     "name": "stdout",
     "output_type": "stream",
     "text": [
      "Based on simulations we find an estimator psi_bar=-0.06549289338680611\n"
     ]
    },
    {
     "data": {
      "image/png": "[encoded data removed]",
      "text/plain": [
       "<Figure size 640x480 with 1 Axes>"
      ]
     },
     "metadata": {},
     "output_type": "display_data"
    }
   ],
   "source": [
    "psis = simulate(Smajor, Sminor, m, n, 1, True)\n",
    "psi_bar = (1/B) * np.sum(psis)\n",
    "print(f'Based on simulations we find an estimator psi_bar={psi_bar}')"
   ]
  },
  {
   "cell_type": "code",
   "execution_count": 1214,
   "metadata": {},
   "outputs": [
    {
     "name": "stdout",
     "output_type": "stream",
     "text": [
      "[-0.6641510696276685, 0.5071473236109533]\n"
     ]
    }
   ],
   "source": [
    "### credability interval\n",
    "print(bootstrap_pencentile_ci(psis, alpha))"
   ]
  },
  {
   "cell_type": "markdown",
   "metadata": {},
   "source": [
    "#### Section 3.3"
   ]
  },
  {
   "cell_type": "markdown",
   "metadata": {},
   "source": [
    "Recall from last section:<br>\n",
    "$Z|Y=major\\sim Bernoulli(p_1)$<br>\n",
    "$Z|Y=minor\\sim Bernoulli(p_2)$<br>\n",
    "Thus according to Jerffery, we define $I(p_j)=\\frac{1}{p_j(1-p_j)} \\ and \\ \\pi(p_j)=\\sqrt{\\frac{1}{p_j(1-p_j)}}$<br>\n",
    "$f(p|x^n) \\propto p^{-0.5}(1-p)^{-0.5} \\cdot p^S(1-p)^{n-S}=p^{S-0.5}(1-p)^{n-S-0.5}=p^{(S+0.5)-1}(1-p)^{(n-S+0.5)-1} \\propto Beta(S+0.5,n-S+0.5)$"
   ]
  },
  {
   "cell_type": "code",
   "execution_count": 1215,
   "metadata": {},
   "outputs": [
    {
     "name": "stdout",
     "output_type": "stream",
     "text": [
      "Jeffery's prior for major class (p1) 2.0043138362332527 and Jeffery's prior for minor class (p2) 2.000657786566051\n"
     ]
    }
   ],
   "source": [
    "priorPmajor = np.sqrt(np.divide(1, Pmajor*(1-Pmajor)))\n",
    "priorPminor = np.sqrt(np.divide(1, Pminor*(1-Pminor)))\n",
    "print(f'Jeffery\\'s prior for major class (p1) {priorPmajor} and Jeffery\\'s prior for minor class (p2) {priorPminor}')"
   ]
  },
  {
   "cell_type": "code",
   "execution_count": 1216,
   "metadata": {},
   "outputs": [
    {
     "name": "stdout",
     "output_type": "stream",
     "text": [
      "Based on simulations we find an estimator psi_bar=-0.08681546015258945\n"
     ]
    },
    {
     "data": {
      "image/png": "[encoded data removed]",
      "text/plain": [
       "<Figure size 640x480 with 1 Axes>"
      ]
     },
     "metadata": {},
     "output_type": "display_data"
    }
   ],
   "source": [
    "psis = simulate(Smajor, Sminor, m, n, 0.5, True)\n",
    "psi_bar = (1/B) * np.sum(psis)\n",
    "print(f'Based on simulations we find an estimator psi_bar={psi_bar}')"
   ]
  },
  {
   "cell_type": "code",
   "execution_count": 1217,
   "metadata": {},
   "outputs": [
    {
     "name": "stdout",
     "output_type": "stream",
     "text": [
      "[-0.6347346200854335, 0.47511920562232207]\n"
     ]
    }
   ],
   "source": [
    "print(bootstrap_pencentile_ci(psis, alpha))"
   ]
  },
  {
   "cell_type": "markdown",
   "metadata": {},
   "source": [
    "#### Section 3.4"
   ]
  },
  {
   "cell_type": "code",
   "execution_count": 1218,
   "metadata": {},
   "outputs": [],
   "source": [
    "def prior_calc(data):\n",
    "    pmajors = []\n",
    "    pminors = []\n",
    "    for _ in range(B):\n",
    "        samples = data.sample(200, replace=True)\n",
    "        tau = samples['key'].median()\n",
    "        samples['Z'] = [1 if tau < x else 0 for x in samples['key']]\n",
    "        # seperate between calsses\n",
    "        minor = samples[samples['mode'] == 0]\n",
    "        major = samples[samples['mode'] == 1]\n",
    "        # calculate pj\n",
    "        Pmajor = len(major[major['Z'] == 1]) / len(major)\n",
    "        Pminor = len(minor[minor['Z'] == 1]) / len(minor)\n",
    "        # add to corresponding lists\n",
    "        pmajors.append(Pmajor)\n",
    "        pminors.append(Pminor)\n",
    "    return pmajors, pminors"
   ]
  },
  {
   "cell_type": "code",
   "execution_count": 1219,
   "metadata": {},
   "outputs": [],
   "source": [
    "pmajors, pminors = prior_calc(priorData)"
   ]
  },
  {
   "cell_type": "code",
   "execution_count": 1220,
   "metadata": {},
   "outputs": [],
   "source": [
    "def posterior_dist(pmajors, pminors):\n",
    "    major_posterior = []\n",
    "    minor_posterior = []\n",
    "    for p1 in pmajors:\n",
    "        major_posterior.append(np.log(np.divide(p1,1-p1)))\n",
    "    for p2 in pminors:\n",
    "        minor_posterior.append(np.log(np.divide(p2,1-p2)))\n",
    "    sns.distplot(major_posterior, kde=True)  \n",
    "    sns.distplot(minor_posterior, kde=True)\n",
    "    plt.legend(labels=['major (p1)', 'minor (p2)'])\n",
    "    plt.title('Posterior distributions')"
   ]
  },
  {
   "cell_type": "code",
   "execution_count": 1221,
   "metadata": {},
   "outputs": [
    {
     "data": {
      "image/png": "[encoded data removed]",
      "text/plain": [
       "<Figure size 640x480 with 1 Axes>"
      ]
     },
     "metadata": {},
     "output_type": "display_data"
    }
   ],
   "source": [
    "posterior_dist(pmajors, pminors)"
   ]
  },
  {
   "cell_type": "code",
   "execution_count": 1222,
   "metadata": {},
   "outputs": [
    {
     "name": "stderr",
     "output_type": "stream",
     "text": [
      "/usr/local/lib/python3.7/site-packages/scipy/stats/_continuous_distns.py:437: RuntimeWarning: invalid value encountered in sqrt\n",
      "  sk = 2*(b-a)*np.sqrt(a + b + 1) / (a + b + 2) / np.sqrt(a*b)\n",
      "/usr/local/lib/python3.7/site-packages/scipy/optimize/minpack.py:163: RuntimeWarning: The iteration is not making good progress, as measured by the \n",
      "  improvement from the last ten iterations.\n",
      "  warnings.warn(msg, RuntimeWarning)\n"
     ]
    }
   ],
   "source": [
    "major_alpha, major_beta, loc_major, scale_major = beta.fit(pmajors)\n",
    "minor_alpha, minor_beta, loc_minor, scale_minor = beta.fit(pminors)"
   ]
  },
  {
   "cell_type": "code",
   "execution_count": 1223,
   "metadata": {},
   "outputs": [],
   "source": [
    "def simulations(alpha_major, beta_major, alpha_minor, beta_minor, hist=False):\n",
    "    psis = []\n",
    "    for _ in range(B):\n",
    "        # sample pj from beta distribution\n",
    "        Pmajor = np.random.beta(alpha_major, beta_major, 1)\n",
    "        Pminor = np.random.beta(alpha_minor, beta_minor, 1)\n",
    "        # calculate odds\n",
    "        odds_pmajor = (Pmajor / (1 - Pmajor))\n",
    "        odds_pminor = (Pminor / (1 - Pminor))\n",
    "        # log of odds ratio\n",
    "        psi = np.log(odds_pmajor) - np.log(odds_pminor)\n",
    "        psis.append(psi)\n",
    "    if hist:\n",
    "        sns.distplot(psis, kde=True)  \n",
    "        plt.title('Psi distribution')\n",
    "    return psis"
   ]
  },
  {
   "cell_type": "code",
   "execution_count": 1224,
   "metadata": {},
   "outputs": [
    {
     "data": {
      "image/png": "[encoded data removed]",
      "text/plain": [
       "<Figure size 640x480 with 1 Axes>"
      ]
     },
     "metadata": {},
     "output_type": "display_data"
    }
   ],
   "source": [
    "psis = simulations(major_alpha, major_beta, minor_alpha, minor_beta, True)"
   ]
  },
  {
   "cell_type": "code",
   "execution_count": 1225,
   "metadata": {},
   "outputs": [
    {
     "name": "stdout",
     "output_type": "stream",
     "text": [
      "Based on simulations we find an estimator psi_bar=-2.1592066507765804\n"
     ]
    }
   ],
   "source": [
    "psi_bar = (1/B) * np.sum(psis)\n",
    "print(f'Based on simulations we find an estimator psi_bar={psi_bar}')"
   ]
  },
  {
   "cell_type": "code",
   "execution_count": 1226,
   "metadata": {},
   "outputs": [
    {
     "name": "stdout",
     "output_type": "stream",
     "text": [
      "[-3.0978756001472547, -1.2585479949874945]\n"
     ]
    }
   ],
   "source": [
    "print(bootstrap_pencentile_ci(psis, alpha))"
   ]
  },
  {
   "cell_type": "markdown",
   "metadata": {},
   "source": [
    "#### Section 3.5"
   ]
  },
  {
   "cell_type": "markdown",
   "metadata": {},
   "source": [
    "As we can see the oods-ratio estimator is the smallest and it's very simillar to the uniformy & Jeffery's estimator.<br> We can say that this estimators are not subjective and the estimator that we got from our past data is bigger and more subjective."
   ]
  },
  {
   "cell_type": "markdown",
   "metadata": {},
   "source": [
    "## Part 2 - Missing Data"
   ]
  },
  {
   "cell_type": "markdown",
   "metadata": {},
   "source": [
    "#### Section 1"
   ]
  },
  {
   "cell_type": "code",
   "execution_count": 1228,
   "metadata": {},
   "outputs": [],
   "source": [
    "newSampledData = pd.concat([musicData, sampledData, priorData]).drop_duplicates(keep=False).sample(1000, random_state=1)"
   ]
  },
  {
   "cell_type": "markdown",
   "metadata": {},
   "source": [
    "#### Section 2"
   ]
  },
  {
   "cell_type": "code",
   "execution_count": 1229,
   "metadata": {},
   "outputs": [
    {
     "data": {
      "text/plain": [
       "Index(['track', 'artist', 'uri', 'danceability', 'energy', 'key', 'loudness',\n",
       "       'mode', 'speechiness', 'acousticness', 'instrumentalness', 'liveness',\n",
       "       'valence', 'tempo', 'duration_ms', 'time_signature', 'chorus_hit',\n",
       "       'sections', 'target', 'Z'],\n",
       "      dtype='object')"
      ]
     },
     "execution_count": 1229,
     "metadata": {},
     "output_type": "execute_result"
    }
   ],
   "source": [
    "newSampledData.columns"
   ]
  },
  {
   "cell_type": "code",
   "execution_count": 1230,
   "metadata": {},
   "outputs": [],
   "source": [
    "newSampledData = newSampledData[['danceability','liveness','key','energy']]"
   ]
  },
  {
   "cell_type": "markdown",
   "metadata": {},
   "source": [
    "$$ Y_{energy}=\\beta_0 + \\beta_1x_{danceability} + \\beta_2x_{liveness} + \\beta_3x_{key} $$"
   ]
  },
  {
   "cell_type": "code",
   "execution_count": 1231,
   "metadata": {},
   "outputs": [],
   "source": [
    "matrix = newSampledData.to_numpy()\n",
    "x = matrix[:,[0,1,2]]\n",
    "x = np.append(np.ones((1000,1)), x, axis=1)\n",
    "y = matrix[:, -1].copy()"
   ]
  },
  {
   "cell_type": "code",
   "execution_count": 1232,
   "metadata": {},
   "outputs": [
    {
     "data": {
      "text/html": [
       "<table class=\"simpletable\">\n",
       "<caption>OLS Regression Results</caption>\n",
       "<tr>\n",
       "  <th>Dep. Variable:</th>            <td>y</td>        <th>  R-squared:         </th> <td>   0.071</td>\n",
       "</tr>\n",
       "<tr>\n",
       "  <th>Model:</th>                   <td>OLS</td>       <th>  Adj. R-squared:    </th> <td>   0.068</td>\n",
       "</tr>\n",
       "<tr>\n",
       "  <th>Method:</th>             <td>Least Squares</td>  <th>  F-statistic:       </th> <td>   25.41</td>\n",
       "</tr>\n",
       "<tr>\n",
       "  <th>Date:</th>             <td>Fri, 14 Aug 2020</td> <th>  Prob (F-statistic):</th> <td>7.67e-16</td>\n",
       "</tr>\n",
       "<tr>\n",
       "  <th>Time:</th>                 <td>14:21:24</td>     <th>  Log-Likelihood:    </th> <td>  48.883</td>\n",
       "</tr>\n",
       "<tr>\n",
       "  <th>No. Observations:</th>      <td>  1000</td>      <th>  AIC:               </th> <td>  -89.77</td>\n",
       "</tr>\n",
       "<tr>\n",
       "  <th>Df Residuals:</th>          <td>   996</td>      <th>  BIC:               </th> <td>  -70.13</td>\n",
       "</tr>\n",
       "<tr>\n",
       "  <th>Df Model:</th>              <td>     3</td>      <th>                     </th>     <td> </td>   \n",
       "</tr>\n",
       "<tr>\n",
       "  <th>Covariance Type:</th>      <td>nonrobust</td>    <th>                     </th>     <td> </td>   \n",
       "</tr>\n",
       "</table>\n",
       "<table class=\"simpletable\">\n",
       "<tr>\n",
       "    <td></td>       <th>coef</th>     <th>std err</th>      <th>t</th>      <th>P>|t|</th>  <th>[0.025</th>    <th>0.975]</th>  \n",
       "</tr>\n",
       "<tr>\n",
       "  <th>const</th> <td>    0.5285</td> <td>    0.027</td> <td>   19.335</td> <td> 0.000</td> <td>    0.475</td> <td>    0.582</td>\n",
       "</tr>\n",
       "<tr>\n",
       "  <th>x1</th>    <td>    0.1024</td> <td>    0.038</td> <td>    2.696</td> <td> 0.007</td> <td>    0.028</td> <td>    0.177</td>\n",
       "</tr>\n",
       "<tr>\n",
       "  <th>x2</th>    <td>    0.3645</td> <td>    0.043</td> <td>    8.448</td> <td> 0.000</td> <td>    0.280</td> <td>    0.449</td>\n",
       "</tr>\n",
       "<tr>\n",
       "  <th>x3</th>    <td>    0.0025</td> <td>    0.002</td> <td>    1.221</td> <td> 0.222</td> <td>   -0.001</td> <td>    0.006</td>\n",
       "</tr>\n",
       "</table>\n",
       "<table class=\"simpletable\">\n",
       "<tr>\n",
       "  <th>Omnibus:</th>       <td>59.027</td> <th>  Durbin-Watson:     </th> <td>   1.978</td>\n",
       "</tr>\n",
       "<tr>\n",
       "  <th>Prob(Omnibus):</th> <td> 0.000</td> <th>  Jarque-Bera (JB):  </th> <td>  68.672</td>\n",
       "</tr>\n",
       "<tr>\n",
       "  <th>Skew:</th>          <td>-0.639</td> <th>  Prob(JB):          </th> <td>1.22e-15</td>\n",
       "</tr>\n",
       "<tr>\n",
       "  <th>Kurtosis:</th>      <td> 2.875</td> <th>  Cond. No.          </th> <td>    44.1</td>\n",
       "</tr>\n",
       "</table><br/><br/>Warnings:<br/>[1] Standard Errors assume that the covariance matrix of the errors is correctly specified."
      ],
      "text/plain": [
       "<class 'statsmodels.iolib.summary.Summary'>\n",
       "\"\"\"\n",
       "                            OLS Regression Results                            \n",
       "==============================================================================\n",
       "Dep. Variable:                      y   R-squared:                       0.071\n",
       "Model:                            OLS   Adj. R-squared:                  0.068\n",
       "Method:                 Least Squares   F-statistic:                     25.41\n",
       "Date:                Fri, 14 Aug 2020   Prob (F-statistic):           7.67e-16\n",
       "Time:                        14:21:24   Log-Likelihood:                 48.883\n",
       "No. Observations:                1000   AIC:                            -89.77\n",
       "Df Residuals:                     996   BIC:                            -70.13\n",
       "Df Model:                           3                                         \n",
       "Covariance Type:            nonrobust                                         \n",
       "==============================================================================\n",
       "                 coef    std err          t      P>|t|      [0.025      0.975]\n",
       "------------------------------------------------------------------------------\n",
       "const          0.5285      0.027     19.335      0.000       0.475       0.582\n",
       "x1             0.1024      0.038      2.696      0.007       0.028       0.177\n",
       "x2             0.3645      0.043      8.448      0.000       0.280       0.449\n",
       "x3             0.0025      0.002      1.221      0.222      -0.001       0.006\n",
       "==============================================================================\n",
       "Omnibus:                       59.027   Durbin-Watson:                   1.978\n",
       "Prob(Omnibus):                  0.000   Jarque-Bera (JB):               68.672\n",
       "Skew:                          -0.639   Prob(JB):                     1.22e-15\n",
       "Kurtosis:                       2.875   Cond. No.                         44.1\n",
       "==============================================================================\n",
       "\n",
       "Warnings:\n",
       "[1] Standard Errors assume that the covariance matrix of the errors is correctly specified.\n",
       "\"\"\""
      ]
     },
     "execution_count": 1232,
     "metadata": {},
     "output_type": "execute_result"
    }
   ],
   "source": [
    "fullLinreg = sm.OLS(y,x).fit()\n",
    "fullLinreg.summary()"
   ]
  },
  {
   "cell_type": "code",
   "execution_count": 1233,
   "metadata": {},
   "outputs": [],
   "source": [
    "beta_cis = []\n",
    "betas = []"
   ]
  },
  {
   "cell_type": "code",
   "execution_count": 1234,
   "metadata": {},
   "outputs": [],
   "source": [
    "def beta_confidence_interval(i, x, beta, z_normal):\n",
    "    C = np.linalg.inv(np.dot(x.T, x))\n",
    "    left_limit = beta - z_normal * np.sqrt((fullLinreg.ssr/fullLinreg.df_resid) * C[i][i])\n",
    "    right_limit = beta + z_normal * np.sqrt((fullLinreg.ssr/fullLinreg.df_resid) * C[i][i])\n",
    "    return [left_limit.tolist(), right_limit.tolist()]"
   ]
  },
  {
   "cell_type": "code",
   "execution_count": 1235,
   "metadata": {},
   "outputs": [
    {
     "name": "stdout",
     "output_type": "stream",
     "text": [
      "confidence interval with 95% confidence for beta_0 is [0.4749006485244466, 0.5820443578471827]\n",
      "confidence interval with 95% confidence for beta_1 is [0.027966588379336035, 0.17688548171317808]\n",
      "confidence interval with 95% confidence for beta_2 is [0.2799174751126757, 0.4490493167996172]\n",
      "confidence interval with 95% confidence for beta_3 is [-0.0014864767986369786, 0.006403528550884694]\n"
     ]
    }
   ],
   "source": [
    "regression_cis = []\n",
    "for i, beta_hat in enumerate(fullLinreg.params):\n",
    "    reg_ci = beta_confidence_interval(i, x, beta_hat, 1.96)\n",
    "    regression_cis.append(reg_ci)\n",
    "    print('confidence interval with 95% confidence for beta_{} is {}'.format(i, reg_ci))\n",
    "betas.append(fullLinreg.params)"
   ]
  },
  {
   "cell_type": "markdown",
   "metadata": {},
   "source": [
    "#### Section 3"
   ]
  },
  {
   "cell_type": "code",
   "execution_count": 1236,
   "metadata": {},
   "outputs": [],
   "source": [
    "newSampledData = newSampledData.sort_values(by=['energy'])"
   ]
  },
  {
   "cell_type": "code",
   "execution_count": 1237,
   "metadata": {},
   "outputs": [],
   "source": [
    "increment_by = (0.3)/500\n",
    "bernoulli = []\n",
    "for i in range(len(newSampledData)):\n",
    "    p = 0.2 + increment_by * (i+1)\n",
    "    bernoulli.append(1 if np.random.binomial(1, p+increment_by) else 0)\n",
    "\n",
    "newSampledData['bernoulli_success'] = bernoulli"
   ]
  },
  {
   "cell_type": "markdown",
   "metadata": {},
   "source": [
    "#### Section 4.1"
   ]
  },
  {
   "cell_type": "code",
   "execution_count": 1238,
   "metadata": {},
   "outputs": [],
   "source": [
    "fullRemainingData = newSampledData[newSampledData.bernoulli_success != 1].drop(['bernoulli_success'], axis=1)"
   ]
  },
  {
   "cell_type": "code",
   "execution_count": 1239,
   "metadata": {},
   "outputs": [
    {
     "data": {
      "text/html": [
       "<div>\n",
       "<style scoped>\n",
       "    .dataframe tbody tr th:only-of-type {\n",
       "        vertical-align: middle;\n",
       "    }\n",
       "\n",
       "    .dataframe tbody tr th {\n",
       "        vertical-align: top;\n",
       "    }\n",
       "\n",
       "    .dataframe thead th {\n",
       "        text-align: right;\n",
       "    }\n",
       "</style>\n",
       "<table border=\"1\" class=\"dataframe\">\n",
       "  <thead>\n",
       "    <tr style=\"text-align: right;\">\n",
       "      <th></th>\n",
       "      <th>danceability</th>\n",
       "      <th>liveness</th>\n",
       "      <th>key</th>\n",
       "      <th>energy</th>\n",
       "    </tr>\n",
       "  </thead>\n",
       "  <tbody>\n",
       "    <tr>\n",
       "      <th>4918</th>\n",
       "      <td>0.1690</td>\n",
       "      <td>0.1170</td>\n",
       "      <td>0</td>\n",
       "      <td>0.00183</td>\n",
       "    </tr>\n",
       "    <tr>\n",
       "      <th>667</th>\n",
       "      <td>0.2420</td>\n",
       "      <td>0.1290</td>\n",
       "      <td>7</td>\n",
       "      <td>0.00281</td>\n",
       "    </tr>\n",
       "    <tr>\n",
       "      <th>3904</th>\n",
       "      <td>0.1490</td>\n",
       "      <td>0.0746</td>\n",
       "      <td>9</td>\n",
       "      <td>0.00597</td>\n",
       "    </tr>\n",
       "    <tr>\n",
       "      <th>2797</th>\n",
       "      <td>0.0657</td>\n",
       "      <td>0.1350</td>\n",
       "      <td>11</td>\n",
       "      <td>0.00707</td>\n",
       "    </tr>\n",
       "    <tr>\n",
       "      <th>499</th>\n",
       "      <td>0.5820</td>\n",
       "      <td>0.1020</td>\n",
       "      <td>1</td>\n",
       "      <td>0.01030</td>\n",
       "    </tr>\n",
       "    <tr>\n",
       "      <th>...</th>\n",
       "      <td>...</td>\n",
       "      <td>...</td>\n",
       "      <td>...</td>\n",
       "      <td>...</td>\n",
       "    </tr>\n",
       "    <tr>\n",
       "      <th>2137</th>\n",
       "      <td>0.2660</td>\n",
       "      <td>0.3500</td>\n",
       "      <td>8</td>\n",
       "      <td>0.99600</td>\n",
       "    </tr>\n",
       "    <tr>\n",
       "      <th>5649</th>\n",
       "      <td>0.4060</td>\n",
       "      <td>0.0919</td>\n",
       "      <td>5</td>\n",
       "      <td>0.99600</td>\n",
       "    </tr>\n",
       "    <tr>\n",
       "      <th>3709</th>\n",
       "      <td>0.2070</td>\n",
       "      <td>0.1330</td>\n",
       "      <td>11</td>\n",
       "      <td>0.99700</td>\n",
       "    </tr>\n",
       "    <tr>\n",
       "      <th>5730</th>\n",
       "      <td>0.2510</td>\n",
       "      <td>0.3700</td>\n",
       "      <td>8</td>\n",
       "      <td>0.99800</td>\n",
       "    </tr>\n",
       "    <tr>\n",
       "      <th>3449</th>\n",
       "      <td>0.3100</td>\n",
       "      <td>0.4170</td>\n",
       "      <td>9</td>\n",
       "      <td>0.99800</td>\n",
       "    </tr>\n",
       "  </tbody>\n",
       "</table>\n",
       "<p>501 rows × 4 columns</p>\n",
       "</div>"
      ],
      "text/plain": [
       "      danceability  liveness  key   energy\n",
       "4918        0.1690    0.1170    0  0.00183\n",
       "667         0.2420    0.1290    7  0.00281\n",
       "3904        0.1490    0.0746    9  0.00597\n",
       "2797        0.0657    0.1350   11  0.00707\n",
       "499         0.5820    0.1020    1  0.01030\n",
       "...            ...       ...  ...      ...\n",
       "2137        0.2660    0.3500    8  0.99600\n",
       "5649        0.4060    0.0919    5  0.99600\n",
       "3709        0.2070    0.1330   11  0.99700\n",
       "5730        0.2510    0.3700    8  0.99800\n",
       "3449        0.3100    0.4170    9  0.99800\n",
       "\n",
       "[501 rows x 4 columns]"
      ]
     },
     "execution_count": 1239,
     "metadata": {},
     "output_type": "execute_result"
    }
   ],
   "source": [
    "fullRemainingData"
   ]
  },
  {
   "cell_type": "code",
   "execution_count": 1240,
   "metadata": {},
   "outputs": [],
   "source": [
    "matrix = fullRemainingData.to_numpy()\n",
    "x = matrix[:,[0,1,2]]\n",
    "x = np.append(np.ones((len(fullRemainingData),1)), x, axis=1)\n",
    "y = matrix[:, -1].copy()"
   ]
  },
  {
   "cell_type": "code",
   "execution_count": 1241,
   "metadata": {},
   "outputs": [
    {
     "data": {
      "text/html": [
       "<table class=\"simpletable\">\n",
       "<caption>OLS Regression Results</caption>\n",
       "<tr>\n",
       "  <th>Dep. Variable:</th>            <td>y</td>        <th>  R-squared:         </th> <td>   0.111</td>\n",
       "</tr>\n",
       "<tr>\n",
       "  <th>Model:</th>                   <td>OLS</td>       <th>  Adj. R-squared:    </th> <td>   0.105</td>\n",
       "</tr>\n",
       "<tr>\n",
       "  <th>Method:</th>             <td>Least Squares</td>  <th>  F-statistic:       </th> <td>   20.65</td>\n",
       "</tr>\n",
       "<tr>\n",
       "  <th>Date:</th>             <td>Fri, 14 Aug 2020</td> <th>  Prob (F-statistic):</th> <td>1.26e-12</td>\n",
       "</tr>\n",
       "<tr>\n",
       "  <th>Time:</th>                 <td>14:21:24</td>     <th>  Log-Likelihood:    </th> <td>  9.9493</td>\n",
       "</tr>\n",
       "<tr>\n",
       "  <th>No. Observations:</th>      <td>   501</td>      <th>  AIC:               </th> <td>  -11.90</td>\n",
       "</tr>\n",
       "<tr>\n",
       "  <th>Df Residuals:</th>          <td>   497</td>      <th>  BIC:               </th> <td>   4.968</td>\n",
       "</tr>\n",
       "<tr>\n",
       "  <th>Df Model:</th>              <td>     3</td>      <th>                     </th>     <td> </td>   \n",
       "</tr>\n",
       "<tr>\n",
       "  <th>Covariance Type:</th>      <td>nonrobust</td>    <th>                     </th>     <td> </td>   \n",
       "</tr>\n",
       "</table>\n",
       "<table class=\"simpletable\">\n",
       "<tr>\n",
       "    <td></td>       <th>coef</th>     <th>std err</th>      <th>t</th>      <th>P>|t|</th>  <th>[0.025</th>    <th>0.975]</th>  \n",
       "</tr>\n",
       "<tr>\n",
       "  <th>const</th> <td>    0.3448</td> <td>    0.038</td> <td>    9.048</td> <td> 0.000</td> <td>    0.270</td> <td>    0.420</td>\n",
       "</tr>\n",
       "<tr>\n",
       "  <th>x1</th>    <td>    0.2792</td> <td>    0.053</td> <td>    5.279</td> <td> 0.000</td> <td>    0.175</td> <td>    0.383</td>\n",
       "</tr>\n",
       "<tr>\n",
       "  <th>x2</th>    <td>    0.4203</td> <td>    0.069</td> <td>    6.064</td> <td> 0.000</td> <td>    0.284</td> <td>    0.556</td>\n",
       "</tr>\n",
       "<tr>\n",
       "  <th>x3</th>    <td>    0.0020</td> <td>    0.003</td> <td>    0.674</td> <td> 0.501</td> <td>   -0.004</td> <td>    0.008</td>\n",
       "</tr>\n",
       "</table>\n",
       "<table class=\"simpletable\">\n",
       "<tr>\n",
       "  <th>Omnibus:</th>       <td>20.480</td> <th>  Durbin-Watson:     </th> <td>   0.210</td>\n",
       "</tr>\n",
       "<tr>\n",
       "  <th>Prob(Omnibus):</th> <td> 0.000</td> <th>  Jarque-Bera (JB):  </th> <td>   9.792</td>\n",
       "</tr>\n",
       "<tr>\n",
       "  <th>Skew:</th>          <td>-0.099</td> <th>  Prob(JB):          </th> <td> 0.00748</td>\n",
       "</tr>\n",
       "<tr>\n",
       "  <th>Kurtosis:</th>      <td> 2.344</td> <th>  Cond. No.          </th> <td>    45.4</td>\n",
       "</tr>\n",
       "</table><br/><br/>Warnings:<br/>[1] Standard Errors assume that the covariance matrix of the errors is correctly specified."
      ],
      "text/plain": [
       "<class 'statsmodels.iolib.summary.Summary'>\n",
       "\"\"\"\n",
       "                            OLS Regression Results                            \n",
       "==============================================================================\n",
       "Dep. Variable:                      y   R-squared:                       0.111\n",
       "Model:                            OLS   Adj. R-squared:                  0.105\n",
       "Method:                 Least Squares   F-statistic:                     20.65\n",
       "Date:                Fri, 14 Aug 2020   Prob (F-statistic):           1.26e-12\n",
       "Time:                        14:21:24   Log-Likelihood:                 9.9493\n",
       "No. Observations:                 501   AIC:                            -11.90\n",
       "Df Residuals:                     497   BIC:                             4.968\n",
       "Df Model:                           3                                         \n",
       "Covariance Type:            nonrobust                                         \n",
       "==============================================================================\n",
       "                 coef    std err          t      P>|t|      [0.025      0.975]\n",
       "------------------------------------------------------------------------------\n",
       "const          0.3448      0.038      9.048      0.000       0.270       0.420\n",
       "x1             0.2792      0.053      5.279      0.000       0.175       0.383\n",
       "x2             0.4203      0.069      6.064      0.000       0.284       0.556\n",
       "x3             0.0020      0.003      0.674      0.501      -0.004       0.008\n",
       "==============================================================================\n",
       "Omnibus:                       20.480   Durbin-Watson:                   0.210\n",
       "Prob(Omnibus):                  0.000   Jarque-Bera (JB):                9.792\n",
       "Skew:                          -0.099   Prob(JB):                      0.00748\n",
       "Kurtosis:                       2.344   Cond. No.                         45.4\n",
       "==============================================================================\n",
       "\n",
       "Warnings:\n",
       "[1] Standard Errors assume that the covariance matrix of the errors is correctly specified.\n",
       "\"\"\""
      ]
     },
     "execution_count": 1241,
     "metadata": {},
     "output_type": "execute_result"
    }
   ],
   "source": [
    "linreg = sm.OLS(y,x).fit()\n",
    "linreg.summary()"
   ]
  },
  {
   "cell_type": "code",
   "execution_count": 1242,
   "metadata": {},
   "outputs": [
    {
     "name": "stdout",
     "output_type": "stream",
     "text": [
      "confidence interval with 95% confidence for beta_0 is [0.27237052607712986, 0.4171877911484124]\n",
      "confidence interval with 95% confidence for beta_1 is [0.17873142884816068, 0.37973887367382936]\n",
      "confidence interval with 95% confidence for beta_2 is [0.2885693207996199, 0.5519480788492641]\n",
      "confidence interval with 95% confidence for beta_3 is [-0.003552674240780782, 0.007455163580727593]\n"
     ]
    }
   ],
   "source": [
    "halved_regression_cis = []\n",
    "for i, beta_hat in enumerate(linreg.params):\n",
    "    halved_reg_ci = beta_confidence_interval(i, x, beta_hat, 1.96)\n",
    "    halved_regression_cis.append(halved_reg_ci)\n",
    "    print('confidence interval with 95% confidence for beta_{} is {}'.format(i, halved_reg_ci))\n",
    "beta_cis.append(halved_regression_cis)\n",
    "betas.append(linreg.params)"
   ]
  },
  {
   "cell_type": "markdown",
   "metadata": {},
   "source": [
    "#### Section 4.2"
   ]
  },
  {
   "cell_type": "code",
   "execution_count": 1243,
   "metadata": {},
   "outputs": [],
   "source": [
    "missingData = newSampledData[newSampledData.bernoulli_success != 0].drop(['bernoulli_success'], axis=1)"
   ]
  },
  {
   "cell_type": "code",
   "execution_count": 1244,
   "metadata": {},
   "outputs": [],
   "source": [
    "missingData['energy'].values[:] = 0"
   ]
  },
  {
   "cell_type": "code",
   "execution_count": 1245,
   "metadata": {},
   "outputs": [],
   "source": [
    "missingData.loc[missingData['energy'] == 0.0, 'energy'] = np.NAN"
   ]
  },
  {
   "cell_type": "code",
   "execution_count": 1246,
   "metadata": {},
   "outputs": [],
   "source": [
    "halfEmptyData = pd.concat([fullRemainingData, missingData])"
   ]
  },
  {
   "cell_type": "code",
   "execution_count": 1247,
   "metadata": {},
   "outputs": [],
   "source": [
    "halfEmptyData['R'] = [1 if not np.isnan(x) else 0 for x in halfEmptyData['energy']]"
   ]
  },
  {
   "cell_type": "code",
   "execution_count": 1248,
   "metadata": {},
   "outputs": [
    {
     "data": {
      "text/html": [
       "<div>\n",
       "<style scoped>\n",
       "    .dataframe tbody tr th:only-of-type {\n",
       "        vertical-align: middle;\n",
       "    }\n",
       "\n",
       "    .dataframe tbody tr th {\n",
       "        vertical-align: top;\n",
       "    }\n",
       "\n",
       "    .dataframe thead th {\n",
       "        text-align: right;\n",
       "    }\n",
       "</style>\n",
       "<table border=\"1\" class=\"dataframe\">\n",
       "  <thead>\n",
       "    <tr style=\"text-align: right;\">\n",
       "      <th></th>\n",
       "      <th>danceability</th>\n",
       "      <th>liveness</th>\n",
       "      <th>key</th>\n",
       "      <th>energy</th>\n",
       "      <th>R</th>\n",
       "    </tr>\n",
       "  </thead>\n",
       "  <tbody>\n",
       "    <tr>\n",
       "      <th>4918</th>\n",
       "      <td>0.1690</td>\n",
       "      <td>0.1170</td>\n",
       "      <td>0</td>\n",
       "      <td>0.00183</td>\n",
       "      <td>1</td>\n",
       "    </tr>\n",
       "    <tr>\n",
       "      <th>667</th>\n",
       "      <td>0.2420</td>\n",
       "      <td>0.1290</td>\n",
       "      <td>7</td>\n",
       "      <td>0.00281</td>\n",
       "      <td>1</td>\n",
       "    </tr>\n",
       "    <tr>\n",
       "      <th>3904</th>\n",
       "      <td>0.1490</td>\n",
       "      <td>0.0746</td>\n",
       "      <td>9</td>\n",
       "      <td>0.00597</td>\n",
       "      <td>1</td>\n",
       "    </tr>\n",
       "    <tr>\n",
       "      <th>2797</th>\n",
       "      <td>0.0657</td>\n",
       "      <td>0.1350</td>\n",
       "      <td>11</td>\n",
       "      <td>0.00707</td>\n",
       "      <td>1</td>\n",
       "    </tr>\n",
       "    <tr>\n",
       "      <th>499</th>\n",
       "      <td>0.5820</td>\n",
       "      <td>0.1020</td>\n",
       "      <td>1</td>\n",
       "      <td>0.01030</td>\n",
       "      <td>1</td>\n",
       "    </tr>\n",
       "    <tr>\n",
       "      <th>...</th>\n",
       "      <td>...</td>\n",
       "      <td>...</td>\n",
       "      <td>...</td>\n",
       "      <td>...</td>\n",
       "      <td>...</td>\n",
       "    </tr>\n",
       "    <tr>\n",
       "      <th>2148</th>\n",
       "      <td>0.0802</td>\n",
       "      <td>0.3380</td>\n",
       "      <td>9</td>\n",
       "      <td>NaN</td>\n",
       "      <td>0</td>\n",
       "    </tr>\n",
       "    <tr>\n",
       "      <th>597</th>\n",
       "      <td>0.5210</td>\n",
       "      <td>0.6020</td>\n",
       "      <td>4</td>\n",
       "      <td>NaN</td>\n",
       "      <td>0</td>\n",
       "    </tr>\n",
       "    <tr>\n",
       "      <th>3460</th>\n",
       "      <td>0.4950</td>\n",
       "      <td>0.1840</td>\n",
       "      <td>8</td>\n",
       "      <td>NaN</td>\n",
       "      <td>0</td>\n",
       "    </tr>\n",
       "    <tr>\n",
       "      <th>4929</th>\n",
       "      <td>0.1790</td>\n",
       "      <td>0.9760</td>\n",
       "      <td>2</td>\n",
       "      <td>NaN</td>\n",
       "      <td>0</td>\n",
       "    </tr>\n",
       "    <tr>\n",
       "      <th>2456</th>\n",
       "      <td>0.2140</td>\n",
       "      <td>0.3420</td>\n",
       "      <td>4</td>\n",
       "      <td>NaN</td>\n",
       "      <td>0</td>\n",
       "    </tr>\n",
       "  </tbody>\n",
       "</table>\n",
       "<p>1000 rows × 5 columns</p>\n",
       "</div>"
      ],
      "text/plain": [
       "      danceability  liveness  key   energy  R\n",
       "4918        0.1690    0.1170    0  0.00183  1\n",
       "667         0.2420    0.1290    7  0.00281  1\n",
       "3904        0.1490    0.0746    9  0.00597  1\n",
       "2797        0.0657    0.1350   11  0.00707  1\n",
       "499         0.5820    0.1020    1  0.01030  1\n",
       "...            ...       ...  ...      ... ..\n",
       "2148        0.0802    0.3380    9      NaN  0\n",
       "597         0.5210    0.6020    4      NaN  0\n",
       "3460        0.4950    0.1840    8      NaN  0\n",
       "4929        0.1790    0.9760    2      NaN  0\n",
       "2456        0.2140    0.3420    4      NaN  0\n",
       "\n",
       "[1000 rows x 5 columns]"
      ]
     },
     "execution_count": 1248,
     "metadata": {},
     "output_type": "execute_result"
    }
   ],
   "source": [
    "halfEmptyData"
   ]
  },
  {
   "cell_type": "markdown",
   "metadata": {},
   "source": [
    "We assume $Y_i=\\beta_0+\\beta_1W_{{danceability}_i}+\\beta_2W_{{liveness}_i}+\\beta_3W_{{key}_i}$"
   ]
  },
  {
   "cell_type": "code",
   "execution_count": 1249,
   "metadata": {},
   "outputs": [],
   "source": [
    "# estimating betas with beta estimation formula from lecture\n",
    "def old_regression_imputation(data):\n",
    "    first_sum = 0\n",
    "    second_sum = 0\n",
    "    for row in data.iterrows():\n",
    "        Yi = row[1]['energy']\n",
    "        Ri = row[1]['R']\n",
    "        Ws = np.array([1, row[1]['danceability'],row[1]['liveness'],row[1]['key']]).reshape(1,-1)\n",
    "        first_sum += Ri * np.matmul(Ws.transpose(), Ws)\n",
    "        second_sum += Ri * Ws.transpose() * Yi if not np.isnan(Yi) else 0\n",
    "    return np.dot(np.linalg.inv(first_sum), second_sum)"
   ]
  },
  {
   "cell_type": "code",
   "execution_count": 1250,
   "metadata": {},
   "outputs": [],
   "source": [
    "# estimating betas with missing data filling and new regression\n",
    "def regression_imputation(missingData, notMissingData, linreg, realMissingData):\n",
    "    # missingData coverted to numpy array\n",
    "    matrix = missingData.to_numpy()\n",
    "    x = matrix[:,[0,1,2]]\n",
    "    x = np.append(np.ones((len(missingData),1)), x, axis=1)\n",
    "    # predicting the missing yi\n",
    "    yis = linreg.predict(x)\n",
    "    missingData['energy'] = yis\n",
    "    # new filled data\n",
    "    filledData = pd.concat([notMissingData, missingData])\n",
    "    # convert data to x,y again\n",
    "    matrix = filledData.to_numpy()\n",
    "    x = matrix[:,[0,1,2]]\n",
    "    x = np.append(np.ones((len(filledData),1)), x, axis=1)\n",
    "    y = matrix[:, -1].copy()\n",
    "    # estimate the new betas\n",
    "    regression = sm.OLS(y,x).fit()\n",
    "    #std = 1.96 * np.sqrt(mean_squared_error)\n",
    "    \n",
    "    sns.distplot(realMissingData['energy'], kde = False)\n",
    "    sns.distplot(yis, kde = False)\n",
    "    plt.legend(labels=['Real', 'Imputated'])\n",
    "    plt.title('Differences between real and regression imputated Y')\n",
    "    \n",
    "    return regression.params, filledData"
   ]
  },
  {
   "cell_type": "code",
   "execution_count": 1251,
   "metadata": {},
   "outputs": [
    {
     "name": "stderr",
     "output_type": "stream",
     "text": [
      "/usr/local/lib/python3.7/site-packages/scipy/stats/stats.py:1713: FutureWarning: Using a non-tuple sequence for multidimensional indexing is deprecated; use `arr[tuple(seq)]` instead of `arr[seq]`. In the future this will be interpreted as an array index, `arr[np.array(seq)]`, which will result either in an error or a different result.\n",
      "  return np.add.reduce(sorted[indexer] * weights, axis=axis) / sumval\n"
     ]
    },
    {
     "data": {
      "image/png": "[encoded data removed]",
      "text/plain": [
       "<Figure size 640x480 with 1 Axes>"
      ]
     },
     "metadata": {},
     "output_type": "display_data"
    }
   ],
   "source": [
    "reg_imp_params, filledData = regression_imputation(missingData, fullRemainingData, linreg, newSampledData[newSampledData.bernoulli_success != 0])\n",
    "betas.append(reg_imp_params)"
   ]
  },
  {
   "cell_type": "code",
   "execution_count": 1252,
   "metadata": {},
   "outputs": [
    {
     "name": "stdout",
     "output_type": "stream",
     "text": [
      "The new dataset with filled data based on regression imputation:\n"
     ]
    },
    {
     "data": {
      "text/html": [
       "<div>\n",
       "<style scoped>\n",
       "    .dataframe tbody tr th:only-of-type {\n",
       "        vertical-align: middle;\n",
       "    }\n",
       "\n",
       "    .dataframe tbody tr th {\n",
       "        vertical-align: top;\n",
       "    }\n",
       "\n",
       "    .dataframe thead th {\n",
       "        text-align: right;\n",
       "    }\n",
       "</style>\n",
       "<table border=\"1\" class=\"dataframe\">\n",
       "  <thead>\n",
       "    <tr style=\"text-align: right;\">\n",
       "      <th></th>\n",
       "      <th>danceability</th>\n",
       "      <th>liveness</th>\n",
       "      <th>key</th>\n",
       "      <th>energy</th>\n",
       "    </tr>\n",
       "  </thead>\n",
       "  <tbody>\n",
       "    <tr>\n",
       "      <th>4918</th>\n",
       "      <td>0.1690</td>\n",
       "      <td>0.1170</td>\n",
       "      <td>0</td>\n",
       "      <td>0.001830</td>\n",
       "    </tr>\n",
       "    <tr>\n",
       "      <th>667</th>\n",
       "      <td>0.2420</td>\n",
       "      <td>0.1290</td>\n",
       "      <td>7</td>\n",
       "      <td>0.002810</td>\n",
       "    </tr>\n",
       "    <tr>\n",
       "      <th>3904</th>\n",
       "      <td>0.1490</td>\n",
       "      <td>0.0746</td>\n",
       "      <td>9</td>\n",
       "      <td>0.005970</td>\n",
       "    </tr>\n",
       "    <tr>\n",
       "      <th>2797</th>\n",
       "      <td>0.0657</td>\n",
       "      <td>0.1350</td>\n",
       "      <td>11</td>\n",
       "      <td>0.007070</td>\n",
       "    </tr>\n",
       "    <tr>\n",
       "      <th>499</th>\n",
       "      <td>0.5820</td>\n",
       "      <td>0.1020</td>\n",
       "      <td>1</td>\n",
       "      <td>0.010300</td>\n",
       "    </tr>\n",
       "    <tr>\n",
       "      <th>...</th>\n",
       "      <td>...</td>\n",
       "      <td>...</td>\n",
       "      <td>...</td>\n",
       "      <td>...</td>\n",
       "    </tr>\n",
       "    <tr>\n",
       "      <th>2148</th>\n",
       "      <td>0.0802</td>\n",
       "      <td>0.3380</td>\n",
       "      <td>9</td>\n",
       "      <td>0.526782</td>\n",
       "    </tr>\n",
       "    <tr>\n",
       "      <th>597</th>\n",
       "      <td>0.5210</td>\n",
       "      <td>0.6020</td>\n",
       "      <td>4</td>\n",
       "      <td>0.751061</td>\n",
       "    </tr>\n",
       "    <tr>\n",
       "      <th>3460</th>\n",
       "      <td>0.4950</td>\n",
       "      <td>0.1840</td>\n",
       "      <td>8</td>\n",
       "      <td>0.575938</td>\n",
       "    </tr>\n",
       "    <tr>\n",
       "      <th>4929</th>\n",
       "      <td>0.1790</td>\n",
       "      <td>0.9760</td>\n",
       "      <td>2</td>\n",
       "      <td>0.808837</td>\n",
       "    </tr>\n",
       "    <tr>\n",
       "      <th>2456</th>\n",
       "      <td>0.2140</td>\n",
       "      <td>0.3420</td>\n",
       "      <td>4</td>\n",
       "      <td>0.556069</td>\n",
       "    </tr>\n",
       "  </tbody>\n",
       "</table>\n",
       "<p>1000 rows × 4 columns</p>\n",
       "</div>"
      ],
      "text/plain": [
       "      danceability  liveness  key    energy\n",
       "4918        0.1690    0.1170    0  0.001830\n",
       "667         0.2420    0.1290    7  0.002810\n",
       "3904        0.1490    0.0746    9  0.005970\n",
       "2797        0.0657    0.1350   11  0.007070\n",
       "499         0.5820    0.1020    1  0.010300\n",
       "...            ...       ...  ...       ...\n",
       "2148        0.0802    0.3380    9  0.526782\n",
       "597         0.5210    0.6020    4  0.751061\n",
       "3460        0.4950    0.1840    8  0.575938\n",
       "4929        0.1790    0.9760    2  0.808837\n",
       "2456        0.2140    0.3420    4  0.556069\n",
       "\n",
       "[1000 rows x 4 columns]"
      ]
     },
     "execution_count": 1252,
     "metadata": {},
     "output_type": "execute_result"
    }
   ],
   "source": [
    "print('The new dataset with filled data based on regression imputation:')\n",
    "filledData"
   ]
  },
  {
   "cell_type": "code",
   "execution_count": 1253,
   "metadata": {},
   "outputs": [],
   "source": [
    "matrix = filledData.to_numpy()\n",
    "x = matrix[:,[0,1,2]]\n",
    "x = np.append(np.ones((len(filledData),1)), x, axis=1)"
   ]
  },
  {
   "cell_type": "code",
   "execution_count": 1254,
   "metadata": {},
   "outputs": [
    {
     "name": "stdout",
     "output_type": "stream",
     "text": [
      "estimated beta0^=0.34477915861277103 compared to beta0=0.34477915861277114\n",
      "confidence interval with 95% confidence for beta_0 using regression inputation is [0.2912073039514029, 0.3983510132741392]\n",
      "#####################\n",
      "estimated beta1^=0.2792351512609952 compared to beta1=0.279235151260995\n",
      "confidence interval with 95% confidence for beta_1 using regression inputation is [0.20477570459407413, 0.35369459792791624]\n",
      "#####################\n",
      "estimated beta2^=0.4202586998244425 compared to beta2=0.420258699824442\n",
      "confidence interval with 95% confidence for beta_2 using regression inputation is [0.3356927789809717, 0.5048246206679133]\n",
      "#####################\n",
      "estimated beta3^=0.0019512446699734211 compared to beta3=0.0019512446699734055\n",
      "confidence interval with 95% confidence for beta_3 using regression inputation is [-0.0019937580047874152, 0.005896247344734257]\n",
      "#####################\n"
     ]
    }
   ],
   "source": [
    "regression_imputation_cis = []\n",
    "for i, beta_hat in enumerate(reg_imp_params):\n",
    "    reg_imp_ci = beta_confidence_interval(i, x, beta_hat, 1.96)\n",
    "    regression_imputation_cis.append(reg_imp_ci)\n",
    "    print(f'estimated beta{i}^={beta_hat} compared to beta{i}={linreg.params[i]}')\n",
    "    print('confidence interval with 95% confidence for beta_{} using regression inputation is {}'.format(i, reg_imp_ci))\n",
    "    print('#####################')\n",
    "beta_cis.append(regression_imputation_cis)"
   ]
  },
  {
   "cell_type": "markdown",
   "metadata": {},
   "source": [
    "It seems that using regression imputation we were able to estimate our model parameters almost perfectly, our estimation is really close to real parameters."
   ]
  },
  {
   "cell_type": "markdown",
   "metadata": {},
   "source": [
    "#### Section 4.3"
   ]
  },
  {
   "cell_type": "code",
   "execution_count": 1255,
   "metadata": {},
   "outputs": [],
   "source": [
    "# We choose an M for this part\n",
    "M = 5"
   ]
  },
  {
   "cell_type": "code",
   "execution_count": 1256,
   "metadata": {},
   "outputs": [],
   "source": [
    "def draw_yi(data, betas, std):\n",
    "    Yi_ms = []\n",
    "    for row in data.iterrows():\n",
    "        mean = betas[0] * 1 + betas[1] * row[1]['danceability'] + betas[2] * row[1]['liveness'] + betas[3] * row[1]['key']\n",
    "        Yi_m = np.random.normal(mean, std, size=1)\n",
    "        Yi_ms.append(Yi_m[0])\n",
    "    return Yi_ms"
   ]
  },
  {
   "cell_type": "code",
   "execution_count": 1257,
   "metadata": {},
   "outputs": [],
   "source": [
    "def multiple_imputation(missingData, notMissingData , betas, M, std):\n",
    "    parameters = []\n",
    "    Yis = []\n",
    "    variances = []\n",
    "    for _ in range(M):\n",
    "        Yi_ms = draw_yi(missingData, betas, std)\n",
    "        missingData['energy'] = Yi_ms\n",
    "        filledData = pd.concat([notMissingData, missingData])\n",
    "        # converting data to numpy arrays\n",
    "        matrix = filledData.to_numpy()\n",
    "        x = matrix[:,[0,1,2]]\n",
    "        x = np.append(np.ones((len(filledData),1)), x, axis=1)\n",
    "        y = matrix[:, -1].copy()\n",
    "        linear_reg = sm.OLS(y,x).fit()\n",
    "        parameters.append(linear_reg.params)\n",
    "        Yis.append(Yi_ms)\n",
    "        var = statsmodels.tools.eval_measures.mse(y, linear_reg.predict()) * np.linalg.inv(np.matmul(np.transpose(x),x))\n",
    "        variances.append(var)\n",
    "    return parameters, Yis, variances"
   ]
  },
  {
   "cell_type": "code",
   "execution_count": 1258,
   "metadata": {},
   "outputs": [],
   "source": [
    "std = np.sqrt(statsmodels.tools.eval_measures.mse(np.array(fullRemainingData['energy']), linreg.predict()))\n",
    "M_estimated_params, Yis, variances = multiple_imputation(missingData, fullRemainingData, linreg.params, M, std)"
   ]
  },
  {
   "cell_type": "code",
   "execution_count": 1259,
   "metadata": {},
   "outputs": [],
   "source": [
    "estimated_params = (1/M) * np.sum(M_estimated_params, axis=0)\n",
    "betas.append(estimated_params)"
   ]
  },
  {
   "cell_type": "code",
   "execution_count": 1260,
   "metadata": {},
   "outputs": [],
   "source": [
    "estimated_var = (1/M) * np.sum(variances, axis=0)"
   ]
  },
  {
   "cell_type": "code",
   "execution_count": 1261,
   "metadata": {},
   "outputs": [
    {
     "name": "stderr",
     "output_type": "stream",
     "text": [
      "/usr/local/lib/python3.7/site-packages/scipy/stats/stats.py:1713: FutureWarning: Using a non-tuple sequence for multidimensional indexing is deprecated; use `arr[tuple(seq)]` instead of `arr[seq]`. In the future this will be interpreted as an array index, `arr[np.array(seq)]`, which will result either in an error or a different result.\n",
      "  return np.add.reduce(sorted[indexer] * weights, axis=axis) / sumval\n"
     ]
    },
    {
     "data": {
      "text/plain": [
       "Text(0.5, 1.0, 'Differences between real and multiple imputated Y')"
      ]
     },
     "execution_count": 1261,
     "metadata": {},
     "output_type": "execute_result"
    },
    {
     "data": {
      "image/png": "[encoded data removed]",
      "text/plain": [
       "<Figure size 640x480 with 1 Axes>"
      ]
     },
     "metadata": {},
     "output_type": "display_data"
    }
   ],
   "source": [
    "sns.distplot(newSampledData[newSampledData.bernoulli_success != 0]['energy'], kde = False)\n",
    "sns.distplot((1/M) * np.sum(Yis, axis=0), kde = False)\n",
    "plt.legend(labels=['Real', 'Imputated'])\n",
    "plt.title('Differences between real and multiple imputated Y')"
   ]
  },
  {
   "cell_type": "code",
   "execution_count": 1262,
   "metadata": {},
   "outputs": [
    {
     "name": "stdout",
     "output_type": "stream",
     "text": [
      "estimated beta0^=0.33877485450170636 compared to beta0=0.34477915861277114\n",
      "confidence interval with 95% confidence for beta_0 using multiple inputation is [0.2852029998403382, 0.3923467091630745]\n",
      "#####################\n",
      "estimated beta1^=0.285457671341174 compared to beta1=0.279235151260995\n",
      "confidence interval with 95% confidence for beta_1 using multiple inputation is [0.21099822467425294, 0.35991711800809506]\n",
      "#####################\n",
      "estimated beta2^=0.42280999891340754 compared to beta2=0.420258699824442\n",
      "confidence interval with 95% confidence for beta_2 using multiple inputation is [0.3382440780699367, 0.5073759197568783]\n",
      "#####################\n",
      "estimated beta3^=0.0021670011112877815 compared to beta3=0.0019512446699734055\n",
      "confidence interval with 95% confidence for beta_3 using multiple inputation is [-0.0017780015634730546, 0.006112003786048618]\n",
      "#####################\n"
     ]
    }
   ],
   "source": [
    "mult_imputation_cis = []\n",
    "for i, beta_hat in enumerate(estimated_params):\n",
    "    mult_imp_ci = beta_confidence_interval(i, x, beta_hat, 1.96)\n",
    "    mult_imputation_cis.append(mult_imp_ci)\n",
    "    print(f'estimated beta{i}^={beta_hat} compared to beta{i}={linreg.params[i]}')\n",
    "    print('confidence interval with 95% confidence for beta_{} using multiple inputation is {}'.format(i, mult_imp_ci))\n",
    "    print('#####################')\n",
    "beta_cis.append(mult_imputation_cis)"
   ]
  },
  {
   "cell_type": "markdown",
   "metadata": {},
   "source": [
    "It seems that by using multiple imputation we were able to estimate our model parameters pretty close, however not as close as regression imputation.<br>\n",
    "We assume that due to the fact that we draw uniform yi in this method in contrast of using real yi in regression imputation, this method is slightly less accurate."
   ]
  },
  {
   "cell_type": "markdown",
   "metadata": {},
   "source": [
    "#### Section 4.4"
   ]
  },
  {
   "cell_type": "code",
   "execution_count": 1263,
   "metadata": {},
   "outputs": [],
   "source": [
    "betas_MI = M_estimated_params[-1]\n",
    "betas.append(betas_MI)"
   ]
  },
  {
   "cell_type": "code",
   "execution_count": 1264,
   "metadata": {},
   "outputs": [],
   "source": [
    "def robin_equation(M_est_params, MI_est, Yis, vars_est, M):\n",
    "    std = 1.96 * np.sqrt(sum(vars_est)/M + (M+1) * (sum(np.power(M_est_params-MI_est,2))/(M * (M - 1))))\n",
    "    MI_ci = []\n",
    "    for i in range(len(MI_est)):\n",
    "        MI_ci.append([MI_est[i] - std[i][i],MI_est[i] + std[i][i]])\n",
    "    return MI_ci"
   ]
  },
  {
   "cell_type": "code",
   "execution_count": 1265,
   "metadata": {},
   "outputs": [
    {
     "name": "stderr",
     "output_type": "stream",
     "text": [
      "/usr/local/lib/python3.7/site-packages/ipykernel_launcher.py:2: RuntimeWarning: invalid value encountered in sqrt\n",
      "  \n"
     ]
    }
   ],
   "source": [
    "robin_cis = robin_equation(estimated_params, betas_MI, Yis, variances, M)"
   ]
  },
  {
   "cell_type": "code",
   "execution_count": 1266,
   "metadata": {},
   "outputs": [
    {
     "name": "stdout",
     "output_type": "stream",
     "text": [
      "confidence interval with 95% confidence for beta_0=0.34477915861277114 using multiple inputation is [0.26804844547566775, 0.4087844507065116]\n",
      "#####################\n",
      "confidence interval with 95% confidence for beta_1=0.279235151260995 using multiple inputation is [0.17979608247807763, 0.35635067372947116]\n",
      "#####################\n",
      "confidence interval with 95% confidence for beta_2=0.420258699824442 using multiple inputation is [0.36204479231660514, 0.5569848486662113]\n",
      "#####################\n",
      "confidence interval with 95% confidence for beta_3=0.0019512446699734055 using multiple inputation is [-0.042750666566572317, 0.04486373309142424]\n",
      "#####################\n"
     ]
    }
   ],
   "source": [
    "robin_ci = []\n",
    "for i, ci in enumerate(robin_cis):\n",
    "    robin_ci.append(ci)\n",
    "    print('confidence interval with 95% confidence for beta_{}={} using multiple inputation is {}'.format(i, linreg.params[i], ci))\n",
    "    print('#####################')\n",
    "beta_cis.append(robin_ci)"
   ]
  },
  {
   "cell_type": "markdown",
   "metadata": {},
   "source": [
    "#### Section 4.5"
   ]
  },
  {
   "cell_type": "code",
   "execution_count": 1268,
   "metadata": {},
   "outputs": [],
   "source": [
    "matrix = halfEmptyData.to_numpy()\n",
    "W = matrix[:,[0,1,2]]\n",
    "W = np.append(np.ones((len(halfEmptyData),1)), W, axis=1)\n",
    "R = matrix[:, -1].copy()"
   ]
  },
  {
   "cell_type": "code",
   "execution_count": 1269,
   "metadata": {},
   "outputs": [
    {
     "name": "stdout",
     "output_type": "stream",
     "text": [
      "Optimization terminated successfully.\n",
      "         Current function value: 0.689545\n",
      "         Iterations 4\n"
     ]
    }
   ],
   "source": [
    "logit = sm.Logit(R,W).fit()"
   ]
  },
  {
   "cell_type": "code",
   "execution_count": 1270,
   "metadata": {},
   "outputs": [
    {
     "data": {
      "text/html": [
       "<table class=\"simpletable\">\n",
       "<caption>Logit Regression Results</caption>\n",
       "<tr>\n",
       "  <th>Dep. Variable:</th>         <td>y</td>        <th>  No. Observations:  </th>  <td>  1000</td> \n",
       "</tr>\n",
       "<tr>\n",
       "  <th>Model:</th>               <td>Logit</td>      <th>  Df Residuals:      </th>  <td>   996</td> \n",
       "</tr>\n",
       "<tr>\n",
       "  <th>Method:</th>               <td>MLE</td>       <th>  Df Model:          </th>  <td>     3</td> \n",
       "</tr>\n",
       "<tr>\n",
       "  <th>Date:</th>          <td>Fri, 14 Aug 2020</td> <th>  Pseudo R-squ.:     </th> <td>0.005194</td>\n",
       "</tr>\n",
       "<tr>\n",
       "  <th>Time:</th>              <td>14:21:26</td>     <th>  Log-Likelihood:    </th> <td> -689.55</td>\n",
       "</tr>\n",
       "<tr>\n",
       "  <th>converged:</th>           <td>True</td>       <th>  LL-Null:           </th> <td> -693.15</td>\n",
       "</tr>\n",
       "<tr>\n",
       "  <th> </th>                      <td> </td>        <th>  LLR p-value:       </th>  <td>0.06580</td>\n",
       "</tr>\n",
       "</table>\n",
       "<table class=\"simpletable\">\n",
       "<tr>\n",
       "    <td></td>       <th>coef</th>     <th>std err</th>      <th>z</th>      <th>P>|z|</th>  <th>[0.025</th>    <th>0.975]</th>  \n",
       "</tr>\n",
       "<tr>\n",
       "  <th>const</th> <td>    0.1096</td> <td>    0.238</td> <td>    0.461</td> <td> 0.645</td> <td>   -0.356</td> <td>    0.576</td>\n",
       "</tr>\n",
       "<tr>\n",
       "  <th>x1</th>    <td>    0.1040</td> <td>    0.330</td> <td>    0.315</td> <td> 0.753</td> <td>   -0.544</td> <td>    0.752</td>\n",
       "</tr>\n",
       "<tr>\n",
       "  <th>x2</th>    <td>   -0.9832</td> <td>    0.384</td> <td>   -2.558</td> <td> 0.011</td> <td>   -1.736</td> <td>   -0.230</td>\n",
       "</tr>\n",
       "<tr>\n",
       "  <th>x3</th>    <td>    0.0065</td> <td>    0.018</td> <td>    0.369</td> <td> 0.712</td> <td>   -0.028</td> <td>    0.041</td>\n",
       "</tr>\n",
       "</table>"
      ],
      "text/plain": [
       "<class 'statsmodels.iolib.summary.Summary'>\n",
       "\"\"\"\n",
       "                           Logit Regression Results                           \n",
       "==============================================================================\n",
       "Dep. Variable:                      y   No. Observations:                 1000\n",
       "Model:                          Logit   Df Residuals:                      996\n",
       "Method:                           MLE   Df Model:                            3\n",
       "Date:                Fri, 14 Aug 2020   Pseudo R-squ.:                0.005194\n",
       "Time:                        14:21:26   Log-Likelihood:                -689.55\n",
       "converged:                       True   LL-Null:                       -693.15\n",
       "                                        LLR p-value:                   0.06580\n",
       "==============================================================================\n",
       "                 coef    std err          z      P>|z|      [0.025      0.975]\n",
       "------------------------------------------------------------------------------\n",
       "const          0.1096      0.238      0.461      0.645      -0.356       0.576\n",
       "x1             0.1040      0.330      0.315      0.753      -0.544       0.752\n",
       "x2            -0.9832      0.384     -2.558      0.011      -1.736      -0.230\n",
       "x3             0.0065      0.018      0.369      0.712      -0.028       0.041\n",
       "==============================================================================\n",
       "\"\"\""
      ]
     },
     "execution_count": 1270,
     "metadata": {},
     "output_type": "execute_result"
    }
   ],
   "source": [
    "logit.summary()"
   ]
  },
  {
   "cell_type": "code",
   "execution_count": 1271,
   "metadata": {},
   "outputs": [],
   "source": [
    "pi_dist = []\n",
    "params = logit.params\n",
    "for row in halfEmptyData.iterrows():\n",
    "    exponent = params[0] * 1 + params[1] * row[1]['danceability'] + params[2] * row[1]['liveness'] + params[3] * row[1]['key']\n",
    "    PRx = np.divide(np.exp(exponent),1+np.exp(exponent))\n",
    "    pi_dist.append(PRx)"
   ]
  },
  {
   "cell_type": "markdown",
   "metadata": {},
   "source": [
    "#### Section 4.6"
   ]
  },
  {
   "cell_type": "code",
   "execution_count": 1272,
   "metadata": {},
   "outputs": [],
   "source": [
    "def s(x, data, pi):\n",
    "    data.fillna(0)\n",
    "    score = 0\n",
    "    for i, row in enumerate(data.iterrows()):\n",
    "        if row[1]['R']:\n",
    "            score += (row[1]['R']/pi[i]) * (row[1]['energy'] - (x[0] * 1 + x[1] * row[1]['danceability'] + x[2] * row[1]['liveness'] + x[3] * row[1]['key']))**2\n",
    "    return score"
   ]
  },
  {
   "cell_type": "code",
   "execution_count": 1273,
   "metadata": {},
   "outputs": [
    {
     "name": "stdout",
     "output_type": "stream",
     "text": [
      "Optimization terminated successfully.\n",
      "         Current function value: 56.377478\n",
      "         Iterations: 357\n",
      "         Function evaluations: 608\n"
     ]
    }
   ],
   "source": [
    "minimum = fmin(s,np.array([0,0,0,0]),args=(halfEmptyData, pi_dist))"
   ]
  },
  {
   "cell_type": "code",
   "execution_count": 1274,
   "metadata": {},
   "outputs": [],
   "source": [
    "betas.append(minimum)"
   ]
  },
  {
   "cell_type": "markdown",
   "metadata": {},
   "source": [
    "#### Section 4.7"
   ]
  },
  {
   "cell_type": "code",
   "execution_count": 1275,
   "metadata": {},
   "outputs": [],
   "source": [
    "bootstrap_betas = []\n",
    "for b in range(B):\n",
    "    x = []\n",
    "    y = []\n",
    "    samples = halfEmptyData.sample(len(halfEmptyData), replace=True, random_state=b)\n",
    "    X_b = samples[['danceability','liveness','key']]\n",
    "    Y_b = samples['R']\n",
    "    logit_b = sm.Logit(Y_b, X_b).fit(disp=False)\n",
    "    params_b = logit_b.params.to_numpy()\n",
    "    for index, row in samples.iterrows():\n",
    "        if row['R']:\n",
    "            r = [1, row['danceability'],row['liveness'],row['key']]\n",
    "            proba = logit_b.predict(params_b, r)\n",
    "            pi_w = np.sqrt(proba)\n",
    "            r = r[1:]/pi_w\n",
    "            r = np.insert(r,0,1)\n",
    "            x.append(r)\n",
    "            y.append(row['energy']/pi_w)\n",
    "    x = np.array(x)\n",
    "    y = np.array(y)\n",
    "    beta_b = (np.linalg.inv((x.T).dot(x)).dot(x.T)).dot(y)\n",
    "    bootstrap_betas.append(beta_b)"
   ]
  },
  {
   "cell_type": "code",
   "execution_count": 1276,
   "metadata": {},
   "outputs": [],
   "source": [
    "beta_index = []\n",
    "for i in range(4):\n",
    "    beta = []\n",
    "    for b in bootstrap_betas:\n",
    "        beta.append(b[i])\n",
    "    beta_index.append(beta)"
   ]
  },
  {
   "cell_type": "code",
   "execution_count": 1277,
   "metadata": {},
   "outputs": [
    {
     "name": "stdout",
     "output_type": "stream",
     "text": [
      "estimated beta0^=0.0021670011112877815 compared to beta0=0.34477915861277114\n",
      "confidence interval with 95% confidence for beta_0 using multiple inputation is [0.3057660322186528, 0.5338679330989954]\n",
      "#####################\n",
      "estimated beta1^=0.0021670011112877815 compared to beta1=0.279235151260995\n",
      "confidence interval with 95% confidence for beta_1 using multiple inputation is [0.1575364933638898, 0.390769032125551]\n",
      "#####################\n",
      "estimated beta2^=0.0021670011112877815 compared to beta2=0.420258699824442\n",
      "confidence interval with 95% confidence for beta_2 using multiple inputation is [0.29920675960514187, 0.565215832162517]\n",
      "#####################\n",
      "estimated beta3^=0.0021670011112877815 compared to beta3=0.0019512446699734055\n",
      "confidence interval with 95% confidence for beta_3 using multiple inputation is [-0.003577698454707654, 0.007627984505854562]\n",
      "#####################\n"
     ]
    }
   ],
   "source": [
    "ipws_ci = []\n",
    "for i, beta_hats in enumerate(beta_index):\n",
    "    ipw_ci = bootstrap_pencentile_ci(beta_hats, alpha)\n",
    "    ipws_ci.append(ipw_ci)\n",
    "    print(f'estimated beta{i}^={beta_hat} compared to beta{i}={linreg.params[i]}')\n",
    "    print('confidence interval with 95% confidence for beta_{} using multiple inputation is {}'.format(i, ipw_ci))\n",
    "    print('#####################')\n",
    "beta_cis.append(ipws_ci)"
   ]
  },
  {
   "cell_type": "markdown",
   "metadata": {},
   "source": [
    "#### Section 4.8.1"
   ]
  },
  {
   "cell_type": "code",
   "execution_count": 1278,
   "metadata": {},
   "outputs": [],
   "source": [
    "beta_indexes = []\n",
    "for i in range(4):\n",
    "    beta2 = []\n",
    "    for b in betas:\n",
    "        beta2.append(b[i])\n",
    "    beta_indexes.append(beta2)"
   ]
  },
  {
   "cell_type": "code",
   "execution_count": 1279,
   "metadata": {},
   "outputs": [
    {
     "data": {
      "image/png": "[encoded data removed]",
      "text/plain": [
       "<Figure size 500x400 with 1 Axes>"
      ]
     },
     "metadata": {},
     "output_type": "display_data"
    },
    {
     "data": {
      "image/png": "[encoded data removed]",
      "text/plain": [
       "<Figure size 500x400 with 1 Axes>"
      ]
     },
     "metadata": {},
     "output_type": "display_data"
    },
    {
     "data": {
      "image/png": "[encoded data removed]",
      "text/plain": [
       "<Figure size 500x400 with 1 Axes>"
      ]
     },
     "metadata": {},
     "output_type": "display_data"
    },
    {
     "data": {
      "image/png": "[encoded data removed]",
      "text/plain": [
       "<Figure size 500x400 with 1 Axes>"
      ]
     },
     "metadata": {},
     "output_type": "display_data"
    }
   ],
   "source": [
    "import matplotlib.pyplot as plt; plt.rcdefaults()\n",
    "import numpy as np\n",
    "import matplotlib.pyplot as plt\n",
    "\n",
    "colors = ['black','pink', 'peachpuff', 'lightgreen','lightblue','indigo']\n",
    "objects = ('model','half-data', 'reg-imp', 'mult-imp', 'robin','ipw')\n",
    "for i in range(4):\n",
    "    plt.figure(figsize=(5,4))\n",
    "    y_pos = np.arange(len(objects))\n",
    "    performance = beta_indexes[i]\n",
    "\n",
    "    plt.bar(y_pos, performance, align='center', alpha=0.5, color=colors)\n",
    "    plt.xticks(y_pos, objects)\n",
    "    plt.ylabel(f'beta{i}')\n",
    "    plt.title('Estimation Method Used')\n",
    "\n",
    "    plt.show()"
   ]
  },
  {
   "cell_type": "markdown",
   "metadata": {},
   "source": [
    "It seems most methods doesnt really succeed in estimating the betas 0 and 1 of the real model (gray) with an exception of beta2 and beta3 which is the liveness and key.<br>\n",
    "They do however succeed well in estimating the parameters of our half full model (pink) presented in section 4.3. <br>\n",
    "Beta2 seems to be the most informative variable in our model since it gets the highest weight of all variables and so it seems that for this reason all methods seem to better succeed estimating this parameter."
   ]
  },
  {
   "cell_type": "markdown",
   "metadata": {},
   "source": [
    "#### Section 4.8.2"
   ]
  },
  {
   "cell_type": "code",
   "execution_count": 1280,
   "metadata": {},
   "outputs": [],
   "source": [
    "def ci_boxplot(intervals):\n",
    "    labels = ['only-full-data', 'reg-imp', 'mult-imp', 'robin','ipw']\n",
    "    for index, beta in enumerate(fullLinreg.params):\n",
    "        ci_intervals = [interval[index] for interval in intervals]\n",
    "        plt.figure(figsize=(5,4))\n",
    "        # plot box plots of each sample mean.\n",
    "        bplot = plt.boxplot(ci_intervals,\n",
    "                   vert=True,\n",
    "                   patch_artist=True,\n",
    "                   labels=labels)\n",
    "        colors = ['pink', 'peachpuff', 'lightgreen','lightblue','indigo']\n",
    "        for patch, color in zip(bplot['boxes'], colors):\n",
    "            patch.set_facecolor(color)\n",
    "        plt.title(f'CIs of beta{index}')\n",
    "        plt.plot([1, len(ci_intervals)],[beta,beta], 'k-', lw=1, color='red')\n",
    "        plt.show()"
   ]
  },
  {
   "cell_type": "code",
   "execution_count": 1281,
   "metadata": {},
   "outputs": [
    {
     "data": {
      "image/png": "[encoded data removed]",
      "text/plain": [
       "<Figure size 500x400 with 1 Axes>"
      ]
     },
     "metadata": {},
     "output_type": "display_data"
    },
    {
     "data": {
      "image/png": "[encoded data removed]",
      "text/plain": [
       "<Figure size 500x400 with 1 Axes>"
      ]
     },
     "metadata": {},
     "output_type": "display_data"
    },
    {
     "data": {
      "image/png": "[encoded data removed]",
      "text/plain": [
       "<Figure size 500x400 with 1 Axes>"
      ]
     },
     "metadata": {},
     "output_type": "display_data"
    },
    {
     "data": {
      "image/png": "[encoded data removed]",
      "text/plain": [
       "<Figure size 500x400 with 1 Axes>"
      ]
     },
     "metadata": {},
     "output_type": "display_data"
    }
   ],
   "source": [
    "ci_boxplot(beta_cis)"
   ]
  },
  {
   "cell_type": "markdown",
   "metadata": {},
   "source": [
    "First, we can see that no interval of our methods captured beta0 and beta1 which are the intercept and the danceability parameters.<br>\n",
    "All intervals captured beta2 and beta3 which are the liveness and key parameters.<br>\n",
    "We saw on the last section that our methods did capture quite well the half full data we had from section 3, but do worse on the full model from section 2.<br>\n",
    "For this reason our intervals also do worse on the full model."
   ]
  }
 ],
 "metadata": {
  "kernelspec": {
   "display_name": "Python 3",
   "language": "python",
   "name": "python3"
  },
  "language_info": {
   "codemirror_mode": {
    "name": "ipython",
    "version": 3
   },
   "file_extension": ".py",
   "mimetype": "text/x-python",
   "name": "python",
   "nbconvert_exporter": "python",
   "pygments_lexer": "ipython3",
   "version": "3.7.0"
  }
 },
 "nbformat": 4,
 "nbformat_minor": 2
}
