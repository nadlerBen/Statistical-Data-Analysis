{
 "cells": [
  {
   "cell_type": "markdown",
   "metadata": {},
   "source": [
    "# Mission 2"
   ]
  },
  {
   "cell_type": "code",
   "execution_count": 2,
   "metadata": {},
   "outputs": [],
   "source": [
    "import pandas as pd\n",
    "import matplotlib.pyplot as plt\n",
    "from matplotlib.lines import Line2D\n",
    "from matplotlib.ticker import PercentFormatter\n",
    "import numpy as np\n",
    "from IPython.display import clear_output\n",
    "from statistics import stdev\n",
    "from scipy.stats import ttest_ind\n",
    "import scipy\n",
    "import scipy.stats as sc\n",
    "import scipy.stats.distributions as distributions\n",
    "\n",
    "\n",
    "musicFrom2010_2019 = pd.read_csv('dataset-of-10s.csv')"
   ]
  },
  {
   "cell_type": "code",
   "execution_count": 3,
   "metadata": {},
   "outputs": [
    {
     "data": {
      "text/html": [
       "<div>\n",
       "<style scoped>\n",
       "    .dataframe tbody tr th:only-of-type {\n",
       "        vertical-align: middle;\n",
       "    }\n",
       "\n",
       "    .dataframe tbody tr th {\n",
       "        vertical-align: top;\n",
       "    }\n",
       "\n",
       "    .dataframe thead th {\n",
       "        text-align: right;\n",
       "    }\n",
       "</style>\n",
       "<table border=\"1\" class=\"dataframe\">\n",
       "  <thead>\n",
       "    <tr style=\"text-align: right;\">\n",
       "      <th></th>\n",
       "      <th>track</th>\n",
       "      <th>artist</th>\n",
       "      <th>uri</th>\n",
       "      <th>danceability</th>\n",
       "      <th>energy</th>\n",
       "      <th>key</th>\n",
       "      <th>loudness</th>\n",
       "      <th>mode</th>\n",
       "      <th>speechiness</th>\n",
       "      <th>acousticness</th>\n",
       "      <th>instrumentalness</th>\n",
       "      <th>liveness</th>\n",
       "      <th>valence</th>\n",
       "      <th>tempo</th>\n",
       "      <th>duration_ms</th>\n",
       "      <th>time_signature</th>\n",
       "      <th>chorus_hit</th>\n",
       "      <th>sections</th>\n",
       "      <th>target</th>\n",
       "    </tr>\n",
       "  </thead>\n",
       "  <tbody>\n",
       "    <tr>\n",
       "      <th>0</th>\n",
       "      <td>Wild Things</td>\n",
       "      <td>Alessia Cara</td>\n",
       "      <td>spotify:track:2ZyuwVvV6Z3XJaXIFbspeE</td>\n",
       "      <td>0.741</td>\n",
       "      <td>0.626</td>\n",
       "      <td>1</td>\n",
       "      <td>-4.826</td>\n",
       "      <td>0</td>\n",
       "      <td>0.0886</td>\n",
       "      <td>0.02000</td>\n",
       "      <td>0.000</td>\n",
       "      <td>0.0828</td>\n",
       "      <td>0.706</td>\n",
       "      <td>108.029</td>\n",
       "      <td>188493</td>\n",
       "      <td>4</td>\n",
       "      <td>41.18681</td>\n",
       "      <td>10</td>\n",
       "      <td>1</td>\n",
       "    </tr>\n",
       "    <tr>\n",
       "      <th>1</th>\n",
       "      <td>Surfboard</td>\n",
       "      <td>Esquivel!</td>\n",
       "      <td>spotify:track:61APOtq25SCMuK0V5w2Kgp</td>\n",
       "      <td>0.447</td>\n",
       "      <td>0.247</td>\n",
       "      <td>5</td>\n",
       "      <td>-14.661</td>\n",
       "      <td>0</td>\n",
       "      <td>0.0346</td>\n",
       "      <td>0.87100</td>\n",
       "      <td>0.814</td>\n",
       "      <td>0.0946</td>\n",
       "      <td>0.250</td>\n",
       "      <td>155.489</td>\n",
       "      <td>176880</td>\n",
       "      <td>3</td>\n",
       "      <td>33.18083</td>\n",
       "      <td>9</td>\n",
       "      <td>0</td>\n",
       "    </tr>\n",
       "    <tr>\n",
       "      <th>2</th>\n",
       "      <td>Love Someone</td>\n",
       "      <td>Lukas Graham</td>\n",
       "      <td>spotify:track:2JqnpexlO9dmvjUMCaLCLJ</td>\n",
       "      <td>0.550</td>\n",
       "      <td>0.415</td>\n",
       "      <td>9</td>\n",
       "      <td>-6.557</td>\n",
       "      <td>0</td>\n",
       "      <td>0.0520</td>\n",
       "      <td>0.16100</td>\n",
       "      <td>0.000</td>\n",
       "      <td>0.1080</td>\n",
       "      <td>0.274</td>\n",
       "      <td>172.065</td>\n",
       "      <td>205463</td>\n",
       "      <td>4</td>\n",
       "      <td>44.89147</td>\n",
       "      <td>9</td>\n",
       "      <td>1</td>\n",
       "    </tr>\n",
       "    <tr>\n",
       "      <th>3</th>\n",
       "      <td>Music To My Ears (feat. Tory Lanez)</td>\n",
       "      <td>Keys N Krates</td>\n",
       "      <td>spotify:track:0cjfLhk8WJ3etPTCseKXtk</td>\n",
       "      <td>0.502</td>\n",
       "      <td>0.648</td>\n",
       "      <td>0</td>\n",
       "      <td>-5.698</td>\n",
       "      <td>0</td>\n",
       "      <td>0.0527</td>\n",
       "      <td>0.00513</td>\n",
       "      <td>0.000</td>\n",
       "      <td>0.2040</td>\n",
       "      <td>0.291</td>\n",
       "      <td>91.837</td>\n",
       "      <td>193043</td>\n",
       "      <td>4</td>\n",
       "      <td>29.52521</td>\n",
       "      <td>7</td>\n",
       "      <td>0</td>\n",
       "    </tr>\n",
       "    <tr>\n",
       "      <th>4</th>\n",
       "      <td>Juju On That Beat (TZ Anthem)</td>\n",
       "      <td>Zay Hilfigerrr &amp; Zayion McCall</td>\n",
       "      <td>spotify:track:1lItf5ZXJc1by9SbPeljFd</td>\n",
       "      <td>0.807</td>\n",
       "      <td>0.887</td>\n",
       "      <td>1</td>\n",
       "      <td>-3.892</td>\n",
       "      <td>1</td>\n",
       "      <td>0.2750</td>\n",
       "      <td>0.00381</td>\n",
       "      <td>0.000</td>\n",
       "      <td>0.3910</td>\n",
       "      <td>0.780</td>\n",
       "      <td>160.517</td>\n",
       "      <td>144244</td>\n",
       "      <td>4</td>\n",
       "      <td>24.99199</td>\n",
       "      <td>8</td>\n",
       "      <td>1</td>\n",
       "    </tr>\n",
       "  </tbody>\n",
       "</table>\n",
       "</div>"
      ],
      "text/plain": [
       "                                 track                          artist  \\\n",
       "0                          Wild Things                    Alessia Cara   \n",
       "1                            Surfboard                       Esquivel!   \n",
       "2                         Love Someone                    Lukas Graham   \n",
       "3  Music To My Ears (feat. Tory Lanez)                   Keys N Krates   \n",
       "4        Juju On That Beat (TZ Anthem)  Zay Hilfigerrr & Zayion McCall   \n",
       "\n",
       "                                    uri  danceability  energy  key  loudness  \\\n",
       "0  spotify:track:2ZyuwVvV6Z3XJaXIFbspeE         0.741   0.626    1    -4.826   \n",
       "1  spotify:track:61APOtq25SCMuK0V5w2Kgp         0.447   0.247    5   -14.661   \n",
       "2  spotify:track:2JqnpexlO9dmvjUMCaLCLJ         0.550   0.415    9    -6.557   \n",
       "3  spotify:track:0cjfLhk8WJ3etPTCseKXtk         0.502   0.648    0    -5.698   \n",
       "4  spotify:track:1lItf5ZXJc1by9SbPeljFd         0.807   0.887    1    -3.892   \n",
       "\n",
       "   mode  speechiness  acousticness  instrumentalness  liveness  valence  \\\n",
       "0     0       0.0886       0.02000             0.000    0.0828    0.706   \n",
       "1     0       0.0346       0.87100             0.814    0.0946    0.250   \n",
       "2     0       0.0520       0.16100             0.000    0.1080    0.274   \n",
       "3     0       0.0527       0.00513             0.000    0.2040    0.291   \n",
       "4     1       0.2750       0.00381             0.000    0.3910    0.780   \n",
       "\n",
       "     tempo  duration_ms  time_signature  chorus_hit  sections  target  \n",
       "0  108.029       188493               4    41.18681        10       1  \n",
       "1  155.489       176880               3    33.18083         9       0  \n",
       "2  172.065       205463               4    44.89147         9       1  \n",
       "3   91.837       193043               4    29.52521         7       0  \n",
       "4  160.517       144244               4    24.99199         8       1  "
      ]
     },
     "execution_count": 3,
     "metadata": {},
     "output_type": "execute_result"
    }
   ],
   "source": [
    "musicFrom2010_2019.head()"
   ]
  },
  {
   "cell_type": "markdown",
   "metadata": {},
   "source": [
    "## Part 1 - Estimation"
   ]
  },
  {
   "cell_type": "code",
   "execution_count": 4,
   "metadata": {},
   "outputs": [],
   "source": [
    "X = musicFrom2010_2019['key']\n",
    "Y = musicFrom2010_2019['mode']"
   ]
  },
  {
   "cell_type": "markdown",
   "metadata": {},
   "source": [
    "### Part 1A"
   ]
  },
  {
   "cell_type": "code",
   "execution_count": 5,
   "metadata": {},
   "outputs": [],
   "source": [
    "X_minor = musicFrom2010_2019[musicFrom2010_2019['mode'] == 0]['key']\n",
    "X_major = musicFrom2010_2019[musicFrom2010_2019['mode'] == 1]['key']"
   ]
  },
  {
   "cell_type": "code",
   "execution_count": 6,
   "metadata": {},
   "outputs": [],
   "source": [
    "major_mean = X_major.mean()\n",
    "major_se = X_major.sem()\n",
    "n_major = len(X_major)"
   ]
  },
  {
   "cell_type": "code",
   "execution_count": 7,
   "metadata": {},
   "outputs": [
    {
     "name": "stdout",
     "output_type": "stream",
     "text": [
      "Mean of X_major:  4.893220338983051 \n",
      "Number of samples X_major:  4130\n"
     ]
    }
   ],
   "source": [
    "print('Mean of X_major: ', major_mean, '\\nNumber of samples X_major: ', n_major)"
   ]
  },
  {
   "cell_type": "code",
   "execution_count": 111,
   "metadata": {},
   "outputs": [],
   "source": [
    "minor_mean = X_minor.mean()\n",
    "minor_se = X_minor.sem()\n",
    "n_minor = len(X_minor)"
   ]
  },
  {
   "cell_type": "code",
   "execution_count": 112,
   "metadata": {},
   "outputs": [
    {
     "name": "stdout",
     "output_type": "stream",
     "text": [
      "Mean of X_minor:  5.994268077601411 \n",
      "Number of samples X_minor:  2268\n"
     ]
    }
   ],
   "source": [
    "print('Mean of X_minor: ', minor_mean, '\\nNumber of samples X_minor: ', n_minor)"
   ]
  },
  {
   "cell_type": "markdown",
   "metadata": {},
   "source": [
    "### Part 1B"
   ]
  },
  {
   "cell_type": "markdown",
   "metadata": {},
   "source": [
    "For the major category, since n = 4130, we can assume using the Central Limit Theorem that Major Mean is normally distributed\n",
    "with an unknown expectation mu major and known standard error."
   ]
  },
  {
   "cell_type": "code",
   "execution_count": 113,
   "metadata": {},
   "outputs": [
    {
     "name": "stdout",
     "output_type": "stream",
     "text": [
      "Standard error of X_major:  0.05555550488751005\n"
     ]
    }
   ],
   "source": [
    "print('Standard error of X_major: ', major_se)"
   ]
  },
  {
   "cell_type": "markdown",
   "metadata": {},
   "source": [
    "With probability of about 95% the following interval will contain mu major:"
   ]
  },
  {
   "cell_type": "code",
   "execution_count": 11,
   "metadata": {},
   "outputs": [
    {
     "name": "stdout",
     "output_type": "stream",
     "text": [
      "[4.782109329208031, 5.004331348758071] contains mu of X_major with about 95% confidence\n"
     ]
    }
   ],
   "source": [
    "confidence_interval_major = [major_mean - 2 * major_se, major_mean + 2 * major_se]\n",
    "print(confidence_interval_major, 'contains mu of X_major with about 95% confidence')"
   ]
  },
  {
   "cell_type": "markdown",
   "metadata": {},
   "source": [
    "For the minor category, since n = 2268, we can assume using the Central Limit Theorem that Minor Mean is normally distributed\n",
    "with an unknown expectation mu minor and known standard error."
   ]
  },
  {
   "cell_type": "code",
   "execution_count": 115,
   "metadata": {},
   "outputs": [
    {
     "name": "stdout",
     "output_type": "stream",
     "text": [
      "Standard error of X_minor:  0.07482302627586153\n"
     ]
    }
   ],
   "source": [
    "print('Standard error of X_minor: ', minor_se)"
   ]
  },
  {
   "cell_type": "markdown",
   "metadata": {},
   "source": [
    "With probability of about 95% the following interval will contain mu minor:"
   ]
  },
  {
   "cell_type": "code",
   "execution_count": 116,
   "metadata": {},
   "outputs": [
    {
     "name": "stdout",
     "output_type": "stream",
     "text": [
      "[5.844622025049688, 6.143914130153133] contains mu of X_minor with about 95% confidence\n"
     ]
    }
   ],
   "source": [
    "confidence_interval_minor = [minor_mean - 2 * minor_se, minor_mean + 2 * minor_se]\n",
    "print(confidence_interval_minor, 'contains mu of X_minor with about 95% confidence')"
   ]
  },
  {
   "cell_type": "markdown",
   "metadata": {},
   "source": [
    "### Part 1C"
   ]
  },
  {
   "cell_type": "markdown",
   "metadata": {},
   "source": [
    "We can see that the confidence interval of each category does not overlap:"
   ]
  },
  {
   "cell_type": "code",
   "execution_count": 117,
   "metadata": {},
   "outputs": [
    {
     "name": "stdout",
     "output_type": "stream",
     "text": [
      "Right limit of major mu CI: 5.004331348758071 < Left limit of minor mu CI: 5.844622025049688\n"
     ]
    }
   ],
   "source": [
    "print('Right limit of major mu CI: {} < Left limit of minor mu CI: {}'.format(confidence_interval_major[1], confidence_interval_minor[0]))"
   ]
  },
  {
   "cell_type": "markdown",
   "metadata": {},
   "source": [
    " "
   ]
  },
  {
   "cell_type": "markdown",
   "metadata": {},
   "source": [
    "## Part 2 - Hypothesis"
   ]
  },
  {
   "cell_type": "markdown",
   "metadata": {},
   "source": [
    "### Part 2A"
   ]
  },
  {
   "cell_type": "markdown",
   "metadata": {},
   "source": [
    "Our null hypothesis and alternative hypothesis are:"
   ]
  },
  {
   "cell_type": "markdown",
   "metadata": {},
   "source": [
    "$$ H_0: \\mu_{major} - \\mu_{minor} = 0 $$\n",
    "$$ H_1: \\mu_{major} - \\mu_{minor} \\neq 0 $$"
   ]
  },
  {
   "cell_type": "markdown",
   "metadata": {},
   "source": [
    "### Part 2B"
   ]
  },
  {
   "cell_type": "code",
   "execution_count": 118,
   "metadata": {},
   "outputs": [],
   "source": [
    "def makeGraph(mode):\n",
    "    fig = plt.figure(figsize=(10, 6), dpi=80, facecolor='w', edgecolor='k')\n",
    "    ax = fig.add_subplot(221)\n",
    "    values = musicFrom2010_2019[musicFrom2010_2019['mode'] == mode]['key']\n",
    "    values.plot.kde(ax=ax, legend=False, title='major' if mode==1 else 'minor')\n",
    "    values.plot.hist(density=True, ax=ax)\n",
    "    ax.set_xlim([values.min() - 0.1, values.max() + 0.1])\n",
    "    ax.grid(axis='both')\n",
    "    ax.set_facecolor('#d8dcd6')\n",
    "    clear_output(wait=False)\n",
    "    return fig"
   ]
  },
  {
   "cell_type": "markdown",
   "metadata": {},
   "source": [
    "#### Minor distribution"
   ]
  },
  {
   "cell_type": "code",
   "execution_count": 119,
   "metadata": {},
   "outputs": [
    {
     "data": {
      "image/png": "[encoded data removed]",
      "text/plain": [
       "<Figure size 800x480 with 1 Axes>"
      ]
     },
     "metadata": {},
     "output_type": "display_data"
    }
   ],
   "source": [
    "fig = makeGraph(0)\n",
    "plt.show()"
   ]
  },
  {
   "cell_type": "markdown",
   "metadata": {},
   "source": [
    "#### Major distribution"
   ]
  },
  {
   "cell_type": "code",
   "execution_count": 120,
   "metadata": {},
   "outputs": [
    {
     "data": {
      "image/png": "[encoded data removed]",
      "text/plain": [
       "<Figure size 800x480 with 1 Axes>"
      ]
     },
     "metadata": {},
     "output_type": "display_data"
    }
   ],
   "source": [
    "fig = makeGraph(1)\n",
    "plt.show()"
   ]
  },
  {
   "cell_type": "markdown",
   "metadata": {},
   "source": [
    "We see that our two populations does not look like a normal distribution, and so we can't use t-test under the assumption that our data is normally distributed.\n",
    "However, due to the Central Limit Theorem we say our means are normally distributed and use them in the test."
   ]
  },
  {
   "cell_type": "markdown",
   "metadata": {},
   "source": [
    "### Part 2C"
   ]
  },
  {
   "cell_type": "markdown",
   "metadata": {},
   "source": [
    "We define our T test as follows:"
   ]
  },
  {
   "cell_type": "markdown",
   "metadata": {},
   "source": [
    "$$ H_0: \\mu_{major} - \\mu_{minor} = 0 $$\n",
    "$$ H_1: \\mu_{major} - \\mu_{minor} \\neq 0 $$\n",
    "$$ T.S: T= \\frac{(\\bar{X}_{major} - {\\bar{X}_{minor}})-0}{S_p \\sqrt{\\frac{1}{n_{major}}+\\frac{1}{n_{minor}}}} $$\n",
    "$$ R.R: T < -t_{1-\\alpha/2} $$\n",
    "$$ T > t_{1-\\alpha/2} $$"
   ]
  },
  {
   "cell_type": "code",
   "execution_count": 121,
   "metadata": {},
   "outputs": [
    {
     "name": "stdout",
     "output_type": "stream",
     "text": [
      "Our test statistic T equals:  -11.80803686438186\n"
     ]
    }
   ],
   "source": [
    "Sp2 = ((n_major - 1) * X_major.var() + (n_minor - 1) * X_minor.var()) / (n_major + n_minor - 2)\n",
    "Sp = np.sqrt(Sp2)\n",
    "T = (major_mean - minor_mean - 0) / (Sp * np.sqrt(1/n_major + 1/n_minor))\n",
    "print('Our test statistic T equals: ', T)"
   ]
  },
  {
   "cell_type": "code",
   "execution_count": 122,
   "metadata": {},
   "outputs": [
    {
     "name": "stdout",
     "output_type": "stream",
     "text": [
      "We check that our T calculations: 11.80803686438186 fits the ones from scipy: 11.808036864381833\n",
      "We find that the p-value is: 7.58362525494075e-32 \n",
      "\n",
      "Thus, we reject the null hypothesis.\n"
     ]
    }
   ],
   "source": [
    "ttest, pval = ttest_ind(X_minor, X_major)\n",
    "print('We check that our T calculations: {} fits the ones from scipy: {}'.format(abs(T), ttest))\n",
    "print(\"We find that the p-value is: {} \\n\".format(pval))\n",
    "\n",
    "if pval < 0.05:\n",
    "  print(\"Thus, we reject the null hypothesis.\")\n",
    "else:\n",
    "  print(\"Thus, we accept the null hypothesis.\")"
   ]
  },
  {
   "cell_type": "markdown",
   "metadata": {},
   "source": [
    "We see that our P-value is less than 0.05 and thus we conclude that with high probability $$ \\mu_{major} - \\mu_{minor} \\neq 0 $$\n",
    "We saw on the first part that the expectation confidence intervals did not overlap and so we expected the alternative hypothesis to be true, according to the t-test our expectations were correct."
   ]
  },
  {
   "cell_type": "markdown",
   "metadata": {},
   "source": [
    "#### Part 2D"
   ]
  },
  {
   "cell_type": "markdown",
   "metadata": {},
   "source": [
    "We define our Wald test as follows:"
   ]
  },
  {
   "cell_type": "markdown",
   "metadata": {},
   "source": [
    "$$ H_0: \\mu_{major} - \\mu_{minor} = 0 $$\n",
    "$$ H_1: \\mu_{major} - \\mu_{minor} \\neq 0 $$\n",
    "$$ T.S: W = \\frac{(\\bar{X}_{major} - {\\bar{X}_{minor}})-0}{\\sqrt{\\frac{S_{major}^2}{n_{major}}+\\frac{S_{minor}^2}{n_{minor}}}} $$\n",
    "$$ R.R: |W| > z_{\\alpha/2} $$"
   ]
  },
  {
   "cell_type": "code",
   "execution_count": 123,
   "metadata": {},
   "outputs": [
    {
     "name": "stdout",
     "output_type": "stream",
     "text": [
      "We will reject the null hypothesis if |W| > 1.9599639845400545\n"
     ]
    }
   ],
   "source": [
    "z_alpha_2 = sc.norm.ppf(.025)\n",
    "print('We will reject the null hypothesis if |W| > {}'.format(abs(z_alpha_2)))"
   ]
  },
  {
   "cell_type": "code",
   "execution_count": 124,
   "metadata": {},
   "outputs": [],
   "source": [
    "major_std_pow2 = np.power(np.std(X_major), 2)\n",
    "minor_std_pow2 = np.power(np.std(X_minor), 2)\n",
    "\n",
    "denominator = np.sqrt(((major_std_pow2 / len(X_major)) + (minor_std_pow2 / len(X_minor))))"
   ]
  },
  {
   "cell_type": "code",
   "execution_count": 125,
   "metadata": {},
   "outputs": [],
   "source": [
    "W = (major_mean - minor_mean - 0) / denominator"
   ]
  },
  {
   "cell_type": "code",
   "execution_count": 126,
   "metadata": {},
   "outputs": [
    {
     "name": "stdout",
     "output_type": "stream",
     "text": [
      "Our test statistics for the Wald test is: -11.816916648171947\n"
     ]
    }
   ],
   "source": [
    "print('Our test statistics for the Wald test is: {}'.format(W))"
   ]
  },
  {
   "cell_type": "markdown",
   "metadata": {},
   "source": [
    "Thus, with the Wald test we also reject the null hypothesis and conclude that the expectations of the major and minor categories are different."
   ]
  },
  {
   "cell_type": "code",
   "execution_count": 127,
   "metadata": {},
   "outputs": [
    {
     "name": "stdout",
     "output_type": "stream",
     "text": [
      "P-value for our Wald test is: 3.191856017873604e-32\n",
      "P-value for our t-test is: 7.58362525493858e-32\n"
     ]
    }
   ],
   "source": [
    "# pvalue of Wald Test\n",
    "pvalueWald = 2*scipy.stats.norm.cdf(-abs(W))\n",
    "print('P-value for our Wald test is: {}'.format(pvalueWald))\n",
    "\n",
    "# pvalue of T test\n",
    "pvalueT = 2*distributions.t.sf(abs(T), (n_major + n_minor - 2))\n",
    "print('P-value for our t-test is: {}'.format(pvalueT))"
   ]
  },
  {
   "cell_type": "markdown",
   "metadata": {},
   "source": [
    "#### Part 2E"
   ]
  },
  {
   "cell_type": "markdown",
   "metadata": {},
   "source": [
    "We rejected the null hypothesis in both tests, meaning that we can conclude that the expectation for the major and minor categories are different."
   ]
  },
  {
   "cell_type": "code",
   "execution_count": 128,
   "metadata": {},
   "outputs": [
    {
     "name": "stdout",
     "output_type": "stream",
     "text": [
      "Our test statistic which we denoted as T for t-test is: 11.80803686438186 and W for wald test is: 11.816916648171947\n"
     ]
    }
   ],
   "source": [
    "print('Our test statistic which we denoted as T for t-test is: {} and W for wald test is: {}'.format(abs(T),abs(W)))"
   ]
  },
  {
   "cell_type": "markdown",
   "metadata": {},
   "source": [
    "We see that the P-value for both tests is extremely small, however a bit different where the P-value for the the Wald test is smaller."
   ]
  },
  {
   "cell_type": "code",
   "execution_count": 129,
   "metadata": {},
   "outputs": [
    {
     "name": "stdout",
     "output_type": "stream",
     "text": [
      "P-value for our Wald test is: 3.191856017873604e-32\n",
      "P-value for our t-test is: 7.58362525493858e-32\n"
     ]
    }
   ],
   "source": [
    "pvalueWald = 2*scipy.stats.norm.cdf(-abs(W))\n",
    "print('P-value for our Wald test is: {}\\nP-value for our t-test is: {}'.format(pvalueWald, pvalueT))"
   ]
  },
  {
   "cell_type": "markdown",
   "metadata": {},
   "source": [
    "This kind of values for our P-values shows that we reject our null hypothesis with probability that is very close to 1.\n",
    "The probability of considering the null hypothesis is almost non existent, 0."
   ]
  },
  {
   "cell_type": "markdown",
   "metadata": {},
   "source": [
    " "
   ]
  },
  {
   "cell_type": "markdown",
   "metadata": {},
   "source": [
    "## Part 3 - Different Sample Sizes"
   ]
  },
  {
   "cell_type": "markdown",
   "metadata": {},
   "source": [
    "#### Part 3A\n",
    "\n",
    "Lets create random samples of 30, 50, 100 and 500:"
   ]
  },
  {
   "cell_type": "code",
   "execution_count": 130,
   "metadata": {},
   "outputs": [],
   "source": [
    "sample30 = musicFrom2010_2019.sample(30)\n",
    "sample30_X_minor = sample30[sample30['mode'] == 0]['key']\n",
    "sample30_X_major = sample30[sample30['mode'] == 1]['key']\n",
    "\n",
    "sample50 = musicFrom2010_2019.sample(50)\n",
    "sample50_X_minor = sample50[sample50['mode'] == 0]['key']\n",
    "sample50_X_major = sample50[sample50['mode'] == 1]['key']\n",
    "\n",
    "sample100 = musicFrom2010_2019.sample(100)\n",
    "sample100_X_minor = sample100[sample100['mode'] == 0]['key']\n",
    "sample100_X_major = sample100[sample100['mode'] == 1]['key']\n",
    "\n",
    "sample500 = musicFrom2010_2019.sample(500)\n",
    "sample500_X_minor = sample500[sample500['mode'] == 0]['key']\n",
    "sample500_X_major = sample500[sample500['mode'] == 1]['key']"
   ]
  },
  {
   "cell_type": "markdown",
   "metadata": {},
   "source": [
    "#### Part 3B\n",
    "\n",
    "Now we'll calculate confidene interval for each sample"
   ]
  },
  {
   "cell_type": "code",
   "execution_count": 131,
   "metadata": {},
   "outputs": [],
   "source": [
    "def calculate_confidence_interval(sample_X_minor, sample_X_major, print_result=True):\n",
    "    sample_major_mean = sample_X_major.mean()\n",
    "    sample_major_se = sample_X_major.sem()\n",
    "    sample_n_major = len(sample_X_major)\n",
    "    sample_confidence_interval_major = [sample_major_mean - 2 * sample_major_se, sample_major_mean + 2 * sample_major_se]\n",
    "    \n",
    "    sample_minor_mean = sample_X_minor.mean()\n",
    "    sample_minor_se = sample_X_minor.sem()\n",
    "    sample_n_minor = len(sample_X_minor)\n",
    "    sample_confidence_interval_minor = [sample_minor_mean - 2 * sample_minor_se, sample_minor_mean + 2 * sample_minor_se]\n",
    "    \n",
    "    if print_result:\n",
    "        print('Mean of X_major: ', sample_major_mean, '\\nNumber of samples X_major: ', sample_n_major)\n",
    "        print('Standard error of X_major: ', sample_major_se)\n",
    "        print(sample_confidence_interval_major, 'contains mu of X_major with about 95% confidence')\n",
    "        print('All data major confidence interval:',confidence_interval_major)\n",
    "        print()\n",
    "        print('Mean of X_minor: ', sample_minor_mean, '\\nNumber of samples X_minor: ', sample_n_minor)\n",
    "        print('Standard error of X_minor: ', sample_minor_se)\n",
    "        print(sample_confidence_interval_minor, 'contains mu of X_minor with about 95% confidence')\n",
    "        print('All data minor confidence interval:', confidence_interval_minor)\n",
    "        \n",
    "    return sample_confidence_interval_major, sample_confidence_interval_minor"
   ]
  },
  {
   "cell_type": "code",
   "execution_count": 132,
   "metadata": {},
   "outputs": [
    {
     "name": "stdout",
     "output_type": "stream",
     "text": [
      "Sample of 30\n",
      "-----------------------\n",
      "Mean of X_major:  5.05 \n",
      "Number of samples X_major:  20\n",
      "Standard error of X_major:  0.723569368878304\n",
      "[3.6028612622433918, 6.497138737756607] contains mu of X_major with about 95% confidence\n",
      "All data major confidence interval: [4.782109329208031, 5.004331348758071]\n",
      "\n",
      "Mean of X_minor:  6.0 \n",
      "Number of samples X_minor:  10\n",
      "Standard error of X_minor:  1.1450376024878444\n",
      "[3.7099247950243113, 8.29007520497569] contains mu of X_minor with about 95% confidence\n",
      "All data minor confidence interval: [5.844622025049688, 6.143914130153133]\n"
     ]
    }
   ],
   "source": [
    "print('Sample of 30')\n",
    "print('-----------------------')\n",
    "sample30_confidence_interval_major, sample30_confidence_interval_minor = calculate_confidence_interval(sample30_X_minor, sample30_X_major)"
   ]
  },
  {
   "cell_type": "code",
   "execution_count": 133,
   "metadata": {},
   "outputs": [
    {
     "name": "stdout",
     "output_type": "stream",
     "text": [
      "Sample of 50\n",
      "-----------------------\n",
      "Mean of X_major:  5.538461538461538 \n",
      "Number of samples X_major:  26\n",
      "Standard error of X_major:  0.6157691106519847\n",
      "[4.306923317157569, 6.769999759765508] contains mu of X_major with about 95% confidence\n",
      "All data major confidence interval: [4.782109329208031, 5.004331348758071]\n",
      "\n",
      "Mean of X_minor:  6.125 \n",
      "Number of samples X_minor:  24\n",
      "Standard error of X_minor:  0.8194035034397129\n",
      "[4.486192993120574, 7.763807006879426] contains mu of X_minor with about 95% confidence\n",
      "All data minor confidence interval: [5.844622025049688, 6.143914130153133]\n"
     ]
    }
   ],
   "source": [
    "print('Sample of 50')\n",
    "print('-----------------------')\n",
    "sample50_confidence_interval_major, sample50_confidence_interval_minor = calculate_confidence_interval(sample50_X_minor, sample50_X_major)"
   ]
  },
  {
   "cell_type": "code",
   "execution_count": 134,
   "metadata": {},
   "outputs": [
    {
     "name": "stdout",
     "output_type": "stream",
     "text": [
      "Sample of 100\n",
      "-----------------------\n",
      "Mean of X_major:  4.8 \n",
      "Number of samples X_major:  65\n",
      "Standard error of X_major:  0.45372390791690137\n",
      "[3.892552184166197, 5.7074478158338025] contains mu of X_major with about 95% confidence\n",
      "All data major confidence interval: [4.782109329208031, 5.004331348758071]\n",
      "\n",
      "Mean of X_minor:  5.6571428571428575 \n",
      "Number of samples X_minor:  35\n",
      "Standard error of X_minor:  0.5840209175816129\n",
      "[4.489101021979632, 6.825184692306083] contains mu of X_minor with about 95% confidence\n",
      "All data minor confidence interval: [5.844622025049688, 6.143914130153133]\n"
     ]
    }
   ],
   "source": [
    "print('Sample of 100')\n",
    "print('-----------------------')\n",
    "sample100_confidence_interval_major, sample100_confidence_interval_minor = calculate_confidence_interval(sample100_X_minor, sample100_X_major)"
   ]
  },
  {
   "cell_type": "code",
   "execution_count": 135,
   "metadata": {},
   "outputs": [
    {
     "name": "stdout",
     "output_type": "stream",
     "text": [
      "Sample of 500\n",
      "-----------------------\n",
      "Mean of X_major:  4.8522727272727275 \n",
      "Number of samples X_major:  352\n",
      "Standard error of X_major:  0.1897035154432166\n",
      "[4.472865696386294, 5.231679758159161] contains mu of X_major with about 95% confidence\n",
      "All data major confidence interval: [4.782109329208031, 5.004331348758071]\n",
      "\n",
      "Mean of X_minor:  6.1824324324324325 \n",
      "Number of samples X_minor:  148\n",
      "Standard error of X_minor:  0.2718714063801338\n",
      "[5.6386896196721645, 6.7261752451927] contains mu of X_minor with about 95% confidence\n",
      "All data minor confidence interval: [5.844622025049688, 6.143914130153133]\n"
     ]
    }
   ],
   "source": [
    "print('Sample of 500')\n",
    "print('-----------------------')\n",
    "sample500_confidence_interval_major, sample500_confidence_interval_minor = calculate_confidence_interval(sample500_X_minor, sample500_X_major)"
   ]
  },
  {
   "cell_type": "markdown",
   "metadata": {},
   "source": [
    "As you can see that all confidence intervals of the samples, contains all data confidence interval. "
   ]
  },
  {
   "cell_type": "markdown",
   "metadata": {},
   "source": [
    "#### Part 3C\n",
    "\n",
    "Now we'll calculate Wald test for each sample"
   ]
  },
  {
   "cell_type": "code",
   "execution_count": 136,
   "metadata": {},
   "outputs": [],
   "source": [
    "def wald_test(sample_X_major, sample_X_minor, print_result=True):\n",
    "    sample_n_major = len(sample_X_major)\n",
    "    sample_n_minor = len(sample_X_minor)\n",
    "    sample_major_std_pow2 = np.power(np.std(sample_X_major), 2)\n",
    "    sample_minor_std_pow2 = np.power(np.std(sample_X_minor), 2)\n",
    "    sample_minor_mean = sample_X_major.mean()\n",
    "    sample_major_mean = sample_X_minor.mean()\n",
    "\n",
    "    denominator = np.sqrt(((sample_major_std_pow2 / sample_n_major) + (sample_minor_std_pow2 / sample_n_minor)))\n",
    "    \n",
    "    sample_W = (sample_major_mean - sample_minor_mean - 0) / denominator\n",
    "    sample_pvalueWald = 2*scipy.stats.norm.cdf(-abs(sample_W))\n",
    "    \n",
    "    if print_result:\n",
    "        print('Sample test statistic W equals: {}'.format(abs(sample_W)))\n",
    "        print('All data test statistic W equals: {}'.format(abs(W)))    \n",
    "        print()\n",
    "        print('Sample P-value for our Wald test is: {}'.format(sample_pvalueWald))\n",
    "        print('All data P-value for our Wald test is: {}'.format(pvalueWald))\n",
    "        \n",
    "    return sample_W, sample_pvalueWald"
   ]
  },
  {
   "cell_type": "code",
   "execution_count": 137,
   "metadata": {},
   "outputs": [
    {
     "name": "stdout",
     "output_type": "stream",
     "text": [
      "Sample of 30\n",
      "-----------------------\n",
      "Sample test statistic W equals: 0.7335141943100632\n",
      "All data test statistic W equals: 11.816916648171947\n",
      "\n",
      "Sample P-value for our Wald test is: 0.463244873735441\n",
      "All data P-value for our Wald test is: 3.191856017873604e-32\n"
     ]
    }
   ],
   "source": [
    "print('Sample of 30')\n",
    "print('-----------------------')\n",
    "sample30_wald, sample30_pvalueWald = wald_test(sample30_X_minor, sample30_X_major)"
   ]
  },
  {
   "cell_type": "code",
   "execution_count": 138,
   "metadata": {},
   "outputs": [
    {
     "name": "stdout",
     "output_type": "stream",
     "text": [
      "Sample of 50\n",
      "-----------------------\n",
      "Sample test statistic W equals: 0.5841963650350763\n",
      "All data test statistic W equals: 11.816916648171947\n",
      "\n",
      "Sample P-value for our Wald test is: 0.5590882068282697\n",
      "All data P-value for our Wald test is: 3.191856017873604e-32\n"
     ]
    }
   ],
   "source": [
    "print('Sample of 50')\n",
    "print('-----------------------')\n",
    "sample50_wald, sample50_pvalueWald = wald_test(sample50_X_minor, sample50_X_major)"
   ]
  },
  {
   "cell_type": "code",
   "execution_count": 139,
   "metadata": {},
   "outputs": [
    {
     "name": "stdout",
     "output_type": "stream",
     "text": [
      "Sample of 100\n",
      "-----------------------\n",
      "Sample test statistic W equals: 1.1729215321516084\n",
      "All data test statistic W equals: 11.816916648171947\n",
      "\n",
      "Sample P-value for our Wald test is: 0.24082727394464043\n",
      "All data P-value for our Wald test is: 3.191856017873604e-32\n"
     ]
    }
   ],
   "source": [
    "print('Sample of 100')\n",
    "print('-----------------------')\n",
    "sample_wald100, sample_pvalue100Wald = wald_test(sample100_X_minor, sample100_X_major)"
   ]
  },
  {
   "cell_type": "code",
   "execution_count": 140,
   "metadata": {},
   "outputs": [
    {
     "name": "stdout",
     "output_type": "stream",
     "text": [
      "Sample of 500\n",
      "-----------------------\n",
      "Sample test statistic W equals: 4.023407731893003\n",
      "All data test statistic W equals: 11.816916648171947\n",
      "\n",
      "Sample P-value for our Wald test is: 5.7362062938460166e-05\n",
      "All data P-value for our Wald test is: 3.191856017873604e-32\n"
     ]
    }
   ],
   "source": [
    "print('Sample of 500')\n",
    "print('-----------------------')\n",
    "sample500_wald, sample_pvalue500Wald = wald_test(sample500_X_minor, sample500_X_major)"
   ]
  },
  {
   "cell_type": "markdown",
   "metadata": {},
   "source": [
    "\n",
    "From our results we can see that we cannot reject the null hypothesis for the sets of 30, 50, 100 samples from the dataset since our test statistic is smaller than $ W < z_{\\alpha/2} = 1.96 $.\n",
    "We see that the set of 500 samples has a test statistic  $ W > z_{\\alpha/2} $ and so for 500 samples we can reject the null hypothesis with a fairly small p-value.\n",
    "\n",
    "We assume that 30-100 samples might not be enough data to get to a conclusion about our expectation. Maybe because of the fact that the confidence intervals for those sets are very large and thus overlaps with each other resulting in a possibility that the expectations of both categories might be the same.\n",
    "\n",
    "We would like to add that since we sample randomly, some sample sets may act differently and reject the null hypothesis for 30-100 samples. However, in this run the results are as we mentioned above."
   ]
  },
  {
   "cell_type": "markdown",
   "metadata": {},
   "source": [
    "#### Part 3D"
   ]
  },
  {
   "cell_type": "code",
   "execution_count": 141,
   "metadata": {},
   "outputs": [],
   "source": [
    "def run_many_tests(sample_size, num_of_tests=100):\n",
    "    confidence_interval_major_list = []\n",
    "    confidence_interval_minor_list = []\n",
    "    wald_list = []\n",
    "    pvalueWald_list = []\n",
    "    for i in range(num_of_tests):\n",
    "        sample = musicFrom2010_2019.sample(sample_size)\n",
    "        sample_X_minor = sample[sample['mode'] == 0]['key']\n",
    "        sample_X_major = sample[sample['mode'] == 1]['key']\n",
    "        \n",
    "        sample_confidence_interval_major, sample_confidence_interval_minor = calculate_confidence_interval(sample_X_minor, sample_X_major, False)\n",
    "        confidence_interval_major_list.append(sample_confidence_interval_major)\n",
    "        confidence_interval_minor_list.append(sample_confidence_interval_minor)\n",
    "        \n",
    "        sample_wald, sample_pvalueWald = wald_test(sample_X_minor, sample_X_major, False)\n",
    "        wald_list.append(sample_wald)\n",
    "        pvalueWald_list.append(sample_pvalueWald)\n",
    "    \n",
    "    return confidence_interval_major_list, confidence_interval_minor_list, wald_list, pvalueWald_list"
   ]
  },
  {
   "cell_type": "code",
   "execution_count": 142,
   "metadata": {},
   "outputs": [],
   "source": [
    "def show_tests_result(title, confidence_interval_major_list, confidence_interval_minor_list, wald_list, pvalueWald_list): \n",
    "    fig, axs = plt.subplots(2, 2, tight_layout=True, figsize=(10, 6), dpi=80, facecolor='w', edgecolor='k')\n",
    "    fig.suptitle(title, fontsize=16)\n",
    "    \n",
    "    # Minor range\n",
    "    axs[0][0].grid(color='grey', linestyle='-', linewidth=0.2)\n",
    "    N, bins, patches = axs[0][0].hist(np.array(confidence_interval_minor_list), density=True)\n",
    "    max_N = max(np.concatenate(N))\n",
    "    axs[0][0].set_xticks(np.arange(int(bins.min()),int(bins.max()+1),1))\n",
    "    l_0_low = Line2D([confidence_interval_minor[0],confidence_interval_minor[0]], [0,max_N], color='red')\n",
    "    axs[0][0].add_line(l_0_low)\n",
    "    l_0_high = Line2D([confidence_interval_minor[1],confidence_interval_minor[1]], [0,max_N], color='red')\n",
    "    axs[0][0].add_line(l_0_high)\n",
    "    axs[0][0].set_title('Minor Confidence Interval')\n",
    "\n",
    "    # Major range\n",
    "    axs[0][1].grid(color='grey', linestyle='-', linewidth=0.2)\n",
    "    N, bins, patches = axs[0][1].hist(np.array(confidence_interval_major_list), density=True)\n",
    "    axs[0][1].set_xticks(np.arange(int(bins.min()),int(bins.max()+1),1))\n",
    "    l_1_low = Line2D([confidence_interval_major[0],confidence_interval_major[0]], [0,max_N], color='red')\n",
    "    axs[0][1].add_line(l_1_low)\n",
    "    l_1_high = Line2D([confidence_interval_major[1],confidence_interval_major[1]], [0,max_N], color='red')\n",
    "    axs[0][1].add_line(l_1_high)\n",
    "    axs[0][1].set_title('Major Confidence Interval')\n",
    "\n",
    "    # Wald test\n",
    "    axs[1][0].grid(color='grey', linestyle='-', linewidth=0.2)\n",
    "    N, bins, patches = axs[1][0].hist(np.array(wald_list), density=True)\n",
    "    l_3 = Line2D([W,W], [0,N.max()], color='red')\n",
    "    axs[1][0].add_line(l_3)\n",
    "    axs[1][0].set_title('Wald Test')\n",
    "\n",
    "    # Wald Test P-Value\n",
    "    axs[1][1].grid(color='grey', linestyle='-', linewidth=0.2)\n",
    "    N, bins, patches = axs[1][1].hist(np.array(pvalueWald_list), density=True)\n",
    "    l_4 = Line2D([pvalueWald,pvalueWald], [0,N.max()], color='red')\n",
    "    axs[1][1].add_line(l_4)\n",
    "    axs[1][1].set_title('Wald Test P-Value')\n",
    "\n",
    "    plt.show()"
   ]
  },
  {
   "cell_type": "code",
   "execution_count": 143,
   "metadata": {},
   "outputs": [
    {
     "name": "stderr",
     "output_type": "stream",
     "text": [
      "/usr/local/lib/python3.7/site-packages/matplotlib/figure.py:2359: UserWarning: This figure includes Axes that are not compatible with tight_layout, so results might be incorrect.\n",
      "  warnings.warn(\"This figure includes Axes that are not compatible \"\n"
     ]
    },
    {
     "data": {
      "image/png": "[encoded data removed]",
      "text/plain": [
       "<Figure size 800x480 with 4 Axes>"
      ]
     },
     "metadata": {},
     "output_type": "display_data"
    }
   ],
   "source": [
    "confidence_interval_major_list, confidence_interval_minor_list, wald_list, pvalueWald_list = run_many_tests(30)\n",
    "show_tests_result('30 Samples', confidence_interval_major_list, confidence_interval_minor_list, wald_list, pvalueWald_list)"
   ]
  },
  {
   "cell_type": "markdown",
   "metadata": {},
   "source": [
    "Above, you can see histograms of the requested data.<br/>\n",
    "In all plots the red lines represent the all-data value.<br/>\n",
    "In confidence range the blue color represent the lower value of the range and the orange color represent the upper value of the range."
   ]
  },
  {
   "cell_type": "code",
   "execution_count": 144,
   "metadata": {},
   "outputs": [
    {
     "data": {
      "image/png": "[encoded data removed]",
      "text/plain": [
       "<Figure size 800x480 with 4 Axes>"
      ]
     },
     "metadata": {},
     "output_type": "display_data"
    }
   ],
   "source": [
    "confidence_interval_major_list, confidence_interval_minor_list, wald_list, pvalueWald_list = run_many_tests(50)\n",
    "show_tests_result('50 Samples', confidence_interval_major_list, confidence_interval_minor_list, wald_list, pvalueWald_list)"
   ]
  },
  {
   "cell_type": "code",
   "execution_count": 145,
   "metadata": {},
   "outputs": [
    {
     "data": {
      "image/png": "[encoded data removed]",
      "text/plain": [
       "<Figure size 800x480 with 4 Axes>"
      ]
     },
     "metadata": {},
     "output_type": "display_data"
    }
   ],
   "source": [
    "confidence_interval_major_list, confidence_interval_minor_list, wald_list, pvalueWald_list = run_many_tests(100)\n",
    "show_tests_result('100 Samples', confidence_interval_major_list, confidence_interval_minor_list, wald_list, pvalueWald_list)"
   ]
  },
  {
   "cell_type": "code",
   "execution_count": 146,
   "metadata": {},
   "outputs": [
    {
     "data": {
      "image/png": "[encoded data removed]",
      "text/plain": [
       "<Figure size 800x480 with 4 Axes>"
      ]
     },
     "metadata": {},
     "output_type": "display_data"
    }
   ],
   "source": [
    "confidence_interval_major_list, confidence_interval_minor_list, wald_list, pvalueWald_list = run_many_tests(500)\n",
    "show_tests_result('500 Samples',confidence_interval_major_list, confidence_interval_minor_list, wald_list, pvalueWald_list)"
   ]
  },
  {
   "cell_type": "code",
   "execution_count": 147,
   "metadata": {},
   "outputs": [],
   "source": [
    "def calculate_mean_percentage(interval_list, mean):\n",
    "    interval_list_len = len(interval_list)\n",
    "    mean_appearences = 0\n",
    "    for interval in interval_list:\n",
    "        if mean >= interval[0] and mean <=interval[1]:\n",
    "            mean_appearences += 1\n",
    "    return (mean_appearences / interval_list_len) * 100"
   ]
  },
  {
   "cell_type": "markdown",
   "metadata": {},
   "source": [
    "As you can see the ranges of the confidence interval of the samples are reduced as the sampling increases.<br/>\n",
    "In addition, the Wald test results does not provide a result that rejects the null-hypotesis. The P-value is much more higher above all-data P-value.<br/>\n",
    "So we are assuming that the sample size is too small.\n",
    "\n",
    "\n"
   ]
  },
  {
   "cell_type": "code",
   "execution_count": 148,
   "metadata": {},
   "outputs": [
    {
     "name": "stdout",
     "output_type": "stream",
     "text": [
      "The mean of X major: 4.893220338983051 appeared in 94.0% of the 100 confidence intervals of 30 samples.\n",
      "The mean of X minor: 5.994268077601411 appeared in 90.0% of the 100 confidence intervals of 30 samples.\n",
      "-----------------------\n",
      "The mean of X major: 4.893220338983051 appeared in 93.0% of the 100 confidence intervals of 50 samples.\n",
      "The mean of X minor: 5.994268077601411 appeared in 90.0% of the 100 confidence intervals of 50 samples.\n",
      "-----------------------\n",
      "The mean of X major: 4.893220338983051 appeared in 94.0% of the 100 confidence intervals of 100 samples.\n",
      "The mean of X minor: 5.994268077601411 appeared in 93.0% of the 100 confidence intervals of 100 samples.\n",
      "-----------------------\n",
      "The mean of X major: 4.893220338983051 appeared in 98.0% of the 100 confidence intervals of 500 samples.\n",
      "The mean of X minor: 5.994268077601411 appeared in 98.0% of the 100 confidence intervals of 500 samples.\n",
      "-----------------------\n"
     ]
    }
   ],
   "source": [
    "sample_sets = [30, 50, 100, 500]\n",
    "for sample_set in sample_sets:\n",
    "    confidence_interval_major_list, confidence_interval_minor_list, wald_list, pvalueWald_list = run_many_tests(sample_set)\n",
    "    major_mean_percentage = calculate_mean_percentage(confidence_interval_major_list, major_mean)\n",
    "    minor_mean_percentage = calculate_mean_percentage(confidence_interval_minor_list, minor_mean)\n",
    "    \n",
    "    print('The mean of X major: {} appeared in {}% of the 100 confidence intervals of {} samples.'.format(major_mean, major_mean_percentage, sample_set))\n",
    "    print('The mean of X minor: {} appeared in {}% of the 100 confidence intervals of {} samples.'.format(minor_mean, minor_mean_percentage, sample_set))\n",
    "    print('-----------------------')"
   ]
  },
  {
   "cell_type": "markdown",
   "metadata": {},
   "source": [
    "We see that our real expectations for the minor and major categories appear in most confidence intervals and we can't see a big difference for the major category between the different samples.\n",
    "\n",
    "For the minor category we see that for 30 and 50 samples the expectation appeared slightly less than on bigger sample sets."
   ]
  }
 ],
 "metadata": {
  "kernelspec": {
   "display_name": "Python 3",
   "language": "python",
   "name": "python3"
  },
  "language_info": {
   "codemirror_mode": {
    "name": "ipython",
    "version": 3
   },
   "file_extension": ".py",
   "mimetype": "text/x-python",
   "name": "python",
   "nbconvert_exporter": "python",
   "pygments_lexer": "ipython3",
   "version": "3.7.0"
  }
 },
 "nbformat": 4,
 "nbformat_minor": 2
}
